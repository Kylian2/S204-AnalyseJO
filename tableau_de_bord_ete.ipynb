{
 "cells": [
  {
   "cell_type": "code",
   "execution_count": 1,
   "metadata": {},
   "outputs": [],
   "source": [
    "# A décommenter à la première exécution si jupyter se plaint de ne pas trouver oracledb\n",
    "#!pip install --upgrade oracledb"
   ]
  },
  {
   "cell_type": "code",
   "execution_count": 2,
   "metadata": {},
   "outputs": [],
   "source": [
    "# Compléter ici les imports dont vous avez besoin, ne pas modifier ceux déjà présents\n",
    "import getpass\n",
    "from os import getenv\n",
    "import pandas as pd\n",
    "import oracledb\n",
    "import warnings\n",
    "import matplotlib.pyplot as plt\n",
    "import folium"
   ]
  },
  {
   "cell_type": "code",
   "execution_count": 3,
   "metadata": {},
   "outputs": [
    {
     "data": {
      "text/html": [
       "<div style=\"width:100%;\"><div style=\"position:relative;width:100%;height:0;padding-bottom:60%;\"><span style=\"color:#565656\">Make this Notebook Trusted to load map: File -> Trust Notebook</span><iframe srcdoc=\"&lt;!DOCTYPE html&gt;\n",
       "&lt;html&gt;\n",
       "&lt;head&gt;\n",
       "    \n",
       "    &lt;meta http-equiv=&quot;content-type&quot; content=&quot;text/html; charset=UTF-8&quot; /&gt;\n",
       "    \n",
       "        &lt;script&gt;\n",
       "            L_NO_TOUCH = false;\n",
       "            L_DISABLE_3D = false;\n",
       "        &lt;/script&gt;\n",
       "    \n",
       "    &lt;style&gt;html, body {width: 100%;height: 100%;margin: 0;padding: 0;}&lt;/style&gt;\n",
       "    &lt;style&gt;#map {position:absolute;top:0;bottom:0;right:0;left:0;}&lt;/style&gt;\n",
       "    &lt;script src=&quot;https://cdn.jsdelivr.net/npm/leaflet@1.9.3/dist/leaflet.js&quot;&gt;&lt;/script&gt;\n",
       "    &lt;script src=&quot;https://code.jquery.com/jquery-3.7.1.min.js&quot;&gt;&lt;/script&gt;\n",
       "    &lt;script src=&quot;https://cdn.jsdelivr.net/npm/bootstrap@5.2.2/dist/js/bootstrap.bundle.min.js&quot;&gt;&lt;/script&gt;\n",
       "    &lt;script src=&quot;https://cdnjs.cloudflare.com/ajax/libs/Leaflet.awesome-markers/2.0.2/leaflet.awesome-markers.js&quot;&gt;&lt;/script&gt;\n",
       "    &lt;link rel=&quot;stylesheet&quot; href=&quot;https://cdn.jsdelivr.net/npm/leaflet@1.9.3/dist/leaflet.css&quot;/&gt;\n",
       "    &lt;link rel=&quot;stylesheet&quot; href=&quot;https://cdn.jsdelivr.net/npm/bootstrap@5.2.2/dist/css/bootstrap.min.css&quot;/&gt;\n",
       "    &lt;link rel=&quot;stylesheet&quot; href=&quot;https://netdna.bootstrapcdn.com/bootstrap/3.0.0/css/bootstrap.min.css&quot;/&gt;\n",
       "    &lt;link rel=&quot;stylesheet&quot; href=&quot;https://cdn.jsdelivr.net/npm/@fortawesome/fontawesome-free@6.2.0/css/all.min.css&quot;/&gt;\n",
       "    &lt;link rel=&quot;stylesheet&quot; href=&quot;https://cdnjs.cloudflare.com/ajax/libs/Leaflet.awesome-markers/2.0.2/leaflet.awesome-markers.css&quot;/&gt;\n",
       "    &lt;link rel=&quot;stylesheet&quot; href=&quot;https://cdn.jsdelivr.net/gh/python-visualization/folium/folium/templates/leaflet.awesome.rotate.min.css&quot;/&gt;\n",
       "    \n",
       "            &lt;meta name=&quot;viewport&quot; content=&quot;width=device-width,\n",
       "                initial-scale=1.0, maximum-scale=1.0, user-scalable=no&quot; /&gt;\n",
       "            &lt;style&gt;\n",
       "                #map_ec69e4a68ed6333bd5c4195ca4a688e3 {\n",
       "                    position: relative;\n",
       "                    width: 1200.0px;\n",
       "                    height: 250.0px;\n",
       "                    left: 0.0%;\n",
       "                    top: 0.0%;\n",
       "                }\n",
       "                .leaflet-container { font-size: 1rem; }\n",
       "            &lt;/style&gt;\n",
       "        \n",
       "&lt;/head&gt;\n",
       "&lt;body&gt;\n",
       "    \n",
       "    \n",
       "            &lt;div class=&quot;folium-map&quot; id=&quot;map_ec69e4a68ed6333bd5c4195ca4a688e3&quot; &gt;&lt;/div&gt;\n",
       "        \n",
       "&lt;/body&gt;\n",
       "&lt;script&gt;\n",
       "    \n",
       "    \n",
       "            var map_ec69e4a68ed6333bd5c4195ca4a688e3 = L.map(\n",
       "                &quot;map_ec69e4a68ed6333bd5c4195ca4a688e3&quot;,\n",
       "                {\n",
       "                    center: [-33.8688, 151.2093],\n",
       "                    crs: L.CRS.EPSG3857,\n",
       "                    zoom: 10,\n",
       "                    zoomControl: true,\n",
       "                    preferCanvas: false,\n",
       "                }\n",
       "            );\n",
       "\n",
       "            \n",
       "\n",
       "        \n",
       "    \n",
       "            var tile_layer_15d3db4551bfa457a1294156910e838d = L.tileLayer(\n",
       "                &quot;https://tile.openstreetmap.org/{z}/{x}/{y}.png&quot;,\n",
       "                {&quot;attribution&quot;: &quot;\\u0026copy; \\u003ca href=\\&quot;https://www.openstreetmap.org/copyright\\&quot;\\u003eOpenStreetMap\\u003c/a\\u003e contributors&quot;, &quot;detectRetina&quot;: false, &quot;maxNativeZoom&quot;: 19, &quot;maxZoom&quot;: 19, &quot;minZoom&quot;: 0, &quot;noWrap&quot;: false, &quot;opacity&quot;: 1, &quot;subdomains&quot;: &quot;abc&quot;, &quot;tms&quot;: false}\n",
       "            );\n",
       "        \n",
       "    \n",
       "            tile_layer_15d3db4551bfa457a1294156910e838d.addTo(map_ec69e4a68ed6333bd5c4195ca4a688e3);\n",
       "        \n",
       "    \n",
       "            var marker_1b7a741f4b20956e523ff5a37c54910a = L.marker(\n",
       "                [-33.8688, 151.2093],\n",
       "                {}\n",
       "            ).addTo(map_ec69e4a68ed6333bd5c4195ca4a688e3);\n",
       "        \n",
       "    \n",
       "        var popup_0a8449669b6c57c7c290c40ecf8f177d = L.popup({&quot;maxWidth&quot;: &quot;100%&quot;});\n",
       "\n",
       "        \n",
       "            \n",
       "                var html_a96a677f684d067aea80e736c016d2d6 = $(`&lt;div id=&quot;html_a96a677f684d067aea80e736c016d2d6&quot; style=&quot;width: 100.0%; height: 100.0%;&quot;&gt;Sydney&lt;/div&gt;`)[0];\n",
       "                popup_0a8449669b6c57c7c290c40ecf8f177d.setContent(html_a96a677f684d067aea80e736c016d2d6);\n",
       "            \n",
       "        \n",
       "\n",
       "        marker_1b7a741f4b20956e523ff5a37c54910a.bindPopup(popup_0a8449669b6c57c7c290c40ecf8f177d)\n",
       "        ;\n",
       "\n",
       "        \n",
       "    \n",
       "&lt;/script&gt;\n",
       "&lt;/html&gt;\" style=\"position:absolute;width:100%;height:100%;left:0;top:0;border:none !important;\" allowfullscreen webkitallowfullscreen mozallowfullscreen></iframe></div></div>"
      ],
      "text/plain": [
       "<folium.folium.Map at 0x13fcdc380>"
      ]
     },
     "execution_count": 3,
     "metadata": {},
     "output_type": "execute_result"
    }
   ],
   "source": [
    "sydney_coords = [-33.8688, 151.2093]\n",
    "\n",
    "# Créer une carte centrée sur Sydney\n",
    "sydney_map = folium.Map(location=sydney_coords, width=1200, height=250)\n",
    "\n",
    "# Ajouter un marqueur pour Sydney\n",
    "folium.Marker(location=sydney_coords, popup='Sydney').add_to(sydney_map)\n",
    "\n",
    "# Afficher la carte\n",
    "sydney_map"
   ]
  },
  {
   "cell_type": "code",
   "execution_count": 4,
   "metadata": {
    "deletable": false,
    "editable": false,
    "trusted": true
   },
   "outputs": [],
   "source": [
    "# Nécessaire pour éviter les problèmes de session\n",
    "class Connexion(object):\n",
    "    def __init__(self, login, password):\n",
    "        self.conn = oracledb.connect(\n",
    "            user=login,\n",
    "            password=password,\n",
    "            host=\"oracle.iut-orsay.fr\",\n",
    "            port=1521,\n",
    "            sid=\"etudom\",\n",
    "        )\n",
    "        self.conn.autocommit = False\n",
    "\n",
    "    def __enter__(self):\n",
    "        self.conn.autocommit = False\n",
    "        return self.conn\n",
    "\n",
    "    def __exit__(self, *args):\n",
    "        self.conn.close()"
   ]
  },
  {
   "cell_type": "code",
   "execution_count": 5,
   "metadata": {
    "deletable": false,
    "editable": false,
    "trusted": true
   },
   "outputs": [],
   "source": [
    "# La fonction ci-dessous est à utiliser pour exécuter une requête et stocker les résultats dans un dataframe Pandas sans afficher d’alerte.\n",
    "# Vous pouvez vous en inspirer pour créer vos propres fonctions.\n",
    "def requete_vers_dataframe(connexion_data, requete, valeurs = None):\n",
    "    with Connexion(login=connexion_data['login'], password=connexion_data['password']) as connexion:\n",
    "        warnings.simplefilter(action='ignore', category=UserWarning)\n",
    "        if valeurs is not None:\n",
    "            df = pd.read_sql(requete, connexion, params=valeurs)\n",
    "        else:\n",
    "            df = pd.read_sql(requete, connexion)\n",
    "        warnings.simplefilter(\"always\") \n",
    "        return df"
   ]
  },
  {
   "cell_type": "code",
   "execution_count": 6,
   "metadata": {},
   "outputs": [],
   "source": [
    "# Saisir ci-dessous l'édition des JO qui vous a été attribuée. Cela correspond au LibelleHote dans la table HOTE de la base de données\n",
    "# Par exemple EDITION_JO = \"2020 Summer Olympics\"\n",
    "EDITION_JO = \"2000 Summer Olympics\"\n",
    "# Saisir ci-dessous le login court de la base utilisée pour votre carnet\n",
    "SCHEMA = \"KRICHA2\""
   ]
  },
  {
   "cell_type": "markdown",
   "metadata": {
    "deletable": false,
    "editable": false,
    "trusted": true
   },
   "source": [
    "# TABLEAU DE BORD DES JO"
   ]
  },
  {
   "cell_type": "markdown",
   "metadata": {
    "deletable": false,
    "editable": false,
    "trusted": true
   },
   "source": [
    "## Partie consultation des données"
   ]
  },
  {
   "cell_type": "code",
   "execution_count": 7,
   "metadata": {
    "deletable": false,
    "editable": false,
    "trusted": true
   },
   "outputs": [],
   "source": [
    "# On demande à l'utilisateur son login et mot de passe pour pouvoir accéder à la base de données\n",
    "if getenv(\"DB_LOGIN\") is None:\n",
    "    login = input(\"Login : \")\n",
    "else:\n",
    "    login = getenv(\"DB_LOGIN\")\n",
    "if getenv(\"DB_PASS\") is None:\n",
    "    password = getpass.getpass(\"Mot de passe : \")\n",
    "else:\n",
    "    password = getenv(\"DB_PASS\")\n",
    "conn = {'login': login, 'password': password}"
   ]
  },
  {
   "cell_type": "code",
   "execution_count": 8,
   "metadata": {},
   "outputs": [
    {
     "name": "stdout",
     "output_type": "stream",
     "text": [
      "Identifiant de l’hôte : 25\n"
     ]
    }
   ],
   "source": [
    "# On vérifie que l'utilisateur est bien connecté à la base de données, que le schéma est bon, et qu'on trouve la bonne édition des JO\n",
    "data = requete_vers_dataframe(conn, f\"SELECT * FROM {SCHEMA}.HOTE WHERE LibelleHote LIKE (:libelle)\",{\"libelle\":EDITION_JO})\n",
    "id_hote = int(data.IDHOTE.iloc[0])\n",
    "print(f\"Identifiant de l’hôte : {id_hote}\")"
   ]
  },
  {
   "cell_type": "markdown",
   "metadata": {},
   "source": [
    "### Statistiques de base : participation"
   ]
  },
  {
   "cell_type": "markdown",
   "metadata": {},
   "source": [
    "#### Nombre de nations participant à ces JO"
   ]
  },
  {
   "cell_type": "code",
   "execution_count": 9,
   "metadata": {},
   "outputs": [
    {
     "data": {
      "text/html": [
       "<div>\n",
       "<style scoped>\n",
       "    .dataframe tbody tr th:only-of-type {\n",
       "        vertical-align: middle;\n",
       "    }\n",
       "\n",
       "    .dataframe tbody tr th {\n",
       "        vertical-align: top;\n",
       "    }\n",
       "\n",
       "    .dataframe thead th {\n",
       "        text-align: right;\n",
       "    }\n",
       "</style>\n",
       "<table border=\"1\" class=\"dataframe\">\n",
       "  <thead>\n",
       "    <tr style=\"text-align: right;\">\n",
       "      <th></th>\n",
       "      <th>nbNationJO</th>\n",
       "    </tr>\n",
       "  </thead>\n",
       "  <tbody>\n",
       "    <tr>\n",
       "      <th>0</th>\n",
       "      <td>200</td>\n",
       "    </tr>\n",
       "  </tbody>\n",
       "</table>\n",
       "</div>"
      ],
      "text/plain": [
       "   nbNationJO\n",
       "0         200"
      ]
     },
     "execution_count": 9,
     "metadata": {},
     "output_type": "execute_result"
    }
   ],
   "source": [
    "# Calculer avec une requête et afficher le nombre de nations participant à cette édition\n",
    "nationJO = requete_vers_dataframe(conn, f\"\"\"SELECT COUNT(DISTINCT NOC) AS \"nbNationJO\" FROM (\n",
    "SELECT NOC FROM {SCHEMA}.EVENEMENT E\n",
    "INNER JOIN {SCHEMA}.PARTICIPATION_INDIVIDUELLE PI ON PI.idEvent = E.idEvenement\n",
    "WHERE IDHOTE = '{id_hote}'\n",
    "UNION ALL\n",
    "SELECT NOC FROM {SCHEMA}.EVENEMENT E\n",
    "INNER JOIN {SCHEMA}.PARTICIPATION_EQUIPE PE ON PE.idEvenement = E.idEvenement\n",
    "INNER JOIN {SCHEMA}.EQUIPE E ON E.idEquipe = PE.idEquipe\n",
    "WHERE IDHOTE = '{id_hote}')\"\"\")\n",
    "\n",
    "nationJO"
   ]
  },
  {
   "cell_type": "markdown",
   "metadata": {},
   "source": [
    "#### Nombre d'athlètes participant à ces JO, répartition par genre et /ou par pays"
   ]
  },
  {
   "cell_type": "code",
   "execution_count": 10,
   "metadata": {},
   "outputs": [
    {
     "name": "stdout",
     "output_type": "stream",
     "text": [
      "Nombre total d'athlètes participants :\n",
      "[10832]\n",
      "\n",
      "Tableau répartition par genre :\n",
      "    GENRE  Nombre\n",
      "0    Male    8516\n",
      "1  Female    5525\n",
      "\n",
      "Tableau répartition par pays :\n",
      "   NOC  Nombre\n",
      "0  AUS     803\n",
      "1  USA     781\n",
      "2  RUS     606\n",
      "3  GER     578\n",
      "4  FRA     473\n"
     ]
    }
   ],
   "source": [
    "# Calculer avec une requête et afficher le nombre d’athlètes participant et la répartition par genre et/ou par pays\n",
    "\n",
    "athleteJO = requete_vers_dataframe(conn, f\"\"\"SELECT idAthlete, Genre, NOC FROM(\n",
    "SELECT A.idAthlete, A.Genre, PI.NOC  FROM {SCHEMA}.EVENEMENT E\n",
    "INNER JOIN {SCHEMA}.PARTICIPATION_INDIVIDUELLE PI ON PI.idEvent = E.idEvenement\n",
    "INNER JOIN {SCHEMA}.ATHLETE A ON A.idAthlete = PI.idAthlete\n",
    "WHERE IDHOTE = '{id_hote}'\n",
    "UNION ALL\n",
    "SELECT A.idAthlete, A.Genre, E.NOC  FROM EVENEMENT E\n",
    "INNER JOIN {SCHEMA}.PARTICIPATION_EQUIPE PE ON PE.idEvenement = E.idEvenement\n",
    "INNER JOIN {SCHEMA}.EQUIPE E ON E.idEquipe = PE.idEquipe\n",
    "INNER JOIN {SCHEMA}.COMPOSITION_EQUIPE CE ON CE.idEquipe = E.idEquipe\n",
    "INNER JOIN {SCHEMA}.ATHLETE A ON A.idAthlete = CE.idAthlete\n",
    "WHERE IDHOTE = '{id_hote}')\"\"\")\n",
    "\n",
    "# nombre total d'athlete\n",
    "nombre_athletes = athleteJO[['IDATHLETE']].nunique()\n",
    "print(\"Nombre total d'athlètes participants :\")\n",
    "print(nombre_athletes.values)\n",
    "# nombre d'athlete par genre\n",
    "repartition_genre = athleteJO['GENRE'].value_counts()\n",
    "print(\"\\nTableau répartition par genre :\")\n",
    "print(pd.DataFrame(repartition_genre).reset_index().rename(columns = {'count': 'Nombre'}))\n",
    "# nombre d'athlete par pays\n",
    "repartition_pays = athleteJO['NOC'].value_counts()\n",
    "print(\"\\nTableau répartition par pays :\")\n",
    "print(pd.DataFrame(repartition_pays).reset_index().rename(columns = {'count': 'Nombre'}).head())\n"
   ]
  },
  {
   "cell_type": "markdown",
   "metadata": {
    "deletable": false,
    "editable": false,
    "trusted": true
   },
   "source": [
    "### Les médailles décernées lors de ces JO"
   ]
  },
  {
   "cell_type": "markdown",
   "metadata": {
    "deletable": false,
    "editable": false,
    "trusted": true
   },
   "source": [
    "#### Médailles individuelles (épreuves individuelles)"
   ]
  },
  {
   "cell_type": "markdown",
   "metadata": {
    "deletable": false,
    "editable": false,
    "trusted": true
   },
   "source": [
    "##### Tableau du TOP 10 individuel"
   ]
  },
  {
   "cell_type": "code",
   "execution_count": 11,
   "metadata": {},
   "outputs": [
    {
     "name": "stdout",
     "output_type": "stream",
     "text": [
      "   IDATHLETE PRENOMATHLETE            NOMATHLETE  GOLD  SILVER  BRONZE  TOTAL\n",
      "0      30978       Aleksey                 Nemov     2       1       2      5\n",
      "1      13253      Leontien  Zijlaard-van Moorsel     3       1       0      4\n",
      "2      49315          Inge             de Bruijn     3       0       0      3\n",
      "3      93833          Yana             Klochkova     2       1       0      3\n",
      "4      49500        Pieter    van den Hoogenband     2       0       1      3\n",
      "5      48575         Massi              Rosolino     1       1       1      3\n",
      "6      51218          Dara                Torres     0       0       3      3\n",
      "7      13061       Félicia             Ballanger     2       0       0      2\n",
      "8      50965        Brooke               Bennett     2       0       0      2\n",
      "9      93557      Domenico            Fioravanti     2       0       0      2\n"
     ]
    },
    {
     "data": {
      "image/png": "[encoded data removed]",
      "text/plain": [
       "<Figure size 1200x300 with 1 Axes>"
      ]
     },
     "metadata": {},
     "output_type": "display_data"
    }
   ],
   "source": [
    "# Récupérer les données, les transformer si nécessaire, puis afficher sous forme de tableau et/ou d'un graphique\n",
    "\n",
    "classementAthletesIndividuel = requete_vers_dataframe(conn,f\"\"\" SELECT  A.idAthlete, A.prenomAthlete, A.nomAthlete,\n",
    "SUM(CASE WHEN PI.Medaille = 'Gold' THEN 1 ELSE 0 END) AS Gold,\n",
    "SUM(CASE WHEN PI.Medaille = 'Silver' THEN 1 ELSE 0 END) AS Silver,\n",
    "SUM(CASE WHEN PI.Medaille = 'Bronze' THEN 1 ELSE 0 END) AS Bronze,\n",
    "COUNT(PI.Medaille) AS Total \n",
    "FROM {SCHEMA}.EVENEMENT E \n",
    "INNER JOIN {SCHEMA}.PARTICIPATION_INDIVIDUELLE PI ON PI.idEvent = E.idEvenement\n",
    "INNER JOIN {SCHEMA}.ATHLETE A ON A.idAthlete = PI.idAthlete\n",
    "WHERE IDHOTE = '{id_hote}'\n",
    "GROUP BY A.idAthlete, A.prenomAthlete, A.nomAthlete\n",
    "ORDER BY Total DESC, Gold DESC, Silver DESC, Bronze DESC, nomathlete, \n",
    "prenomathlete, idathlete\"\"\")\n",
    "athleteTop10Individuel = classementAthletesIndividuel.iloc[0:10]\n",
    "\n",
    "print(athleteTop10Individuel)      #afficher les 10 premieres lignes de la dataFrame\n",
    "\n",
    "plt.figure(figsize=(12, 3))\n",
    "plt.bar(athleteTop10Individuel['NOMATHLETE'], athleteTop10Individuel['TOTAL'])\n",
    "plt.xlabel('Athlete')\n",
    "plt.ylabel('Total des Médailles')\n",
    "plt.title('Total des Médailles par Athlete')\n",
    "plt.xticks(rotation=45)\n",
    "plt.show()"
   ]
  },
  {
   "cell_type": "markdown",
   "metadata": {},
   "source": [
    "##### Répartition par NOC"
   ]
  },
  {
   "cell_type": "code",
   "execution_count": 12,
   "metadata": {},
   "outputs": [
    {
     "name": "stdout",
     "output_type": "stream",
     "text": [
      "   NOC  GOLD  SILVER  BRONZE  TOTAL\n",
      "0  RUS    24      23      25     72\n",
      "1  USA    24      17      24     65\n",
      "2  CHN    21      10      12     43\n",
      "3  GER     6      14      14     34\n",
      "4  AUS     7      15      10     32\n",
      "5  FRA     9      11       8     28\n",
      "6  CUB    10       9       5     24\n",
      "7  ITA     9       5       9     23\n",
      "8  KOR     6       8       7     21\n",
      "9  GBR     9       5       5     19\n"
     ]
    },
    {
     "data": {
      "image/png": "[encoded data removed]",
      "text/plain": [
       "<Figure size 1200x300 with 1 Axes>"
      ]
     },
     "metadata": {},
     "output_type": "display_data"
    }
   ],
   "source": [
    "## Récupérer les données, les transformer si nécessaire, puis afficher sous forme de tableau et/ou d'un graphique\n",
    "classementNocIndividuel = requete_vers_dataframe(conn,f\"\"\"SELECT PI.NOC,\n",
    "SUM(CASE WHEN PI.Medaille = 'Gold' THEN 1 ELSE 0 END) AS Gold,\n",
    "SUM(CASE WHEN PI.Medaille = 'Silver' THEN 1 ELSE 0 END) AS Silver,\n",
    "SUM(CASE WHEN PI.Medaille = 'Bronze' THEN 1 ELSE 0 END) AS Bronze,\n",
    "COUNT(PI.Medaille) AS Total \n",
    "FROM {SCHEMA}.EVENEMENT E\n",
    "INNER JOIN {SCHEMA}.PARTICIPATION_INDIVIDUELLE PI ON PI.idEvent = E.idEvenement\n",
    "WHERE IDHOTE = '{id_hote}'\n",
    "GROUP BY PI.NOC\n",
    "ORDER BY Total DESC, Gold DESC, Silver DESC, Bronze DESC, noc\"\"\")\n",
    "NOCTop10Individuel = classementNocIndividuel.iloc[0:10]\n",
    "\n",
    "print(NOCTop10Individuel)      #afficher les 10 premieres lignes de la dataFrame\n",
    "\n",
    "plt.figure(figsize=(12, 3))\n",
    "plt.bar(NOCTop10Individuel['NOC'], NOCTop10Individuel['TOTAL'])\n",
    "plt.xlabel('Pays')\n",
    "plt.ylabel('Total des Médailles')\n",
    "plt.title('Total des Médailles par Pays')\n",
    "plt.xticks(rotation=45)\n",
    "plt.show()"
   ]
  },
  {
   "cell_type": "markdown",
   "metadata": {},
   "source": [
    "#### Médailles par équipes (épreuves par équipe)"
   ]
  },
  {
   "cell_type": "markdown",
   "metadata": {},
   "source": [
    "##### Tableau du TOP 10 par équipe"
   ]
  },
  {
   "cell_type": "code",
   "execution_count": 13,
   "metadata": {},
   "outputs": [
    {
     "name": "stdout",
     "output_type": "stream",
     "text": [
      "   IDATHLETE PRENOMATHLETE         NOMATHLETE  GOLD  SILVER  BRONZE  TOTAL\n",
      "0      51217         Jenny           Thompson     3       0       0      3\n",
      "1      45230       Michael               Klim     2       1       0      3\n",
      "2      93280           Ian             Thorpe     2       1       0      3\n",
      "3      50021          Olga         Brusnikina     2       0       0      2\n",
      "4      92674      Georgeta  Damian-Andrunache     2       0       0      2\n",
      "5       9879        Birgit    Fischer-Schmidt     2       0       0      2\n",
      "6      39501         Doina              Ignat     2       0       0      2\n",
      "7      10072        Zoltán           Kammerer     2       0       0      2\n",
      "8      50025        Mariya          Kiselyova     2       0       0      2\n",
      "9      93273          Todd            Pearson     2       0       0      2\n"
     ]
    },
    {
     "data": {
      "image/png": "[encoded data removed]",
      "text/plain": [
       "<Figure size 1200x300 with 1 Axes>"
      ]
     },
     "metadata": {},
     "output_type": "display_data"
    }
   ],
   "source": [
    "# Récupérer les données, les transformer si nécessaire, puis afficher sous forme de tableau et/ou d'un graphique\n",
    "\n",
    "classementAthletesEquipe = requete_vers_dataframe(conn,f\"\"\" SELECT  A.idAthlete, A.prenomAthlete, A.nomAthlete,\n",
    "SUM(CASE WHEN PE.Medaille = 'Gold' THEN 1 ELSE 0 END) AS Gold,\n",
    "SUM(CASE WHEN PE.Medaille = 'Silver' THEN 1 ELSE 0 END) AS Silver,\n",
    "SUM(CASE WHEN PE.Medaille = 'Bronze' THEN 1 ELSE 0 END) AS Bronze,\n",
    "COUNT(PE.Medaille) AS Total \n",
    "FROM {SCHEMA}.EVENEMENT E\n",
    "INNER JOIN {SCHEMA}.PARTICIPATION_EQUIPE PE ON PE.idEvenement = E.idEvenement\n",
    "INNER JOIN {SCHEMA}.COMPOSITION_EQUIPE CE ON CE.idEquipe = PE.idEquipe\n",
    "INNER JOIN {SCHEMA}.ATHLETE A ON A.idAthlete = CE.idAthlete\n",
    "WHERE IDHOTE = '{id_hote}'\n",
    "GROUP BY A.idAthlete, A.prenomAthlete, A.nomAthlete\n",
    "ORDER BY Total DESC, Gold DESC, Silver DESC, Bronze DESC, nomathlete, \n",
    "prenomathlete, idathlete\"\"\")\n",
    "athleteTop10Equipe = classementAthletesEquipe.iloc[0:10]\n",
    "\n",
    "print(athleteTop10Equipe)      #afficher les 10 premieres lignes de la dataFrame\n",
    "\n",
    "plt.figure(figsize=(12, 3))\n",
    "plt.bar(athleteTop10Equipe['NOMATHLETE'], athleteTop10Equipe['TOTAL'])\n",
    "plt.xlabel('Athlete')\n",
    "plt.ylabel('Total des Médailles')\n",
    "plt.title('Total des Médailles par Athlete')\n",
    "plt.xticks(rotation=45)\n",
    "plt.show()"
   ]
  },
  {
   "cell_type": "markdown",
   "metadata": {},
   "source": [
    "##### Répartition par NOC"
   ]
  },
  {
   "cell_type": "code",
   "execution_count": 14,
   "metadata": {},
   "outputs": [
    {
     "name": "stdout",
     "output_type": "stream",
     "text": [
      "   NOC  GOLD  SILVER  BRONZE  TOTAL\n",
      "0  USA    13       7       8     28\n",
      "1  AUS     9      10       7     26\n",
      "2  GER     7       3      12     22\n",
      "3  RUS     8       5       4     17\n",
      "4  CHN     7       6       2     15\n",
      "5  ITA     4       3       4     11\n",
      "6  FRA     4       3       3     10\n",
      "7  GBR     2       5       2      9\n",
      "8  NED     1       6       2      9\n",
      "9  BRA     0       3       6      9\n"
     ]
    },
    {
     "data": {
      "image/png": "[encoded data removed]",
      "text/plain": [
       "<Figure size 1200x300 with 1 Axes>"
      ]
     },
     "metadata": {},
     "output_type": "display_data"
    }
   ],
   "source": [
    "# Récupérer les données, les transformer si nécessaire, puis afficher sous forme de tableau et/ou d'un graphique\n",
    "\n",
    "classementNocEquipe = requete_vers_dataframe(conn,f\"\"\"SELECT EQ.NOC,\n",
    "SUM(CASE WHEN PE.Medaille = 'Gold' THEN 1 ELSE 0 END) AS Gold,\n",
    "SUM(CASE WHEN PE.Medaille = 'Silver' THEN 1 ELSE 0 END) AS Silver,\n",
    "SUM(CASE WHEN PE.Medaille = 'Bronze' THEN 1 ELSE 0 END) AS Bronze,\n",
    "COUNT(PE.Medaille) AS Total \n",
    "FROM {SCHEMA}.EVENEMENT E \n",
    "INNER JOIN {SCHEMA}.PARTICIPATION_EQUIPE PE ON PE.idEvenement = E.idEvenement\n",
    "INNER JOIN {SCHEMA}.EQUIPE EQ ON PE.idEquipe = EQ.idEquipe\n",
    "WHERE IDHOTE = '{id_hote}'\n",
    "GROUP BY EQ.NOC\n",
    "ORDER BY Total DESC, Gold DESC, Silver DESC, Bronze DESC, eq.noc\"\"\")\n",
    "NOCTop10Equipe = classementNocEquipe.iloc[0:10]\n",
    "\n",
    "print(NOCTop10Equipe)      #afficher les 10 premieres lignes de la dataFrame\n",
    "\n",
    "plt.figure(figsize=(12, 3))\n",
    "plt.bar(NOCTop10Equipe['NOC'], NOCTop10Equipe['TOTAL'])\n",
    "plt.xlabel('Pays')\n",
    "plt.ylabel('Total des Médailles')\n",
    "plt.title('Total des Médailles par Pays')\n",
    "plt.xticks(rotation=45)\n",
    "plt.show()"
   ]
  },
  {
   "cell_type": "markdown",
   "metadata": {},
   "source": [
    "## Partie modification des données\n",
    "\n",
    "On décide d'ajouter à l'édition des JO étudiée une nouvelle épreuve : le tir à l'arc à poulies. C'est une épreuve de tir à l'arc (*archery*, code `ARC`), qui se fait soit en arc à poulies homme (individuel ou équipe, mais on ne traitera que le cas individuel), soit arc à poulies femmes (individuel ou équipe). Les noms à utiliser pour les événements seront :\n",
    "\n",
    "- *Compound individual, Men*\n",
    "- *Compound individual, Women*\n",
    "\n",
    "Pour simuler les résultats, vous utiliserez les résultats de l'épreuve de [tir à l'arc classique des JO de 2020 en individuel homme](https://www.olympedia.org/results/18000492) en faisant comme s'il s'agissait d'arc à poulies : les athlètes existent déjà dans la base, vous devez maintenant faire en sorte d'ajouter à la base les différents résultats.\n",
    "\n",
    "Avant de réaliser les modifications, affichez le tableau des médailles individuelles pour l'Italie"
   ]
  },
  {
   "cell_type": "code",
   "execution_count": 272,
   "metadata": {},
   "outputs": [
    {
     "name": "stdout",
     "output_type": "stream",
     "text": [
      "90016775\n"
     ]
    }
   ],
   "source": [
    "# On donne ici l'exemple de comment ajouter un événement. On a stocké dans id_hote l'identifiant des JO sur lesquels on travaille\n",
    "with Connexion(login=conn['login'], password=conn['password']) as connexion:  # Démarre une nouvelle connexion\n",
    "    # On démarre une nouvelle transaction\n",
    "    connexion.begin()\n",
    "    # On ouvre un curseur, qui est une sorte de pointeur vers une table de résultats\n",
    "    curseur = connexion.cursor()\n",
    "    # On passe la requête paramétrée et les paramètres (s'il y en a) au curseur\n",
    "    curseur.execute(f\"SELECT MAX(IDEVENEMENT) FROM {SCHEMA}.EVENEMENT\")\n",
    "    # S'il n'y a pas d'erreur, on peut demander à récupérer les résultats : \n",
    "    # - curseur.fetchone() récupère la ligne sur laquelle pointe le curseur, renvoie le résultat sous forme de tuple, et avance à la ligne suivante (si elle existe)\n",
    "    # - curseur.fetchall() boucle sur toutes les lignes restantes et renvoie une liste de tuples, ou une liste vide s'il n'y a plus de résultats\n",
    "    # - curseur.fetchmany(nb) renvoie les résultats des nb lignes suivantes sous forme de liste de tuples\n",
    "    idev = curseur.fetchone()[0]  # Renvoie un tuple, on veut le premier élément du tuple\n",
    "    idev += 1\n",
    "    print(idev)\n",
    "    curseur.execute(f\"INSERT INTO {SCHEMA}.EVENEMENT VALUES(:idev, :nomev, :statutev, :codedisc, :idhote)\", {'idev': idev, 'nomev': 'Compound Individual, Men', 'statutev': 'Olympic', 'codedisc': 'ARC', 'idhote': id_hote})\n",
    "    connexion.commit()  #On commit (# On annule, ce qui est au dessus est pour l'exemple, vous devrez utiliser commit() pour valider la transaction.)"
   ]
  },
  {
   "cell_type": "code",
   "execution_count": 273,
   "metadata": {},
   "outputs": [
    {
     "data": {
      "text/html": [
       "<div>\n",
       "<style scoped>\n",
       "    .dataframe tbody tr th:only-of-type {\n",
       "        vertical-align: middle;\n",
       "    }\n",
       "\n",
       "    .dataframe tbody tr th {\n",
       "        vertical-align: top;\n",
       "    }\n",
       "\n",
       "    .dataframe thead th {\n",
       "        text-align: right;\n",
       "    }\n",
       "</style>\n",
       "<table border=\"1\" class=\"dataframe\">\n",
       "  <thead>\n",
       "    <tr style=\"text-align: right;\">\n",
       "      <th></th>\n",
       "      <th>NOC</th>\n",
       "      <th>GOLD</th>\n",
       "      <th>SILVER</th>\n",
       "      <th>BRONZE</th>\n",
       "      <th>TOTAL</th>\n",
       "    </tr>\n",
       "  </thead>\n",
       "  <tbody>\n",
       "    <tr>\n",
       "      <th>7</th>\n",
       "      <td>ITA</td>\n",
       "      <td>9</td>\n",
       "      <td>5</td>\n",
       "      <td>9</td>\n",
       "      <td>23</td>\n",
       "    </tr>\n",
       "  </tbody>\n",
       "</table>\n",
       "</div>"
      ],
      "text/plain": [
       "   NOC  GOLD  SILVER  BRONZE  TOTAL\n",
       "7  ITA     9       5       9     23"
      ]
     },
     "execution_count": 273,
     "metadata": {},
     "output_type": "execute_result"
    }
   ],
   "source": [
    "# Afficher le tableau des médailles individuelles de l'Italie\n",
    "classementNocIndividuel[classementNocIndividuel['NOC'] == 'ITA']"
   ]
  },
  {
   "cell_type": "markdown",
   "metadata": {},
   "source": [
    "### Qualifications [Bonus]\n",
    "\n",
    "Le round de qualifications en tir à l'arc à poulie est assez similaire au tir à l'arc classique, avec comme différence qu'il n'y a pas de \"X\", ils comptent comme des 10 pour départager. En utilisant le tableau des résultats de qualifications, faites en sorte que votre tableau de bord insère les données dans la base puis les affiche."
   ]
  },
  {
   "cell_type": "code",
   "execution_count": 274,
   "metadata": {},
   "outputs": [],
   "source": [
    "# Faire ici l'insertion des données\n",
    "with Connexion(login=conn['login'], password=conn['password']) as connexion: \n",
    "    connexion.begin()\n",
    "    curseur = connexion.cursor()\n",
    "    id_manche = 1\n",
    "    manche_resultat = id_manche\n",
    "    curseur.execute(f\"INSERT INTO manche VALUES ({idev}, {id_manche} , 'Ranking Round' )\")\n",
    "    # Ajout des libelle correspondants aux résultats \n",
    "    curseur.execute(f\"INSERT INTO resultat_libelle(idevenement, idmanche, libelle1, libelle2, libelle3, libelle4) VALUES ({idev}, {id_manche} , 'Points', 'Targets Hit', '10s', '9s' )\")\n",
    "\n",
    "    #Ajout des résultats\n",
    "    curseur.execute(f\"INSERT INTO resultat(idresultat, idevenement, idmanche, resultat1, resultat2, resultat3, resultat4) VALUES ((SELECT COUNT(*)+1 FROM resultat),{idev}, {id_manche}, '665', '72', '27', '6')\")\n",
    "    curseur.execute(f\"INSERT INTO performance_individuelle VALUES ({idev}, {id_manche}, 1973, '665', 'Points', null, (SELECT COUNT(*) FROM resultat))\")\n",
    "\n",
    "    curseur.execute(f\"INSERT INTO resultat(idresultat, idevenement, idmanche, resultat1, resultat2, resultat3, resultat4) VALUES ((SELECT COUNT(*)+1 FROM resultat),{idev}, {id_manche}, '660', '72', '26', '5')\")\n",
    "    curseur.execute(f\"INSERT INTO performance_individuelle VALUES ({idev}, {id_manche}, 1978, '660', 'Points', null, (SELECT COUNT(*) FROM resultat))\")\n",
    "\n",
    "    curseur.execute(f\"INSERT INTO resultat(idresultat, idevenement, idmanche, resultat1, resultat2, resultat3, resultat4) VALUES ((SELECT COUNT(*)+1 FROM resultat),{idev}, {id_manche}, '655', '72', '27', '7')\")\n",
    "    curseur.execute(f\"INSERT INTO performance_individuelle VALUES ({idev}, {id_manche}, 83168, '655', 'Points', null, (SELECT COUNT(*) FROM resultat))\")\n",
    "\n",
    "    curseur.execute(f\"INSERT INTO resultat(idresultat, idevenement, idmanche, resultat1, resultat2, resultat3, resultat4) VALUES ((SELECT COUNT(*)+1 FROM resultat),{idev}, {id_manche}, '651', '72', '23', '9')\")\n",
    "    curseur.execute(f\"INSERT INTO performance_individuelle VALUES ({idev}, {id_manche}, 2253, '651', 'Points', null, (SELECT COUNT(*) FROM resultat))\")\n",
    "\n",
    "    curseur.execute(f\"INSERT INTO resultat(idresultat, idevenement, idmanche, resultat1, resultat2, resultat3, resultat4) VALUES ((SELECT COUNT(*)+1 FROM resultat),{idev}, {id_manche}, '649', '72', '22', '6')\")\n",
    "    curseur.execute(f\"INSERT INTO performance_individuelle VALUES ({idev}, {id_manche}, 2187, '649', 'Points', null, (SELECT COUNT(*) FROM resultat))\")\n",
    "\n",
    "    curseur.execute(f\"INSERT INTO resultat(idresultat, idevenement, idmanche, resultat1, resultat2, resultat3, resultat4) VALUES ((SELECT COUNT(*)+1 FROM resultat),{idev}, {id_manche}, '646', '72', '25', '8')\")\n",
    "    curseur.execute(f\"INSERT INTO performance_individuelle VALUES ({idev}, {id_manche}, 2143, '646', 'Points', null, (SELECT COUNT(*) FROM resultat))\")\n",
    "\n",
    "    curseur.execute(f\"INSERT INTO resultat(idresultat, idevenement, idmanche, resultat1, resultat2, resultat3, resultat4) VALUES ((SELECT COUNT(*)+1 FROM resultat),{idev}, {id_manche}, '643', '72', '21', '8')\")\n",
    "    curseur.execute(f\"INSERT INTO performance_individuelle VALUES ({idev}, {id_manche}, 83205, '643', 'Points', null, (SELECT COUNT(*) FROM resultat))\")\n",
    "\n",
    "    curseur.execute(f\"INSERT INTO resultat(idresultat, idevenement, idmanche, resultat1, resultat2, resultat3, resultat4) VALUES ((SELECT COUNT(*)+1 FROM resultat),{idev}, {id_manche}, '642', '72', '20', '6')\")\n",
    "    curseur.execute(f\"INSERT INTO performance_individuelle VALUES ({idev}, {id_manche}, 300, '642', 'Points', null, (SELECT COUNT(*) FROM resultat))\")\n",
    "\n",
    "    curseur.execute(f\"INSERT INTO resultat(idresultat, idevenement, idmanche, resultat1, resultat2, resultat3, resultat4) VALUES ((SELECT COUNT(*)+1 FROM resultat),{idev}, {id_manche}, '641', '72', '20', '8')\")\n",
    "    curseur.execute(f\"INSERT INTO performance_individuelle VALUES ({idev}, {id_manche}, 80491, '641', 'Points', null, (SELECT COUNT(*) FROM resultat))\")\n",
    "\n",
    "    curseur.execute(f\"INSERT INTO resultat(idresultat, idevenement, idmanche, resultat1, resultat2, resultat3, resultat4) VALUES ((SELECT COUNT(*)+1 FROM resultat),{idev}, {id_manche}, '640', '72', '25', '6')\")\n",
    "    curseur.execute(f\"INSERT INTO performance_individuelle VALUES ({idev}, {id_manche}, 80471, '640', 'Points', null, (SELECT COUNT(*) FROM resultat))\")\n",
    "\n",
    "    curseur.execute(f\"INSERT INTO resultat(idresultat, idevenement, idmanche, resultat1, resultat2, resultat3, resultat4) VALUES ((SELECT COUNT(*)+1 FROM resultat),{idev}, {id_manche}, '639', '72', '25', '4')\")\n",
    "    curseur.execute(f\"INSERT INTO performance_individuelle VALUES ({idev}, {id_manche}, 500, '639', 'Points', null, (SELECT COUNT(*) FROM resultat))\")\n",
    "\n",
    "    curseur.execute(f\"INSERT INTO resultat(idresultat, idevenement, idmanche, resultat1, resultat2, resultat3, resultat4) VALUES ((SELECT COUNT(*)+1 FROM resultat),{idev}, {id_manche}, '638', '71', '24', '5')\")\n",
    "    curseur.execute(f\"INSERT INTO performance_individuelle VALUES ({idev}, {id_manche}, 83175, '638', 'Points', null, (SELECT COUNT(*) FROM resultat))\")\n",
    "\n",
    "    curseur.execute(f\"INSERT INTO resultat(idresultat, idevenement, idmanche, resultat1, resultat2, resultat3, resultat4) VALUES ((SELECT COUNT(*)+1 FROM resultat),{idev}, {id_manche}, '637', '72', '19', '7')\")\n",
    "    curseur.execute(f\"INSERT INTO performance_individuelle VALUES ({idev}, {id_manche}, 83196, '637', 'Points', null, (SELECT COUNT(*) FROM resultat))\")\n",
    "\n",
    "    curseur.execute(f\"INSERT INTO resultat(idresultat, idevenement, idmanche, resultat1, resultat2, resultat3, resultat4) VALUES ((SELECT COUNT(*)+1 FROM resultat),{idev}, {id_manche}, '636', '72', '23', '5')\")\n",
    "    curseur.execute(f\"INSERT INTO performance_individuelle VALUES ({idev}, {id_manche}, 83195, '636', 'Points', null, (SELECT COUNT(*) FROM resultat))\")\n",
    "\n",
    "    curseur.execute(f\"INSERT INTO resultat(idresultat, idevenement, idmanche, resultat1, resultat2, resultat3, resultat4) VALUES ((SELECT COUNT(*)+1 FROM resultat),{idev}, {id_manche}, '635', '72', '22', '7')\")\n",
    "    curseur.execute(f\"INSERT INTO performance_individuelle VALUES ({idev}, {id_manche}, 83165, '635', 'Points', null, (SELECT COUNT(*) FROM resultat))\")\n",
    "\n",
    "    curseur.execute(f\"INSERT INTO resultat(idresultat, idevenement, idmanche, resultat1, resultat2, resultat3, resultat4) VALUES ((SELECT COUNT(*)+1 FROM resultat),{idev}, {id_manche}, '635', '72', '20', '6')\")\n",
    "    curseur.execute(f\"INSERT INTO performance_individuelle VALUES ({idev}, {id_manche}, 394, '635', 'Points', null, (SELECT COUNT(*) FROM resultat))\")\n",
    "\n",
    "    curseur.execute(f\"INSERT INTO resultat(idresultat, idevenement, idmanche, resultat1, resultat2, resultat3, resultat4) VALUES ((SELECT COUNT(*)+1 FROM resultat),{idev}, {id_manche}, '635', '72', '15', '2')\")\n",
    "    curseur.execute(f\"INSERT INTO performance_individuelle VALUES ({idev}, {id_manche}, 2110, '635', 'Points', null, (SELECT COUNT(*) FROM resultat))\")\n",
    "\n",
    "    curseur.execute(f\"INSERT INTO resultat(idresultat, idevenement, idmanche, resultat1, resultat2, resultat3, resultat4) VALUES ((SELECT COUNT(*)+1 FROM resultat),{idev}, {id_manche}, '634', '72', '23', '10')\")\n",
    "    curseur.execute(f\"INSERT INTO performance_individuelle VALUES ({idev}, {id_manche}, 1918, '634', 'Points', null, (SELECT COUNT(*) FROM resultat))\")\n",
    "\n",
    "    curseur.execute(f\"INSERT INTO resultat(idresultat, idevenement, idmanche, resultat1, resultat2, resultat3, resultat4) VALUES ((SELECT COUNT(*)+1 FROM resultat),{idev}, {id_manche}, '634', '72', '16', '3')\")\n",
    "    curseur.execute(f\"INSERT INTO performance_individuelle VALUES ({idev}, {id_manche}, 1921, '634', 'Points', null, (SELECT COUNT(*) FROM resultat))\")\n",
    "\n",
    "    curseur.execute(f\"INSERT INTO resultat(idresultat, idevenement, idmanche, resultat1, resultat2, resultat3, resultat4) VALUES ((SELECT COUNT(*)+1 FROM resultat),{idev}, {id_manche}, '634', '71', '21', '7')\")\n",
    "    curseur.execute(f\"INSERT INTO performance_individuelle VALUES ({idev}, {id_manche}, 2035, '634', 'Points', null, (SELECT COUNT(*) FROM resultat))\")\n",
    "\n",
    "    curseur.execute(f\"INSERT INTO resultat(idresultat, idevenement, idmanche, resultat1, resultat2, resultat3, resultat4) VALUES ((SELECT COUNT(*)+1 FROM resultat),{idev}, {id_manche}, '633', '72', '15', '6')\")\n",
    "    curseur.execute(f\"INSERT INTO performance_individuelle VALUES ({idev}, {id_manche}, 83185, '633', 'Points', null, (SELECT COUNT(*) FROM resultat))\")\n",
    "\n",
    "    curseur.execute(f\"INSERT INTO resultat(idresultat, idevenement, idmanche, resultat1, resultat2, resultat3, resultat4) VALUES ((SELECT COUNT(*)+1 FROM resultat),{idev}, {id_manche}, '632', '72', '23', '13')\")\n",
    "    curseur.execute(f\"INSERT INTO performance_individuelle VALUES ({idev}, {id_manche}, 80476, '632', 'Points', null, (SELECT COUNT(*) FROM resultat))\")\n",
    "\n",
    "    curseur.execute(f\"INSERT INTO resultat(idresultat, idevenement, idmanche, resultat1, resultat2, resultat3, resultat4) VALUES ((SELECT COUNT(*)+1 FROM resultat),{idev}, {id_manche}, '632', '72', '23', '4')\")\n",
    "    curseur.execute(f\"INSERT INTO performance_individuelle VALUES ({idev}, {id_manche}, 1953, '632', 'Points', null, (SELECT COUNT(*) FROM resultat))\")\n",
    "\n",
    "    curseur.execute(f\"INSERT INTO resultat(idresultat, idevenement, idmanche, resultat1, resultat2, resultat3, resultat4) VALUES ((SELECT COUNT(*)+1 FROM resultat),{idev}, {id_manche}, '632', '72', '22', '7')\")\n",
    "    curseur.execute(f\"INSERT INTO performance_individuelle VALUES ({idev}, {id_manche}, 83202, '632', 'Points', null, (SELECT COUNT(*) FROM resultat))\")\n",
    "\n",
    "    curseur.execute(f\"INSERT INTO resultat(idresultat, idevenement, idmanche, resultat1, resultat2, resultat3, resultat4) VALUES ((SELECT COUNT(*)+1 FROM resultat),{idev}, {id_manche}, '632', '72', '18', '3')\")\n",
    "    curseur.execute(f\"INSERT INTO performance_individuelle VALUES ({idev}, {id_manche}, 80488, '632', 'Points', null, (SELECT COUNT(*) FROM resultat))\")\n",
    "\n",
    "    curseur.execute(f\"INSERT INTO resultat(idresultat, idevenement, idmanche, resultat1, resultat2, resultat3, resultat4) VALUES ((SELECT COUNT(*)+1 FROM resultat),{idev}, {id_manche}, '631', '72', '19', '3')\")\n",
    "    curseur.execute(f\"INSERT INTO performance_individuelle VALUES ({idev}, {id_manche}, 83199, '631', 'Points', null, (SELECT COUNT(*) FROM resultat))\")\n",
    "\n",
    "    curseur.execute(f\"INSERT INTO resultat(idresultat, idevenement, idmanche, resultat1, resultat2, resultat3, resultat4) VALUES ((SELECT COUNT(*)+1 FROM resultat),{idev}, {id_manche}, '631', '72', '15', '4')\")\n",
    "    curseur.execute(f\"INSERT INTO performance_individuelle VALUES ({idev}, {id_manche}, 302, '631', 'Points', null, (SELECT COUNT(*) FROM resultat))\")\n",
    "\n",
    "    curseur.execute(f\"INSERT INTO resultat(idresultat, idevenement, idmanche, resultat1, resultat2, resultat3, resultat4) VALUES ((SELECT COUNT(*)+1 FROM resultat),{idev}, {id_manche}, '629', '72', '20', '7')\")\n",
    "    curseur.execute(f\"INSERT INTO performance_individuelle VALUES ({idev}, {id_manche}, 83190, '629', 'Points', null, (SELECT COUNT(*) FROM resultat))\")\n",
    "\n",
    "    curseur.execute(f\"INSERT INTO resultat(idresultat, idevenement, idmanche, resultat1, resultat2, resultat3, resultat4) VALUES ((SELECT COUNT(*)+1 FROM resultat),{idev}, {id_manche}, '627', '72', '23', '4')\")\n",
    "    curseur.execute(f\"INSERT INTO performance_individuelle VALUES ({idev}, {id_manche}, 83176, '627', 'Points', null, (SELECT COUNT(*) FROM resultat))\")\n",
    "\n",
    "    curseur.execute(f\"INSERT INTO resultat(idresultat, idevenement, idmanche, resultat1, resultat2, resultat3, resultat4) VALUES ((SELECT COUNT(*)+1 FROM resultat),{idev}, {id_manche}, '627', '72', '19', '6')\")\n",
    "    curseur.execute(f\"INSERT INTO performance_individuelle VALUES ({idev}, {id_manche}, 1919, '627', 'Points', null, (SELECT COUNT(*) FROM resultat))\")\n",
    "\n",
    "    curseur.execute(f\"INSERT INTO resultat(idresultat, idevenement, idmanche, resultat1, resultat2, resultat3, resultat4) VALUES ((SELECT COUNT(*)+1 FROM resultat),{idev}, {id_manche}, '627', '72', '18', '1')\")\n",
    "    curseur.execute(f\"INSERT INTO performance_individuelle VALUES ({idev}, {id_manche}, 2235, '627', 'Points', null, (SELECT COUNT(*) FROM resultat))\")\n",
    "\n",
    "    curseur.execute(f\"INSERT INTO resultat(idresultat, idevenement, idmanche, resultat1, resultat2, resultat3, resultat4) VALUES ((SELECT COUNT(*)+1 FROM resultat),{idev}, {id_manche}, '626', '72', '16', '6')\")\n",
    "    curseur.execute(f\"INSERT INTO performance_individuelle VALUES ({idev}, {id_manche}, 83194, '626', 'Points', null, (SELECT COUNT(*) FROM resultat))\")\n",
    "\n",
    "    curseur.execute(f\"INSERT INTO resultat(idresultat, idevenement, idmanche, resultat1, resultat2, resultat3, resultat4) VALUES ((SELECT COUNT(*)+1 FROM resultat),{idev}, {id_manche}, '625', '72', '16', '8')\")\n",
    "    curseur.execute(f\"INSERT INTO performance_individuelle VALUES ({idev}, {id_manche}, 83171, '625', 'Points', null, (SELECT COUNT(*) FROM resultat))\")\n",
    "\n",
    "    curseur.execute(f\"INSERT INTO resultat(idresultat, idevenement, idmanche, resultat1, resultat2, resultat3, resultat4) VALUES ((SELECT COUNT(*)+1 FROM resultat),{idev}, {id_manche}, '624', '72', '15', '4')\")\n",
    "    curseur.execute(f\"INSERT INTO performance_individuelle VALUES ({idev}, {id_manche}, 2111, '624', 'Points', null, (SELECT COUNT(*) FROM resultat))\")\n",
    "\n",
    "    curseur.execute(f\"INSERT INTO resultat(idresultat, idevenement, idmanche, resultat1, resultat2, resultat3, resultat4) VALUES ((SELECT COUNT(*)+1 FROM resultat),{idev}, {id_manche}, '623', '72', '14', '3')\")\n",
    "    curseur.execute(f\"INSERT INTO performance_individuelle VALUES ({idev}, {id_manche}, 80501, '623', 'Points', null, (SELECT COUNT(*) FROM resultat))\")\n",
    "\n",
    "    curseur.execute(f\"INSERT INTO resultat(idresultat, idevenement, idmanche, resultat1, resultat2, resultat3, resultat4) VALUES ((SELECT COUNT(*)+1 FROM resultat),{idev}, {id_manche}, '622', '72', '19', '6')\")\n",
    "    curseur.execute(f\"INSERT INTO performance_individuelle VALUES ({idev}, {id_manche}, 440, '622', 'Points', null, (SELECT COUNT(*) FROM resultat))\")\n",
    "\n",
    "    curseur.execute(f\"INSERT INTO resultat(idresultat, idevenement, idmanche, resultat1, resultat2, resultat3, resultat4) VALUES ((SELECT COUNT(*)+1 FROM resultat),{idev}, {id_manche}, '622', '72', '17', '5')\")\n",
    "    curseur.execute(f\"INSERT INTO performance_individuelle VALUES ({idev}, {id_manche}, 380, '622', 'Points', null, (SELECT COUNT(*) FROM resultat))\")\n",
    "\n",
    "    curseur.execute(f\"INSERT INTO resultat(idresultat, idevenement, idmanche, resultat1, resultat2, resultat3, resultat4) VALUES ((SELECT COUNT(*)+1 FROM resultat),{idev}, {id_manche}, '619', '72', '16', '6')\")\n",
    "    curseur.execute(f\"INSERT INTO performance_individuelle VALUES ({idev}, {id_manche}, 401, '619', 'Points', null, (SELECT COUNT(*) FROM resultat))\")\n",
    "\n",
    "    curseur.execute(f\"INSERT INTO resultat(idresultat, idevenement, idmanche, resultat1, resultat2, resultat3, resultat4) VALUES ((SELECT COUNT(*)+1 FROM resultat),{idev}, {id_manche}, '618', '72', '23', '8')\")\n",
    "    curseur.execute(f\"INSERT INTO performance_individuelle VALUES ({idev}, {id_manche}, 2108, '618', 'Points', null, (SELECT COUNT(*) FROM resultat))\")\n",
    "\n",
    "    curseur.execute(f\"INSERT INTO resultat(idresultat, idevenement, idmanche, resultat1, resultat2, resultat3, resultat4) VALUES ((SELECT COUNT(*)+1 FROM resultat),{idev}, {id_manche}, '617', '72', '14', '3')\")\n",
    "    curseur.execute(f\"INSERT INTO performance_individuelle VALUES ({idev}, {id_manche}, 2198, '617', 'Points', null, (SELECT COUNT(*) FROM resultat))\")\n",
    "\n",
    "    curseur.execute(f\"INSERT INTO resultat(idresultat, idevenement, idmanche, resultat1, resultat2, resultat3, resultat4) VALUES ((SELECT COUNT(*)+1 FROM resultat),{idev}, {id_manche}, '616', '72', '21', '7')\")\n",
    "    curseur.execute(f\"INSERT INTO performance_individuelle VALUES ({idev}, {id_manche}, 80478, '616', 'Points', null, (SELECT COUNT(*) FROM resultat))\")\n",
    "\n",
    "    curseur.execute(f\"INSERT INTO resultat(idresultat, idevenement, idmanche, resultat1, resultat2, resultat3, resultat4) VALUES ((SELECT COUNT(*)+1 FROM resultat),{idev}, {id_manche}, '616', '72', '14', '4')\")\n",
    "    curseur.execute(f\"INSERT INTO performance_individuelle VALUES ({idev}, {id_manche}, 83189, '616', 'Points', null, (SELECT COUNT(*) FROM resultat))\")\n",
    "\n",
    "    curseur.execute(f\"INSERT INTO resultat(idresultat, idevenement, idmanche, resultat1, resultat2, resultat3, resultat4) VALUES ((SELECT COUNT(*)+1 FROM resultat),{idev}, {id_manche}, '615', '72', '11', '2')\")\n",
    "    curseur.execute(f\"INSERT INTO performance_individuelle VALUES ({idev}, {id_manche}, 83201, '615', 'Points', null, (SELECT COUNT(*) FROM resultat))\")\n",
    "\n",
    "    curseur.execute(f\"INSERT INTO resultat(idresultat, idevenement, idmanche, resultat1, resultat2, resultat3, resultat4) VALUES ((SELECT COUNT(*)+1 FROM resultat),{idev}, {id_manche}, '614', '72', '12', '1')\")\n",
    "    curseur.execute(f\"INSERT INTO performance_individuelle VALUES ({idev}, {id_manche}, 1942, '614', 'Points', null, (SELECT COUNT(*) FROM resultat))\")\n",
    "\n",
    "    curseur.execute(f\"INSERT INTO resultat(idresultat, idevenement, idmanche, resultat1, resultat2, resultat3, resultat4) VALUES ((SELECT COUNT(*)+1 FROM resultat),{idev}, {id_manche}, '613', '72', '19', '6')\")\n",
    "    curseur.execute(f\"INSERT INTO performance_individuelle VALUES ({idev}, {id_manche}, 83178, '613', 'Points', null, (SELECT COUNT(*) FROM resultat))\")\n",
    "\n",
    "    curseur.execute(f\"INSERT INTO resultat(idresultat, idevenement, idmanche, resultat1, resultat2, resultat3, resultat4) VALUES ((SELECT COUNT(*)+1 FROM resultat),{idev}, {id_manche}, '613', '72', '15', '5')\")\n",
    "    curseur.execute(f\"INSERT INTO performance_individuelle VALUES ({idev}, {id_manche}, 83177, '613', 'Points', null, (SELECT COUNT(*) FROM resultat))\")\n",
    "\n",
    "    curseur.execute(f\"INSERT INTO resultat(idresultat, idevenement, idmanche, resultat1, resultat2, resultat3, resultat4) VALUES ((SELECT COUNT(*)+1 FROM resultat),{idev}, {id_manche}, '613', '72', '13', '7')\")\n",
    "    curseur.execute(f\"INSERT INTO performance_individuelle VALUES ({idev}, {id_manche}, 2040, '613', 'Points', null, (SELECT COUNT(*) FROM resultat))\")\n",
    "\n",
    "    curseur.execute(f\"INSERT INTO resultat(idresultat, idevenement, idmanche, resultat1, resultat2, resultat3, resultat4) VALUES ((SELECT COUNT(*)+1 FROM resultat),{idev}, {id_manche}, '607', '71', '15', '2')\")\n",
    "    curseur.execute(f\"INSERT INTO performance_individuelle VALUES ({idev}, {id_manche}, 83179, '607', 'Points', null, (SELECT COUNT(*) FROM resultat))\")\n",
    "\n",
    "    curseur.execute(f\"INSERT INTO resultat(idresultat, idevenement, idmanche, resultat1, resultat2, resultat3, resultat4) VALUES ((SELECT COUNT(*)+1 FROM resultat),{idev}, {id_manche}, '606', '72', '16', '6')\")\n",
    "    curseur.execute(f\"INSERT INTO performance_individuelle VALUES ({idev}, {id_manche}, 83184, '606', 'Points', null, (SELECT COUNT(*) FROM resultat))\")\n",
    "\n",
    "    curseur.execute(f\"INSERT INTO resultat(idresultat, idevenement, idmanche, resultat1, resultat2, resultat3, resultat4) VALUES ((SELECT COUNT(*)+1 FROM resultat),{idev}, {id_manche}, '604', '72', '16', '4')\")\n",
    "    curseur.execute(f\"INSERT INTO performance_individuelle VALUES ({idev}, {id_manche}, 83164, '604', 'Points', null, (SELECT COUNT(*) FROM resultat))\")\n",
    "\n",
    "    curseur.execute(f\"INSERT INTO resultat(idresultat, idevenement, idmanche, resultat1, resultat2, resultat3, resultat4) VALUES ((SELECT COUNT(*)+1 FROM resultat),{idev}, {id_manche}, '603', '72', '15', '5')\")\n",
    "    curseur.execute(f\"INSERT INTO performance_individuelle VALUES ({idev}, {id_manche}, 304, '603', 'Points', null, (SELECT COUNT(*) FROM resultat))\")\n",
    "\n",
    "    curseur.execute(f\"INSERT INTO resultat(idresultat, idevenement, idmanche, resultat1, resultat2, resultat3, resultat4) VALUES ((SELECT COUNT(*)+1 FROM resultat),{idev}, {id_manche}, '603', '72', '12', '6')\")\n",
    "    curseur.execute(f\"INSERT INTO performance_individuelle VALUES ({idev}, {id_manche}, 471, '603', 'Points', null, (SELECT COUNT(*) FROM resultat))\")\n",
    "\n",
    "    curseur.execute(f\"INSERT INTO resultat(idresultat, idevenement, idmanche, resultat1, resultat2, resultat3, resultat4) VALUES ((SELECT COUNT(*)+1 FROM resultat),{idev}, {id_manche}, '603', '72', '12', '4')\")\n",
    "    curseur.execute(f\"INSERT INTO performance_individuelle VALUES ({idev}, {id_manche}, 80486, '603', 'Points', null, (SELECT COUNT(*) FROM resultat))\")\n",
    "\n",
    "    curseur.execute(f\"INSERT INTO resultat(idresultat, idevenement, idmanche, resultat1, resultat2, resultat3, resultat4) VALUES ((SELECT COUNT(*)+1 FROM resultat),{idev}, {id_manche}, '596', '72', '13', '2')\")\n",
    "    curseur.execute(f\"INSERT INTO performance_individuelle VALUES ({idev}, {id_manche}, 80495, '596', 'Points', null, (SELECT COUNT(*) FROM resultat))\")\n",
    "\n",
    "    curseur.execute(f\"INSERT INTO resultat(idresultat, idevenement, idmanche, resultat1, resultat2, resultat3, resultat4) VALUES ((SELECT COUNT(*)+1 FROM resultat),{idev}, {id_manche}, '596', '72', '7', '1')\")\n",
    "    curseur.execute(f\"INSERT INTO performance_individuelle VALUES ({idev}, {id_manche}, 346, '596', 'Points', null, (SELECT COUNT(*) FROM resultat))\")\n",
    "\n",
    "    curseur.execute(f\"INSERT INTO resultat(idresultat, idevenement, idmanche, resultat1, resultat2, resultat3, resultat4) VALUES ((SELECT COUNT(*)+1 FROM resultat),{idev}, {id_manche}, '596', '71', '10', '3')\")\n",
    "    curseur.execute(f\"INSERT INTO performance_individuelle VALUES ({idev}, {id_manche}, 83180, '596', 'Points', null, (SELECT COUNT(*) FROM resultat))\")\n",
    "\n",
    "    curseur.execute(f\"INSERT INTO resultat(idresultat, idevenement, idmanche, resultat1, resultat2, resultat3, resultat4) VALUES ((SELECT COUNT(*)+1 FROM resultat),{idev}, {id_manche}, '595', '72', '9', '2')\")\n",
    "    curseur.execute(f\"INSERT INTO performance_individuelle VALUES ({idev}, {id_manche}, 80481, '595', 'Points', null, (SELECT COUNT(*) FROM resultat))\")\n",
    "\n",
    "    curseur.execute(f\"INSERT INTO resultat(idresultat, idevenement, idmanche, resultat1, resultat2, resultat3, resultat4) VALUES ((SELECT COUNT(*)+1 FROM resultat),{idev}, {id_manche}, '588', '72', '8', '2')\")\n",
    "    curseur.execute(f\"INSERT INTO performance_individuelle VALUES ({idev}, {id_manche}, 80484, '588', 'Points', null, (SELECT COUNT(*) FROM resultat))\")\n",
    "\n",
    "    curseur.execute(f\"INSERT INTO resultat(idresultat, idevenement, idmanche, resultat1, resultat2, resultat3, resultat4) VALUES ((SELECT COUNT(*)+1 FROM resultat),{idev}, {id_manche}, '572', '72', '9', '4')\")\n",
    "    curseur.execute(f\"INSERT INTO performance_individuelle VALUES ({idev}, {id_manche}, 2075, '572', 'Points', null, (SELECT COUNT(*) FROM resultat))\")\n",
    "\n",
    "    curseur.execute(f\"INSERT INTO resultat(idresultat, idevenement, idmanche, resultat1, resultat2, resultat3, resultat4) VALUES ((SELECT COUNT(*)+1 FROM resultat),{idev}, {id_manche}, '556', '72', '7', '4')\")\n",
    "    curseur.execute(f\"INSERT INTO performance_individuelle VALUES ({idev}, {id_manche}, 80483, '556', 'Points', null, (SELECT COUNT(*) FROM resultat))\")\n",
    "\n",
    "    curseur.execute(f\"INSERT INTO resultat(idresultat, idevenement, idmanche, resultat1, resultat2, resultat3, resultat4) VALUES ((SELECT COUNT(*)+1 FROM resultat),{idev}, {id_manche}, '546', '72', '11', '4')\")\n",
    "    curseur.execute(f\"INSERT INTO performance_individuelle VALUES ({idev}, {id_manche}, 83206, '546', 'Points', null, (SELECT COUNT(*) FROM resultat))\")\n",
    "\n",
    "    curseur.execute(f\"INSERT INTO resultat(idresultat, idevenement, idmanche, resultat1, resultat2, resultat3, resultat4) VALUES ((SELECT COUNT(*)+1 FROM resultat),{idev}, {id_manche}, '537', '72', '10', '2')\")\n",
    "    curseur.execute(f\"INSERT INTO performance_individuelle VALUES ({idev}, {id_manche}, 83173, '537', 'Points', null, (SELECT COUNT(*) FROM resultat))\")\n",
    "\n",
    "    curseur.execute(f\"INSERT INTO resultat(idresultat, idevenement, idmanche, resultat1, resultat2, resultat3, resultat4) VALUES ((SELECT COUNT(*)+1 FROM resultat),{idev}, {id_manche}, '500', '72', '4', '0')\")\n",
    "    curseur.execute(f\"INSERT INTO performance_individuelle VALUES ({idev}, {id_manche}, 1957, '500', 'Points', null, (SELECT COUNT(*) FROM resultat))\")\n",
    "\n",
    "    curseur.execute(f\"INSERT INTO resultat(idresultat, idevenement, idmanche, resultat1, resultat2, resultat3, resultat4) VALUES ((SELECT COUNT(*)+1 FROM resultat),{idev}, {id_manche}, '419', '71', '3', '1')\")\n",
    "    curseur.execute(f\"INSERT INTO performance_individuelle VALUES ({idev}, {id_manche}, 80467, '419', 'Points', null, (SELECT COUNT(*) FROM resultat))\")\n",
    "\n",
    "\n",
    "\n",
    "    connexion.commit()"
   ]
  },
  {
   "cell_type": "code",
   "execution_count": 275,
   "metadata": {},
   "outputs": [
    {
     "name": "stdout",
     "output_type": "stream",
     "text": [
      "    NOMATHLETE PRENOMATHLETE  NOC Points Targets Hit 10s 9s\n",
      "0      Yong-Ho          Jang  KOR    665          72  27  6\n",
      "1      Gyo-Mun            Oh  KOR    660          72  26  5\n",
      "2   Cheong-Tae           Kim  KOR    655          72  27  7\n",
      "3        White           Rod  USA    651          72  23  9\n",
      "4    Zabrodsky     Stanislav  KAZ    649          72  22  6\n",
      "..         ...           ...  ...    ...         ...  .. ..\n",
      "59       Sayed         Essam  EGY    556          72   7  4\n",
      "60       Latil      François  VAN    546          72  11  4\n",
      "61     Bundhun         Yehya  MRI    537          72  10  2\n",
      "62      Rebelo       Dominic  KEN    500          72   4  0\n",
      "63       Tupua        Kuresa  ASA    419          71   3  1\n",
      "\n",
      "[64 rows x 7 columns]\n"
     ]
    }
   ],
   "source": [
    "# Faire ici l'affichage du tableau de résultat des qualifications\n",
    "libelle = requete_vers_dataframe(conn, f\"\"\"SELECT libelle1, libelle2, libelle3, libelle4, libelle5 FROM resultat_libelle\n",
    "                                            WHERE idevenement = {idev} AND idmanche = {id_manche}\"\"\")\n",
    "\n",
    "ranking = requete_vers_dataframe(conn, f\"\"\"\n",
    "SELECT DISTINCT nomathlete, prenomathlete, noc, resultat1, resultat2, resultat3, resultat4, resultat5 \n",
    "FROM performance_individuelle pi\n",
    "INNER JOIN resultat r ON r.idresultat = pi.resultat_detaille\n",
    "INNER JOIN athlete a ON a.idathlete = pi.idathlete\n",
    "INNER JOIN participation_individuelle ppi ON ppi.idathlete = a.idathlete\n",
    "INNER JOIN evenement e ON e.idevenement = ppi.idevent\n",
    "WHERE pi.idevenement = {idev} AND pi.idmanche = {id_manche} AND idhote = {id_hote}\n",
    "ORDER BY TO_NUMBER(resultat1) DESC, TO_NUMBER(resultat2) DESC, TO_NUMBER(resultat3) DESC, TO_NUMBER(resultat4)DESC, TO_NUMBER(resultat5)DESC, \n",
    "nomathlete, prenomathlete, noc\n",
    "\"\"\")\n",
    "\n",
    "#On ajuste le nombre de colonne en fonction nu nombre de libelle (on part du principe qu'il y a autant d'infos que de libelle)\n",
    "colonnes = libelle.iloc[0].tolist()\n",
    "for i in reversed(range(len(colonnes))):\n",
    "    if colonnes[i] is None:\n",
    "        colonnes.pop(i)\n",
    "        ranking.drop(columns=[ranking.columns[i + 3]], inplace=True)\n",
    "\n",
    "#On renommes les colonnes du dataframe en fonction des libelles\n",
    "ranking.columns = ['NOMATHLETE', 'PRENOMATHLETE', 'NOC'] + colonnes\n",
    "\n",
    "print(ranking)"
   ]
  },
  {
   "cell_type": "markdown",
   "metadata": {},
   "source": [
    "### Première manche [Bonus]\n",
    "\n",
    "Faire de même ici avec les résultats de la première manche. Pour simplifier, on considérera que les scores sont identiques à ceux en arc classique."
   ]
  },
  {
   "cell_type": "code",
   "execution_count": 276,
   "metadata": {},
   "outputs": [],
   "source": [
    "# Faire ici l'insertion des données\n",
    "id_manche = 2\n",
    "with Connexion(login=conn['login'], password=conn['password']) as connexion: \n",
    "    connexion.begin()\n",
    "    curseur = connexion.cursor()\n",
    "    curseur.execute(f\"INSERT INTO manche VALUES ({idev}, {id_manche}, 'Round One' )\")\n",
    "\n",
    "    #Récupéré en scrappant le site web\n",
    "    curseur.execute(f\"INSERT INTO match_individuel VALUES ((SELECT COUNT(*) FROM match_individuel), {idev}, {id_manche}, 1973, 80467, '172 – 98')\")\n",
    "    curseur.execute(f\"INSERT INTO match_individuel VALUES ((SELECT COUNT(*) FROM match_individuel), {idev}, {id_manche}, 83194, 83171, '165 – 153')\")\n",
    "    curseur.execute(f\"INSERT INTO match_individuel VALUES ((SELECT COUNT(*) FROM match_individuel), {idev}, {id_manche}, 2110, 83179, '168 – 147')\")\n",
    "    curseur.execute(f\"INSERT INTO match_individuel VALUES ((SELECT COUNT(*) FROM match_individuel), {idev}, {id_manche}, 83184, 394, '157 – 155')\")\n",
    "    curseur.execute(f\"INSERT INTO match_individuel VALUES ((SELECT COUNT(*) FROM match_individuel), {idev}, {id_manche}, 300, 80481, '170 – 161')\")\n",
    "    curseur.execute(f\"INSERT INTO match_individuel VALUES ((SELECT COUNT(*) FROM match_individuel), {idev}, {id_manche}, 80488, 2198, '171 – 163')\")\n",
    "    curseur.execute(f\"INSERT INTO match_individuel VALUES ((SELECT COUNT(*) FROM match_individuel), {idev}, {id_manche}, 80478, 83202, '164 – 160')\")\n",
    "    curseur.execute(f\"INSERT INTO match_individuel VALUES ((SELECT COUNT(*) FROM match_individuel), {idev}, {id_manche}, 80491, 83180, '160 – 155')\")\n",
    "    curseur.execute(f\"INSERT INTO match_individuel VALUES ((SELECT COUNT(*) FROM match_individuel), {idev}, {id_manche}, 2187, 80483, '166 – 149')\")\n",
    "    curseur.execute(f\"INSERT INTO match_individuel VALUES ((SELECT COUNT(*) FROM match_individuel), {idev}, {id_manche}, 83190, 380, '161 – 155')\")\n",
    "    curseur.execute(f\"INSERT INTO match_individuel VALUES ((SELECT COUNT(*) FROM match_individuel), {idev}, {id_manche}, 83185, 1942, '166 – 164')\")\n",
    "    curseur.execute(f\"INSERT INTO match_individuel VALUES ((SELECT COUNT(*) FROM match_individuel), {idev}, {id_manche}, 83175, 80486, '163 – 160')\")\n",
    "    curseur.execute(f\"INSERT INTO match_individuel VALUES ((SELECT COUNT(*) FROM match_individuel), {idev}, {id_manche}, 2253, 83206, '158 – 145')\")\n",
    "    curseur.execute(f\"INSERT INTO match_individuel VALUES ((SELECT COUNT(*) FROM match_individuel), {idev}, {id_manche}, 83176, 440, '161 – 155')\")\n",
    "    curseur.execute(f\"INSERT INTO match_individuel VALUES ((SELECT COUNT(*) FROM match_individuel), {idev}, {id_manche}, 83178, 2035, '158 – 149')\")\n",
    "    curseur.execute(f\"INSERT INTO match_individuel VALUES ((SELECT COUNT(*) FROM match_individuel), {idev}, {id_manche}, 471, 83196, '160 – 156')\")\n",
    "    curseur.execute(f\"INSERT INTO match_individuel VALUES ((SELECT COUNT(*) FROM match_individuel), {idev}, {id_manche}, 83168, 83173, '169 – 141')\")\n",
    "    curseur.execute(f\"INSERT INTO match_individuel VALUES ((SELECT COUNT(*) FROM match_individuel), {idev}, {id_manche}, 1919, 80501, '163 – 158')\")\n",
    "    curseur.execute(f\"INSERT INTO match_individuel VALUES ((SELECT COUNT(*) FROM match_individuel), {idev}, {id_manche}, 1921, 83177, '168 – 158')\")\n",
    "    curseur.execute(f\"INSERT INTO match_individuel VALUES ((SELECT COUNT(*) FROM match_individuel), {idev}, {id_manche}, 304, 83195, '154 – 146')\")\n",
    "    curseur.execute(f\"INSERT INTO match_individuel VALUES ((SELECT COUNT(*) FROM match_individuel), {idev}, {id_manche}, 2143, 2075, '165 – 146')\")\n",
    "    curseur.execute(f\"INSERT INTO match_individuel VALUES ((SELECT COUNT(*) FROM match_individuel), {idev}, {id_manche}, 401, 302, '163 – 161')\")\n",
    "    curseur.execute(f\"INSERT INTO match_individuel VALUES ((SELECT COUNT(*) FROM match_individuel), {idev}, {id_manche}, 80476, 83201, '164 – 155')\")\n",
    "    curseur.execute(f\"INSERT INTO match_individuel VALUES ((SELECT COUNT(*) FROM match_individuel), {idev}, {id_manche}, 80495, 500, '163 – 161')\")\n",
    "    curseur.execute(f\"INSERT INTO match_individuel VALUES ((SELECT COUNT(*) FROM match_individuel), {idev}, {id_manche}, 83205, 80484, '160 – 150')\")\n",
    "    curseur.execute(f\"INSERT INTO match_individuel VALUES ((SELECT COUNT(*) FROM match_individuel), {idev}, {id_manche}, 83199, 2108, '164 – 153')\")\n",
    "    curseur.execute(f\"INSERT INTO match_individuel VALUES ((SELECT COUNT(*) FROM match_individuel), {idev}, {id_manche}, 1953, 83189, '158 – 156')\")\n",
    "    curseur.execute(f\"INSERT INTO match_individuel VALUES ((SELECT COUNT(*) FROM match_individuel), {idev}, {id_manche}, 80471, 346, '162 – 156')\")\n",
    "    curseur.execute(f\"INSERT INTO match_individuel VALUES ((SELECT COUNT(*) FROM match_individuel), {idev}, {id_manche}, 1978, 1957, '168 – 132')\")\n",
    "    curseur.execute(f\"INSERT INTO match_individuel VALUES ((SELECT COUNT(*) FROM match_individuel), {idev}, {id_manche}, 2235, 2111, '164 – 151')\")\n",
    "    curseur.execute(f\"INSERT INTO match_individuel VALUES ((SELECT COUNT(*) FROM match_individuel), {idev}, {id_manche}, 1918, 2040, '166 – 158')\")\n",
    "    curseur.execute(f\"INSERT INTO match_individuel VALUES ((SELECT COUNT(*) FROM match_individuel), {idev}, {id_manche}, 83164, 83165, '151 – 150')\")\n",
    "\n",
    "    connexion.commit()"
   ]
  },
  {
   "cell_type": "code",
   "execution_count": 277,
   "metadata": {},
   "outputs": [
    {
     "name": "stdout",
     "output_type": "stream",
     "text": [
      "        NOMATHLETE PRENOMATHLETE RESULTATMATCH   NOMATHLETE PRENOMATHLETE\n",
      "0          Yong-Ho          Jang      172 – 98        Tupua        Kuresa\n",
      "1       de Grandis       Jocelyn     171 – 163     Leontyev          Yury\n",
      "2      Fairweather         Simon     170 – 161      Stevens   Juan Carlos\n",
      "3       Cheong-Tae           Kim     169 – 141      Bundhun         Yehya\n",
      "4        Frangilli       Michele     168 – 158    Humlekjær     Lars Erik\n",
      "5      Tsyrempilov    Balzhinima     168 – 147        Ebden         Peter\n",
      "6          Gyo-Mun            Oh     168 – 132       Rebelo       Dominic\n",
      "7        Targoński      Grzegorz     166 – 164   Matsushita     Takayoshi\n",
      "8          Bisiani        Matteo     166 – 158         Grov      Martinus\n",
      "9        Zabrodsky     Stanislav     166 – 149        Sayed         Essam\n",
      "10           Orbay         Hasan     165 – 153    Manjarrez   Juan Carlos\n",
      "11       Petersson        Magnus     165 – 146        Pombo          Nuno\n",
      "12           Arias        Ismely     164 – 160  Parkhomenko          Ihor\n",
      "13              Bo          Yang     164 – 155    Kurchenko        Viktor\n",
      "14         Antonov        Serhiy     164 – 153     Badyonov          Bair\n",
      "15         Johnson         Butch     164 – 151  Koprivnikar         Peter\n",
      "16             Hua          Tang     163 – 161         Gray          Matt\n",
      "17          Stubbe     Christian     163 – 161       Torrés        Lionel\n",
      "18       van Alten        Wietse     163 – 160        Aulio         Miika\n",
      "19          Di Buò        Ilario     163 – 158       Hamano          Yuji\n",
      "20       Hendrickx          Nico     162 – 156      Jubzang       Jubzang\n",
      "21     van Zutphen          Fred     161 – 155     Lipponen          Jari\n",
      "22        Eriksson        Niklas     161 – 155       Rusnov           Rob\n",
      "23           Flûte     Sébastien     160 – 156        Şatir        Serdar\n",
      "24         Needham         Simon     160 – 155    Uprichard           Ken\n",
      "25        Wunderle           Vic     160 – 150       Merlos     Cristóbal\n",
      "26        Shikarev         Vadim     158 – 156     Eriksson       Mattias\n",
      "27         Nesteng          Bård     158 – 149       Vogels          Henk\n",
      "28           White           Rod     158 – 145        Latil      François\n",
      "29           Mikos       Bartosz     157 – 155     Shengjun            Fu\n",
      "30  Hunter-Russell         Scott     154 – 146        Akbal       Özdemir\n",
      "31        Makiyama      Masafumi     151 – 150           Li     Aleksandr\n"
     ]
    }
   ],
   "source": [
    "# Faire ici l'affichage du tableau de résultat de la première manche\n",
    "resultat = requete_vers_dataframe(conn, f\"\"\"\n",
    "SELECT a1.nomAthlete, a1.prenomAthlete, resultatMatch, a2.nomAthlete, a2.prenomAthlete\n",
    "FROM match_individuel mi\n",
    "INNER JOIN athlete a1 ON a1.idathlete = athlete1\n",
    "INNER JOIN athlete a2 ON a2.idathlete = athlete2\n",
    "WHERE idevenement = {idev} AND idmanche = {id_manche}\n",
    "ORDER BY TO_NUMBER(REGEXP_SUBSTR(resultatMatch, '\\\\d+')) DESC, TO_NUMBER(REGEXP_SUBSTR(resultatMatch, '\\\\d+$')) DESC\n",
    "\"\"\")\n",
    "\n",
    "print(resultat)"
   ]
  },
  {
   "cell_type": "markdown",
   "metadata": {},
   "source": [
    "### Deuxième manche [Bonus]\n",
    "\n",
    "Faire de même ici avec les résultats de la deuxième manche. Pour simplifier, on considérera que les scores sont identiques à ceux en arc classique."
   ]
  },
  {
   "cell_type": "code",
   "execution_count": 278,
   "metadata": {},
   "outputs": [],
   "source": [
    "# Faire ici l'insertion des données\n",
    "id_manche = 3\n",
    "with Connexion(login=conn['login'], password=conn['password']) as connexion: \n",
    "    connexion.begin()\n",
    "    curseur = connexion.cursor()\n",
    "\n",
    "    curseur.execute(f\"INSERT INTO manche VALUES ({idev}, {id_manche}, 'Round Two' )\")\n",
    "\n",
    "    curseur.execute(f\"INSERT INTO match_individuel VALUES ((SELECT COUNT(*) FROM match_individuel), {idev}, {id_manche}, 1973, 83194, '169 – 160')\")\n",
    "    curseur.execute(f\"INSERT INTO match_individuel VALUES ((SELECT COUNT(*) FROM match_individuel), {idev}, {id_manche}, 2110, 83184, '163 – 154')\")\n",
    "    curseur.execute(f\"INSERT INTO match_individuel VALUES ((SELECT COUNT(*) FROM match_individuel), {idev}, {id_manche}, 300, 80488, '161 – 150')\")\n",
    "    curseur.execute(f\"INSERT INTO match_individuel VALUES ((SELECT COUNT(*) FROM match_individuel), {idev}, {id_manche}, 80478, 80491, '164 – 164')\")\n",
    "    curseur.execute(f\"INSERT INTO match_individuel VALUES ((SELECT COUNT(*) FROM match_individuel), {idev}, {id_manche}, 2187, 83190, '163 – 146')\")\n",
    "    curseur.execute(f\"INSERT INTO match_individuel VALUES ((SELECT COUNT(*) FROM match_individuel), {idev}, {id_manche}, 83175, 83185, '160 – 157')\")\n",
    "    curseur.execute(f\"INSERT INTO match_individuel VALUES ((SELECT COUNT(*) FROM match_individuel), {idev}, {id_manche}, 83176, 2253, '153 – 152')\")\n",
    "    curseur.execute(f\"INSERT INTO match_individuel VALUES ((SELECT COUNT(*) FROM match_individuel), {idev}, {id_manche}, 471, 83178, '160 – 148')\")\n",
    "    curseur.execute(f\"INSERT INTO match_individuel VALUES ((SELECT COUNT(*) FROM match_individuel), {idev}, {id_manche}, 83168, 1919, '162 – 159')\")\n",
    "    curseur.execute(f\"INSERT INTO match_individuel VALUES ((SELECT COUNT(*) FROM match_individuel), {idev}, {id_manche}, 1921, 304, '164 – 154')\")\n",
    "    curseur.execute(f\"INSERT INTO match_individuel VALUES ((SELECT COUNT(*) FROM match_individuel), {idev}, {id_manche}, 2143, 401, '157 – 148')\")\n",
    "    curseur.execute(f\"INSERT INTO match_individuel VALUES ((SELECT COUNT(*) FROM match_individuel), {idev}, {id_manche}, 80476, 80495, '159 – 152')\")\n",
    "    curseur.execute(f\"INSERT INTO match_individuel VALUES ((SELECT COUNT(*) FROM match_individuel), {idev}, {id_manche}, 83205, 83199, '152 – 151')\")\n",
    "    curseur.execute(f\"INSERT INTO match_individuel VALUES ((SELECT COUNT(*) FROM match_individuel), {idev}, {id_manche}, 1953, 80471, '154 – 151')\")\n",
    "    curseur.execute(f\"INSERT INTO match_individuel VALUES ((SELECT COUNT(*) FROM match_individuel), {idev}, {id_manche}, 1978, 2235, '166 – 160')\")\n",
    "    curseur.execute(f\"INSERT INTO match_individuel VALUES ((SELECT COUNT(*) FROM match_individuel), {idev}, {id_manche}, 83164, 1918, '162 – 159')\")\n",
    "    \n",
    "    connexion.commit()"
   ]
  },
  {
   "cell_type": "code",
   "execution_count": 279,
   "metadata": {},
   "outputs": [
    {
     "name": "stdout",
     "output_type": "stream",
     "text": [
      "     NOMATHLETE PRENOMATHLETE RESULTATMATCH      NOMATHLETE PRENOMATHLETE\n",
      "0       Yong-Ho          Jang     169 – 160           Orbay         Hasan\n",
      "1       Gyo-Mun            Oh     166 – 160         Johnson         Butch\n",
      "2         Arias        Ismely     164 – 164         Needham         Simon\n",
      "3     Frangilli       Michele     164 – 154  Hunter-Russell         Scott\n",
      "4   Tsyrempilov    Balzhinima     163 – 154           Mikos       Bartosz\n",
      "5     Zabrodsky     Stanislav     163 – 146        Eriksson        Niklas\n",
      "6      Makiyama      Masafumi     162 – 159         Bisiani        Matteo\n",
      "7    Cheong-Tae           Kim     162 – 159          Di Buò        Ilario\n",
      "8   Fairweather         Simon     161 – 150      de Grandis       Jocelyn\n",
      "9     van Alten        Wietse     160 – 157       Targoński      Grzegorz\n",
      "10        Flûte     Sébastien     160 – 148         Nesteng          Bård\n",
      "11           Bo          Yang     159 – 152          Stubbe     Christian\n",
      "12    Petersson        Magnus     157 – 148             Hua          Tang\n",
      "13     Shikarev         Vadim     154 – 151       Hendrickx          Nico\n",
      "14  van Zutphen          Fred     153 – 152           White           Rod\n",
      "15     Wunderle           Vic     152 – 151         Antonov        Serhiy\n"
     ]
    }
   ],
   "source": [
    "# Faire ici l'affichage du tableau de résultat de la deuxième manche\n",
    "resultat = requete_vers_dataframe(conn, f\"\"\"\n",
    "SELECT a1.nomAthlete, a1.prenomAthlete, resultatMatch, a2.nomAthlete, a2.prenomAthlete\n",
    "FROM match_individuel mi\n",
    "INNER JOIN athlete a1 ON a1.idathlete = athlete1\n",
    "INNER JOIN athlete a2 ON a2.idathlete = athlete2\n",
    "WHERE idevenement = {idev} AND idmanche = {id_manche}\n",
    "ORDER BY TO_NUMBER(REGEXP_SUBSTR(resultatMatch, '\\\\d+')) DESC, TO_NUMBER(REGEXP_SUBSTR(resultatMatch, '\\\\d+$')) DESC\n",
    "\"\"\")\n",
    "\n",
    "print(resultat)"
   ]
  },
  {
   "cell_type": "markdown",
   "metadata": {},
   "source": [
    "### Troisième manche [Bonus]\n",
    "\n",
    "Faire de même ici avec les résultats de la troisième manche. Pour simplifier, on considérera que les scores sont identiques à ceux en arc classique."
   ]
  },
  {
   "cell_type": "code",
   "execution_count": 280,
   "metadata": {},
   "outputs": [],
   "source": [
    "# Faire ici l'insertion des données\n",
    "id_manche = 4\n",
    "with Connexion(login=conn['login'], password=conn['password']) as connexion: \n",
    "    connexion.begin()\n",
    "    curseur = connexion.cursor()\n",
    "    curseur.execute(f\"INSERT INTO manche VALUES ({idev}, {id_manche}, 'Round Three' )\")\n",
    "\n",
    "    curseur.execute(f\"INSERT INTO match_individuel VALUES ((SELECT COUNT(*) FROM match_individuel), {idev}, {id_manche}, 2110, 1973, '167 – 164')\")\n",
    "    curseur.execute(f\"INSERT INTO match_individuel VALUES ((SELECT COUNT(*) FROM match_individuel), {idev}, {id_manche}, 300, 80478, '167 – 163')\")\n",
    "    curseur.execute(f\"INSERT INTO match_individuel VALUES ((SELECT COUNT(*) FROM match_individuel), {idev}, {id_manche}, 83175, 2187, '166 – 164')\")\n",
    "    curseur.execute(f\"INSERT INTO match_individuel VALUES ((SELECT COUNT(*) FROM match_individuel), {idev}, {id_manche}, 471, 83176, '166 – 159')\")\n",
    "    curseur.execute(f\"INSERT INTO match_individuel VALUES ((SELECT COUNT(*) FROM match_individuel), {idev}, {id_manche}, 1921, 83168, '169 – 166')\")\n",
    "    curseur.execute(f\"INSERT INTO match_individuel VALUES ((SELECT COUNT(*) FROM match_individuel), {idev}, {id_manche}, 2143, 80476, '167 – 164')\")\n",
    "    curseur.execute(f\"INSERT INTO match_individuel VALUES ((SELECT COUNT(*) FROM match_individuel), {idev}, {id_manche}, 83205, 1953, '171 – 166')\")\n",
    "    curseur.execute(f\"INSERT INTO match_individuel VALUES ((SELECT COUNT(*) FROM match_individuel), {idev}, {id_manche}, 1978, 83164, '166 – 160')\")\n",
    "    \n",
    "    connexion.commit()"
   ]
  },
  {
   "cell_type": "code",
   "execution_count": 281,
   "metadata": {},
   "outputs": [
    {
     "name": "stdout",
     "output_type": "stream",
     "text": [
      "    NOMATHLETE PRENOMATHLETE RESULTATMATCH   NOMATHLETE PRENOMATHLETE\n",
      "0     Wunderle           Vic     171 – 166     Shikarev         Vadim\n",
      "1    Frangilli       Michele     169 – 166   Cheong-Tae           Kim\n",
      "2  Tsyrempilov    Balzhinima     167 – 164      Yong-Ho          Jang\n",
      "3    Petersson        Magnus     167 – 164           Bo          Yang\n",
      "4  Fairweather         Simon     167 – 163        Arias        Ismely\n",
      "5    van Alten        Wietse     166 – 164    Zabrodsky     Stanislav\n",
      "6      Gyo-Mun            Oh     166 – 160     Makiyama      Masafumi\n",
      "7        Flûte     Sébastien     166 – 159  van Zutphen          Fred\n"
     ]
    }
   ],
   "source": [
    "# Faire ici l'affichage du tableau de résultat de la troisième manche\n",
    "resultat = requete_vers_dataframe(conn, f\"\"\"\n",
    "SELECT a1.nomAthlete, a1.prenomAthlete, resultatMatch, a2.nomAthlete, a2.prenomAthlete\n",
    "FROM match_individuel mi\n",
    "INNER JOIN athlete a1 ON a1.idathlete = athlete1\n",
    "INNER JOIN athlete a2 ON a2.idathlete = athlete2\n",
    "WHERE idevenement = {idev} AND idmanche = {id_manche}\n",
    "ORDER BY TO_NUMBER(REGEXP_SUBSTR(resultatMatch, '\\\\d+')) DESC, TO_NUMBER(REGEXP_SUBSTR(resultatMatch, '\\\\d+$')) DESC\n",
    "\"\"\")\n",
    "\n",
    "print(resultat)"
   ]
  },
  {
   "cell_type": "markdown",
   "metadata": {},
   "source": [
    "### Quarts de finale [Bonus]\n",
    "\n",
    "Faire de même ici avec les résultats des quarts de finale. Pour simplifier, on considérera que les scores sont identiques à ceux en arc classique."
   ]
  },
  {
   "cell_type": "code",
   "execution_count": 282,
   "metadata": {},
   "outputs": [],
   "source": [
    "# Faire ici l'insertion des données\n",
    "id_manche = 5\n",
    "with Connexion(login=conn['login'], password=conn['password']) as connexion: \n",
    "    connexion.begin()\n",
    "    curseur = connexion.cursor()\n",
    "\n",
    "    curseur.execute(f\"INSERT INTO manche VALUES ({idev}, {id_manche}, 'Round Quarter' )\")\n",
    "\n",
    "    curseur.execute(f\"INSERT INTO match_individuel VALUES ((SELECT COUNT(*) FROM match_individuel), {idev}, {id_manche}, 300, 2110, '113 – 104')\")\n",
    "    curseur.execute(f\"INSERT INTO match_individuel VALUES ((SELECT COUNT(*) FROM match_individuel), {idev}, {id_manche}, 83175, 471, '106 – 102')\")\n",
    "    curseur.execute(f\"INSERT INTO match_individuel VALUES ((SELECT COUNT(*) FROM match_individuel), {idev}, {id_manche}, 2143, 83168, '112 – 111')\")\n",
    "    curseur.execute(f\"INSERT INTO match_individuel VALUES ((SELECT COUNT(*) FROM match_individuel), {idev}, {id_manche}, 83205, 1978, '108 – 105')\")\n",
    "\n",
    "    \n",
    "    connexion.commit()"
   ]
  },
  {
   "cell_type": "code",
   "execution_count": 283,
   "metadata": {},
   "outputs": [
    {
     "name": "stdout",
     "output_type": "stream",
     "text": [
      "    NOMATHLETE PRENOMATHLETE RESULTATMATCH   NOMATHLETE PRENOMATHLETE\n",
      "0  Fairweather         Simon     113 – 104  Tsyrempilov    Balzhinima\n",
      "1    Petersson        Magnus     112 – 111   Cheong-Tae           Kim\n",
      "2     Wunderle           Vic     108 – 105      Gyo-Mun            Oh\n",
      "3    van Alten        Wietse     106 – 102        Flûte     Sébastien\n"
     ]
    }
   ],
   "source": [
    "# Faire ici l'affichage du tableau de résultat des quarts de finale\n",
    "resultat = requete_vers_dataframe(conn, f\"\"\"\n",
    "SELECT a1.nomAthlete, a1.prenomAthlete, resultatMatch, a2.nomAthlete, a2.prenomAthlete\n",
    "FROM match_individuel mi\n",
    "INNER JOIN athlete a1 ON a1.idathlete = athlete1\n",
    "INNER JOIN athlete a2 ON a2.idathlete = athlete2\n",
    "WHERE idevenement = {idev} AND idmanche = {id_manche}\n",
    "ORDER BY TO_NUMBER(REGEXP_SUBSTR(resultatMatch, '\\\\d+')) DESC, TO_NUMBER(REGEXP_SUBSTR(resultatMatch, '\\\\d+$')) DESC\n",
    "\"\"\")\n",
    "\n",
    "print(resultat)"
   ]
  },
  {
   "cell_type": "markdown",
   "metadata": {},
   "source": [
    "### Demi-finales [Bonus]\n",
    "\n",
    "Faire de même ici avec les résultats des demies-finales. Pour simplifier, on considérera que les scores sont identiques à ceux en arc classique."
   ]
  },
  {
   "cell_type": "code",
   "execution_count": 284,
   "metadata": {},
   "outputs": [],
   "source": [
    "# Faire ici l'insertion des données\n",
    "id_manche = 6\n",
    "with Connexion(login=conn['login'], password=conn['password']) as connexion: \n",
    "    connexion.begin()\n",
    "    curseur = connexion.cursor()\n",
    "\n",
    "    curseur.execute(f\"INSERT INTO manche VALUES ({idev}, {id_manche}, 'Semi-Finals' )\")\n",
    "\n",
    "    curseur.execute(f\"INSERT INTO match_individuel VALUES ((SELECT COUNT(*) FROM match_individuel), {idev}, {id_manche}, 300, 83175, '112 – 110')\")\n",
    "    curseur.execute(f\"INSERT INTO match_individuel VALUES ((SELECT COUNT(*) FROM match_individuel), {idev}, {id_manche}, 83205, 2143, '108 – 107')\")\n",
    "\n",
    "    connexion.commit()"
   ]
  },
  {
   "cell_type": "code",
   "execution_count": 285,
   "metadata": {},
   "outputs": [
    {
     "name": "stdout",
     "output_type": "stream",
     "text": [
      "    NOMATHLETE PRENOMATHLETE RESULTATMATCH NOMATHLETE PRENOMATHLETE\n",
      "0  Fairweather         Simon     112 – 110  van Alten        Wietse\n",
      "1     Wunderle           Vic     108 – 107  Petersson        Magnus\n"
     ]
    }
   ],
   "source": [
    "# Faire ici l'affichage du tableau de résultat des demies-finales\n",
    "resultat = requete_vers_dataframe(conn, f\"\"\"\n",
    "SELECT a1.nomAthlete, a1.prenomAthlete, resultatMatch, a2.nomAthlete, a2.prenomAthlete\n",
    "FROM match_individuel mi\n",
    "INNER JOIN athlete a1 ON a1.idathlete = athlete1\n",
    "INNER JOIN athlete a2 ON a2.idathlete = athlete2\n",
    "WHERE idevenement = {idev} AND idmanche = {id_manche}\n",
    "ORDER BY TO_NUMBER(REGEXP_SUBSTR(resultatMatch, '\\\\d+')) DESC, TO_NUMBER(REGEXP_SUBSTR(resultatMatch, '\\\\d+$')) DESC\n",
    "\"\"\")\n",
    "\n",
    "print(resultat)"
   ]
  },
  {
   "cell_type": "markdown",
   "metadata": {},
   "source": [
    "### Finale [Bonus]\n",
    "\n",
    "Faire de même ici avec les résultats de la finale. Pour simplifier, on considérera que les scores sont identiques à ceux en arc classique."
   ]
  },
  {
   "cell_type": "code",
   "execution_count": 286,
   "metadata": {},
   "outputs": [],
   "source": [
    "# Faire ici l'insertion des données\n",
    "id_manche = 7\n",
    "with Connexion(login=conn['login'], password=conn['password']) as connexion: \n",
    "    connexion.begin()\n",
    "    curseur = connexion.cursor()\n",
    "    curseur.execute(f\"INSERT INTO manche VALUES ({idev}, {id_manche}, 'Final Round' )\")\n",
    "\n",
    "    curseur.execute(f\"INSERT INTO match_individuel VALUES ((SELECT COUNT(*) FROM match_individuel), {idev}, {id_manche}, 300, 83205, '113 – 106')\")\n",
    "    curseur.execute(f\"INSERT INTO match_individuel VALUES ((SELECT COUNT(*) FROM match_individuel), {idev}, {id_manche}, 83175, 2143, '114 – 109')\")\n",
    "    \n",
    "    connexion.commit()"
   ]
  },
  {
   "cell_type": "code",
   "execution_count": 287,
   "metadata": {},
   "outputs": [
    {
     "name": "stdout",
     "output_type": "stream",
     "text": [
      "    NOMATHLETE PRENOMATHLETE RESULTATMATCH NOMATHLETE PRENOMATHLETE\n",
      "0    van Alten        Wietse     114 – 109  Petersson        Magnus\n",
      "1  Fairweather         Simon     113 – 106   Wunderle           Vic\n"
     ]
    }
   ],
   "source": [
    "# Faire ici l'affichage du tableau de résultat de la finale\n",
    "resultat = requete_vers_dataframe(conn, f\"\"\"\n",
    "SELECT a1.nomAthlete, a1.prenomAthlete, resultatMatch, a2.nomAthlete, a2.prenomAthlete\n",
    "FROM match_individuel mi\n",
    "INNER JOIN athlete a1 ON a1.idathlete = athlete1\n",
    "INNER JOIN athlete a2 ON a2.idathlete = athlete2\n",
    "WHERE idevenement = {idev} AND idmanche = {id_manche}\n",
    "ORDER BY TO_NUMBER(REGEXP_SUBSTR(resultatMatch, '\\\\d+')) DESC, TO_NUMBER(REGEXP_SUBSTR(resultatMatch, '\\\\d+$')) DESC\n",
    "\"\"\")\n",
    "\n",
    "print(resultat)"
   ]
  },
  {
   "cell_type": "markdown",
   "metadata": {},
   "source": [
    "### Résultats des médailles\n",
    "\n",
    "Pour terminer, saisir les résultats des médailles"
   ]
  },
  {
   "cell_type": "code",
   "execution_count": 288,
   "metadata": {},
   "outputs": [
    {
     "ename": "DatabaseError",
     "evalue": "ORA-00900: invalid SQL statement\nHelp: https://docs.oracle.com/error-help/db/ora-00900/",
     "output_type": "error",
     "traceback": [
      "\u001b[0;31m---------------------------------------------------------------------------\u001b[0m",
      "\u001b[0;31mDatabaseError\u001b[0m                             Traceback (most recent call last)",
      "Cell \u001b[0;32mIn[288], line 6\u001b[0m\n\u001b[1;32m      3\u001b[0m connexion\u001b[38;5;241m.\u001b[39mbegin()\n\u001b[1;32m      4\u001b[0m curseur \u001b[38;5;241m=\u001b[39m connexion\u001b[38;5;241m.\u001b[39mcursor()\n\u001b[0;32m----> 6\u001b[0m \u001b[43mcurseur\u001b[49m\u001b[38;5;241;43m.\u001b[39;49m\u001b[43mexecute\u001b[49m\u001b[43m(\u001b[49m\u001b[38;5;124;43mf\u001b[39;49m\u001b[38;5;124;43m\"\u001b[39;49m\u001b[38;5;124;43mexecute ajouter_resultat_individuel(\u001b[39;49m\u001b[38;5;132;43;01m{\u001b[39;49;00m\u001b[43midev\u001b[49m\u001b[38;5;132;43;01m}\u001b[39;49;00m\u001b[38;5;124;43m, 300, AUS, 1)\u001b[39;49m\u001b[38;5;124;43m\"\u001b[39;49m\u001b[43m)\u001b[49m\n\u001b[1;32m      7\u001b[0m curseur\u001b[38;5;241m.\u001b[39mexecute(\u001b[38;5;124mf\u001b[39m\u001b[38;5;124m\"\u001b[39m\u001b[38;5;124majouter_resultat_individuel(\u001b[39m\u001b[38;5;132;01m{\u001b[39;00midev\u001b[38;5;132;01m}\u001b[39;00m\u001b[38;5;124m, 83205, USA, 2)\u001b[39m\u001b[38;5;124m\"\u001b[39m)\n\u001b[1;32m      8\u001b[0m curseur\u001b[38;5;241m.\u001b[39mexecute(\u001b[38;5;124mf\u001b[39m\u001b[38;5;124m\"\u001b[39m\u001b[38;5;124majouter_resultat_individuel(\u001b[39m\u001b[38;5;132;01m{\u001b[39;00midev\u001b[38;5;132;01m}\u001b[39;00m\u001b[38;5;124m, 83175, NED, 3)\u001b[39m\u001b[38;5;124m\"\u001b[39m)\n",
      "File \u001b[0;32m~/Documents/BUT1-S2-2023-2024/S204-exploitationbd/partie-2/.venv/lib/python3.12/site-packages/oracledb/cursor.py:701\u001b[0m, in \u001b[0;36mCursor.execute\u001b[0;34m(self, statement, parameters, **keyword_parameters)\u001b[0m\n\u001b[1;32m    699\u001b[0m \u001b[38;5;28mself\u001b[39m\u001b[38;5;241m.\u001b[39m_prepare_for_execute(statement, parameters, keyword_parameters)\n\u001b[1;32m    700\u001b[0m impl \u001b[38;5;241m=\u001b[39m \u001b[38;5;28mself\u001b[39m\u001b[38;5;241m.\u001b[39m_impl\n\u001b[0;32m--> 701\u001b[0m \u001b[43mimpl\u001b[49m\u001b[38;5;241;43m.\u001b[39;49m\u001b[43mexecute\u001b[49m\u001b[43m(\u001b[49m\u001b[38;5;28;43mself\u001b[39;49m\u001b[43m)\u001b[49m\n\u001b[1;32m    702\u001b[0m \u001b[38;5;28;01mif\u001b[39;00m impl\u001b[38;5;241m.\u001b[39mfetch_vars \u001b[38;5;129;01mis\u001b[39;00m \u001b[38;5;129;01mnot\u001b[39;00m \u001b[38;5;28;01mNone\u001b[39;00m:\n\u001b[1;32m    703\u001b[0m     \u001b[38;5;28;01mreturn\u001b[39;00m \u001b[38;5;28mself\u001b[39m\n",
      "File \u001b[0;32msrc/oracledb/impl/thin/cursor.pyx:178\u001b[0m, in \u001b[0;36moracledb.thin_impl.ThinCursorImpl.execute\u001b[0;34m()\u001b[0m\n",
      "File \u001b[0;32msrc/oracledb/impl/thin/protocol.pyx:438\u001b[0m, in \u001b[0;36moracledb.thin_impl.Protocol._process_single_message\u001b[0;34m()\u001b[0m\n",
      "File \u001b[0;32msrc/oracledb/impl/thin/protocol.pyx:439\u001b[0m, in \u001b[0;36moracledb.thin_impl.Protocol._process_single_message\u001b[0;34m()\u001b[0m\n",
      "File \u001b[0;32msrc/oracledb/impl/thin/protocol.pyx:432\u001b[0m, in \u001b[0;36moracledb.thin_impl.Protocol._process_message\u001b[0;34m()\u001b[0m\n",
      "\u001b[0;31mDatabaseError\u001b[0m: ORA-00900: invalid SQL statement\nHelp: https://docs.oracle.com/error-help/db/ora-00900/"
     ]
    }
   ],
   "source": [
    "# Faire ici les insertions de données pour les résultats dans la table PARTICIPATION_INDIVIDUELLE\n",
    "with Connexion(login=conn['login'], password=conn['password']) as connexion: \n",
    "    connexion.begin()\n",
    "    curseur = connexion.cursor()\n",
    "\n",
    "    curseur.execute(f\"execute ajouter_resultat_individuel({idev}, 300, 'AUS', 1)\")\n",
    "    curseur.execute(f\"execute ajouter_resultat_individuel({idev}, 83205, 'USA', 2)\")\n",
    "    curseur.execute(f\"execute ajouter_resultat_individuel({idev}, 83175, 'NED', 3)\")\n",
    "    curseur.execute(f\"execute ajouter_resultat_individuel({idev}, 2143, 'SWE', 4)\")\n",
    "    curseur.execute(f\"execute ajouter_resultat_individuel({idev}, 83168, 'KOR', 5)\")\n",
    "    curseur.execute(f\"execute ajouter_resultat_individuel({idev}, 1978, 'KOR', 6)\")\n",
    "    curseur.execute(f\"execute ajouter_resultat_individuel({idev}, 2110, 'RUS', 7)\")\n",
    "    curseur.execute(f\"execute ajouter_resultat_individuel({idev}, 471, 'FRA', 8)\")\n",
    "    curseur.execute(f\"execute ajouter_resultat_individuel({idev}, 1921, 'ITA', 9)\")\n",
    "    curseur.execute(f\"execute ajouter_resultat_individuel({idev}, 1953, 'KAZ', 10)\")\n",
    "    curseur.execute(f\"execute ajouter_resultat_individuel({idev}, 1973, 'KOR', 11)\")\n",
    "    curseur.execute(f\"execute ajouter_resultat_individuel({idev}, 2187, 'KAZ', 12)\")\n",
    "    curseur.execute(f\"execute ajouter_resultat_individuel({idev}, 80476, 'CHN', 13)\")\n",
    "    curseur.execute(f\"execute ajouter_resultat_individuel({idev}, 80478, 'CUB', 14)\")\n",
    "    curseur.execute(f\"execute ajouter_resultat_individuel({idev}, 83164, 'JPN', 15)\")\n",
    "    curseur.execute(f\"execute ajouter_resultat_individuel({idev}, 83176, 'NED', 16)\")\n",
    "    curseur.execute(f\"execute ajouter_resultat_individuel({idev}, 80491, 'GBR', 17)\")\n",
    "    curseur.execute(f\"execute ajouter_resultat_individuel({idev}, 83194, 'TUR', 18)\")\n",
    "    curseur.execute(f\"execute ajouter_resultat_individuel({idev}, 2235, 'USA', 19)\")\n",
    "    curseur.execute(f\"execute ajouter_resultat_individuel({idev}, 1919, 'ITA', 20)\")\n",
    "    curseur.execute(f\"execute ajouter_resultat_individuel({idev}, 1918, 'ITA', 21)\")\n",
    "    curseur.execute(f\"execute ajouter_resultat_individuel({idev}, 83185, 'POL', 22)\")\n",
    "    curseur.execute(f\"execute ajouter_resultat_individuel({idev}, 83184, 'POL', 23)\")\n",
    "    curseur.execute(f\"execute ajouter_resultat_individuel({idev}, 304, 'AUS', 24)\")\n",
    "    curseur.execute(f\"execute ajouter_resultat_individuel({idev}, 80495, 'GER', 25)\")\n",
    "    curseur.execute(f\"execute ajouter_resultat_individuel({idev}, 2253, 'USA', 26)\")\n",
    "    curseur.execute(f\"execute ajouter_resultat_individuel({idev}, 80471, 'BEL', 27)\")\n",
    "    curseur.execute(f\"execute ajouter_resultat_individuel({idev}, 83199, 'UKR', 28)\")\n",
    "    curseur.execute(f\"execute ajouter_resultat_individuel({idev}, 80488, 'FRA', 29)\")\n",
    "    curseur.execute(f\"execute ajouter_resultat_individuel({idev}, 83178, 'NOR', 30)\")\n",
    "    curseur.execute(f\"execute ajouter_resultat_individuel({idev}, 401, 'CHN', 31)\")\n",
    "    curseur.execute(f\"execute ajouter_resultat_individuel({idev}, 83190, 'SWE', 32)\")\n",
    "    curseur.execute(f\"execute ajouter_resultat_individuel({idev}, 1942, 'JPN', 33)\")\n",
    "    curseur.execute(f\"execute ajouter_resultat_individuel({idev}, 2198, 'RUS', 34)\")\n",
    "    curseur.execute(f\"execute ajouter_resultat_individuel({idev}, 80481, 'CUB', 35)\")\n",
    "    curseur.execute(f\"execute ajouter_resultat_individuel({idev}, 302, 'AUS', 36)\")\n",
    "    curseur.execute(f\"execute ajouter_resultat_individuel({idev}, 500, 'FRA', 37)\")\n",
    "    curseur.execute(f\"execute ajouter_resultat_individuel({idev}, 80486, 'FIN', 38)\")\n",
    "    curseur.execute(f\"execute ajouter_resultat_individuel({idev}, 83202, 'UKR', 39)\")\n",
    "    curseur.execute(f\"execute ajouter_resultat_individuel({idev}, 83177, 'NOR', 40)\")\n",
    "    curseur.execute(f\"execute ajouter_resultat_individuel({idev}, 2040, 'NOR', 41)\")\n",
    "    curseur.execute(f\"execute ajouter_resultat_individuel({idev}, 80501, 'JPN', 42)\")\n",
    "    curseur.execute(f\"execute ajouter_resultat_individuel({idev}, 346, 'BHU', 43)\")\n",
    "    curseur.execute(f\"execute ajouter_resultat_individuel({idev}, 83196, 'TUR', 44)\")\n",
    "    curseur.execute(f\"execute ajouter_resultat_individuel({idev}, 83189, 'SWE', 45)\")\n",
    "    curseur.execute(f\"execute ajouter_resultat_individuel({idev}, 83201, 'UKR', 46)\")\n",
    "    curseur.execute(f\"execute ajouter_resultat_individuel({idev}, 380, 'CAN', 47)\")\n",
    "    curseur.execute(f\"execute ajouter_resultat_individuel({idev}, 83180, 'NZL', 48)\")\n",
    "    curseur.execute(f\"execute ajouter_resultat_individuel({idev}, 394, 'CHN', 49)\")\n",
    "    curseur.execute(f\"execute ajouter_resultat_individuel({idev}, 440, 'FIN', 50)\")\n",
    "    curseur.execute(f\"execute ajouter_resultat_individuel({idev}, 83171, 'MEX', 51)\")\n",
    "    curseur.execute(f\"execute ajouter_resultat_individuel({idev}, 2108, 'RUS', 52)\")\n",
    "    curseur.execute(f\"execute ajouter_resultat_individuel({idev}, 2111, 'SLO', 53)\")\n",
    "    curseur.execute(f\"execute ajouter_resultat_individuel({idev}, 83165, 'KAZ', 54)\")\n",
    "    curseur.execute(f\"execute ajouter_resultat_individuel({idev}, 80484, 'ESA', 55)\")\n",
    "    curseur.execute(f\"execute ajouter_resultat_individuel({idev}, 80483, 'EGY', 56)\")\n",
    "    curseur.execute(f\"execute ajouter_resultat_individuel({idev}, 2035, 'NED', 57)\")\n",
    "    curseur.execute(f\"execute ajouter_resultat_individuel({idev}, 83179, 'NZL', 58)\")\n",
    "    curseur.execute(f\"execute ajouter_resultat_individuel({idev}, 83195, 'TUR', 59)\")\n",
    "    curseur.execute(f\"execute ajouter_resultat_individuel({idev}, 2075, 'POR', 60)\")\n",
    "    curseur.execute(f\"execute ajouter_resultat_individuel({idev}, 83206, 'VAN', 61)\")\n",
    "    curseur.execute(f\"execute ajouter_resultat_individuel({idev}, 83173, 'MRI', 62)\")\n",
    "    curseur.execute(f\"execute ajouter_resultat_individuel({idev}, 1957, 'KEN', 63)\")\n",
    "    curseur.execute(f\"execute ajouter_resultat_individuel({idev}, 80467, 'ASA', 64)\")\n",
    "\n",
    "    connexion.commit()"
   ]
  },
  {
   "cell_type": "markdown",
   "metadata": {},
   "source": [
    "## Vérification\n",
    "\n",
    "Afficher le tableau des médailles de l'Italie après les ajouts de la nouvelle épreuve."
   ]
  },
  {
   "cell_type": "code",
   "execution_count": null,
   "metadata": {},
   "outputs": [
    {
     "data": {
      "text/html": [
       "<div>\n",
       "<style scoped>\n",
       "    .dataframe tbody tr th:only-of-type {\n",
       "        vertical-align: middle;\n",
       "    }\n",
       "\n",
       "    .dataframe tbody tr th {\n",
       "        vertical-align: top;\n",
       "    }\n",
       "\n",
       "    .dataframe thead th {\n",
       "        text-align: right;\n",
       "    }\n",
       "</style>\n",
       "<table border=\"1\" class=\"dataframe\">\n",
       "  <thead>\n",
       "    <tr style=\"text-align: right;\">\n",
       "      <th></th>\n",
       "      <th>NOC</th>\n",
       "      <th>GOLD</th>\n",
       "      <th>SILVER</th>\n",
       "      <th>BRONZE</th>\n",
       "      <th>TOTAL</th>\n",
       "    </tr>\n",
       "  </thead>\n",
       "  <tbody>\n",
       "    <tr>\n",
       "      <th>7</th>\n",
       "      <td>ITA</td>\n",
       "      <td>9</td>\n",
       "      <td>5</td>\n",
       "      <td>9</td>\n",
       "      <td>23</td>\n",
       "    </tr>\n",
       "  </tbody>\n",
       "</table>\n",
       "</div>"
      ],
      "text/plain": [
       "   NOC  GOLD  SILVER  BRONZE  TOTAL\n",
       "7  ITA     9       5       9     23"
      ]
     },
     "execution_count": 250,
     "metadata": {},
     "output_type": "execute_result"
    }
   ],
   "source": [
    "# Affichage du tableau (cf. début de la partie modification)\n",
    "classementNocIndividuel[classementNocIndividuel['NOC'] == 'ITA']"
   ]
  },
  {
   "cell_type": "markdown",
   "metadata": {},
   "source": [
    "### Nettoyage\n",
    "\n",
    "Supprimez maintenant tous les ajouts précédents (médailles, résultats détaillés, nouvelles épreuves) de votre base."
   ]
  },
  {
   "cell_type": "code",
   "execution_count": 289,
   "metadata": {},
   "outputs": [],
   "source": [
    "# Nettoyage (avec des requêtes DELETE)\n",
    "with Connexion(login=conn['login'], password=conn['password']) as connexion: \n",
    "    connexion.begin()\n",
    "    curseur = connexion.cursor()\n",
    "    manches = requete_vers_dataframe(conn, f\"SELECT * FROM manche WHERE idevenement = {idev}\")\n",
    "    print(manches)\n",
    "\n",
    "    curseur.execute(f'DELETE FROM participation_individuelle WHERE idevent = {idev}')\n",
    "    curseur.execute(f'DELETE FROM performance_individuelle WHERE idevenement = {idev} AND idmanche = {manche_resultat}')\n",
    "    curseur.execute(f'DELETE FROM resultat WHERE idevenement = {idev} AND idmanche = {manche_resultat}')\n",
    "    curseur.execute(f'DELETE FROM resultat_libelle WHERE idevenement = {idev} AND idmanche = {manche_resultat}')\n",
    "    curseur.execute(f'DELETE FROM match_individuel WHERE idevenement = {idev}')\n",
    "    curseur.execute(f'DELETE FROM manche WHERE idevenement = {idev}')\n",
    "    curseur.execute(f'DELETE FROM evenement WHERE idevenement = {idev}')\n",
    "\n",
    "    connexion.commit()"
   ]
  }
 ],
 "metadata": {
  "kernelspec": {
   "display_name": "S204",
   "language": "python",
   "name": "python3"
  },
  "language_info": {
   "codemirror_mode": {
    "name": "ipython",
    "version": 3
   },
   "file_extension": ".py",
   "mimetype": "text/x-python",
   "name": "python",
   "nbconvert_exporter": "python",
   "pygments_lexer": "ipython3",
   "version": "3.11.4"
  }
 },
 "nbformat": 4,
 "nbformat_minor": 2
}
