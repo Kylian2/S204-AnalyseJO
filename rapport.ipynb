{
 "cells": [
  {
   "cell_type": "code",
   "execution_count": 1,
   "id": "770bedf2-b316-48b6-81cf-e5599a0fcedc",
   "metadata": {
    "tags": []
   },
   "outputs": [],
   "source": [
    "# A décommenter à la première exécution si jupyter se plaint de ne pas trouver oracledb\n",
    "#!pip install --upgrade oracledb\n",
    "#!pip install --upgrade folium"
   ]
  },
  {
   "cell_type": "code",
   "execution_count": 2,
   "id": "5f5b12ba-6a09-43e2-b1ad-847ec617e465",
   "metadata": {
    "tags": []
   },
   "outputs": [],
   "source": [
    "# Compléter ici les imports dont vous avez besoin, ne pas modifier ceux déjà présents\n",
    "import getpass\n",
    "from os import getenv\n",
    "import pandas as pd\n",
    "import oracledb\n",
    "import warnings\n",
    "import matplotlib.pyplot as plt\n",
    "import folium\n",
    "import requests\n",
    "from bs4 import BeautifulSoup\n",
    "import re\n",
    "import numpy as np\n",
    "import math\n",
    "from IPython.display import HTML"
   ]
  },
  {
   "cell_type": "markdown",
   "id": "4989f1b3-e441-48d7-a8e8-18fe979f610d",
   "metadata": {},
   "source": [
    "## Connexion à la base"
   ]
  },
  {
   "cell_type": "code",
   "execution_count": 3,
   "id": "6dd0f976-335d-4844-befe-b2246e0e7134",
   "metadata": {
    "tags": []
   },
   "outputs": [],
   "source": [
    "# Nécessaire pour éviter les problèmes de session\n",
    "class Connexion(object):\n",
    "    def __init__(self, login, password):\n",
    "        self.conn = oracledb.connect(\n",
    "            user=login,\n",
    "            password=password,\n",
    "            host=\"oracle.iut-orsay.fr\",\n",
    "            port=1521,\n",
    "            sid=\"etudom\",\n",
    "        )\n",
    "        self.conn.autocommit = False\n",
    "\n",
    "    def __enter__(self):\n",
    "        self.conn.autocommit = False\n",
    "        return self.conn\n",
    "\n",
    "    def __exit__(self, *args):\n",
    "        self.conn.close()"
   ]
  },
  {
   "cell_type": "code",
   "execution_count": 4,
   "id": "9fcf1a48-ec1a-47bc-a4dd-ca3d7b5ec466",
   "metadata": {
    "tags": []
   },
   "outputs": [],
   "source": [
    "# La fonction ci-dessous est à utiliser pour exécuter une requête et stocker les résultats dans un dataframe Pandas sans afficher d’alerte.\n",
    "# Vous pouvez vous en inspirer pour créer vos propres fonctions.\n",
    "def requete_vers_dataframe(connexion_data, requete, valeurs = None):\n",
    "    with Connexion(login=connexion_data['login'], password=connexion_data['password']) as connexion:\n",
    "        warnings.simplefilter(action='ignore', category=UserWarning)\n",
    "        if valeurs is not None:\n",
    "            df = pd.read_sql(requete, connexion, params=valeurs)\n",
    "        else:\n",
    "            df = pd.read_sql(requete, connexion)\n",
    "        warnings.simplefilter(\"always\") \n",
    "        return df"
   ]
  },
  {
   "cell_type": "code",
   "execution_count": 5,
   "id": "290efa99-c718-40b8-829a-914759fb021e",
   "metadata": {
    "tags": []
   },
   "outputs": [],
   "source": [
    "# Saisir ci-dessous l'édition des JO qui vous a été attribuée. Cela correspond au LibelleHote dans la table HOTE de la base de données\n",
    "# Par exemple EDITION_JO = \"2020 Summer Olympics\"\n",
    "EDITION_JO = \"2000 Summer Olympics\"\n",
    "# Saisir ci-dessous le login court de la base utilisée pour votre carnet\n",
    "SCHEMA = \"KRICHA2\""
   ]
  },
  {
   "cell_type": "code",
   "execution_count": 6,
   "id": "d62f82d8-3245-4487-ad27-9f6465a4fbae",
   "metadata": {},
   "outputs": [
    {
     "name": "stdin",
     "output_type": "stream",
     "text": [
      "Login :  KLENTZ\n",
      "Mot de passe :  ········\n"
     ]
    }
   ],
   "source": [
    "# On demande à l'utilisateur son login et mot de passe pour pouvoir accéder à la base de données\n",
    "if getenv(\"DB_LOGIN\") is None:\n",
    "    login = input(\"Login : \")\n",
    "else:\n",
    "    login = getenv(\"DB_LOGIN\")\n",
    "if getenv(\"DB_PASS\") is None:\n",
    "    password = getpass.getpass(\"Mot de passe : \")\n",
    "else:\n",
    "    password = getenv(\"DB_PASS\")\n",
    "conn = {'login': login, 'password': password}"
   ]
  },
  {
   "cell_type": "code",
   "execution_count": 7,
   "id": "0b3d60cb-9901-4b17-8d4b-cc5064472a31",
   "metadata": {},
   "outputs": [
    {
     "name": "stdout",
     "output_type": "stream",
     "text": [
      "Identifiant de l’hôte : 25\n"
     ]
    }
   ],
   "source": [
    "# On vérifie que l'utilisateur est bien connecté à la base de données, que le schéma est bon, et qu'on trouve la bonne édition des JO\n",
    "data = requete_vers_dataframe(conn, f\"SELECT * FROM {SCHEMA}.HOTE WHERE LibelleHote LIKE (:libelle)\",{\"libelle\":EDITION_JO})\n",
    "id_hote = int(data.IDHOTE.iloc[0])\n",
    "print(f\"Identifiant de l’hôte : {id_hote}\")"
   ]
  },
  {
   "cell_type": "markdown",
   "id": "db452347-ce17-4a02-92d0-6c625b217d57",
   "metadata": {},
   "source": [
    "# Présentation générale de l'édition des JO qui vous a été assignée"
   ]
  },
  {
   "cell_type": "code",
   "execution_count": 8,
   "id": "c313d25f-c08b-4203-b37b-c5adf2a10f8d",
   "metadata": {
    "tags": []
   },
   "outputs": [],
   "source": [
    "# recupérer les années des éditions précédentes\n",
    "anneeJOprecedent = requete_vers_dataframe(conn, f\"\"\"SELECT ANNEEHOTE FROM {SCHEMA}.HOTE\n",
    "WHERE CODENOCHOTE = 'AUS' AND ANNEEHOTE < (SELECT ANNEEHOTE FROM HOTE\n",
    "                                            WHERE idhote =  {id_hote})\"\"\")\n",
    "# recuperer la ville hote l'édition\n",
    "df_villeHote = requete_vers_dataframe(conn, f\"\"\"SELECT VILLEHOTE FROM {SCHEMA}.HOTE WHERE idhote =  {id_hote}\"\"\")\n",
    "# recuperer l'année de l'édtition\n",
    "df_anneeHote = requete_vers_dataframe(conn, f\"\"\"SELECT ANNEEHOTE FROM {SCHEMA}.HOTE WHERE idhote =  {id_hote}\"\"\")\n",
    "# recupérer les dates des Jeux Olympique \n",
    "dateCompetition = requete_vers_dataframe(conn, f\"\"\"SELECT DATESCOMPETITION FROM HOTE WHERE IDHOTE = {id_hote}\"\"\")\n",
    "# recupérer les pays hote\n",
    "df_paysHote = requete_vers_dataframe(conn, f\"\"\"SELECT NOMNOC, CODENOC FROM {SCHEMA}.HOTE H INNER JOIN {SCHEMA}.NOC N ON N.CODENOC = H.CODENOCHOTE WHERE idHote = {id_hote}\"\"\")\n",
    "# dates_competition est un tableau, donc boucle pour recupere valeur\n",
    "for dates in dateCompetition['DATESCOMPETITION'].values:\n",
    "    # séparer en deux date au '-'\n",
    "    dateDebut, dateFin = dates.split(' – ')\n",
    "# calculer du nombre d'éditions précèdentes\n",
    "ancienJo = anneeJOprecedent['ANNEEHOTE'].values\n",
    "match len(ancienJo):\n",
    "    case 0:\n",
    "        niemeEdition = \"première\"\n",
    "    case 1:\n",
    "        niemeEdition = \"deuxième\"\n",
    "    case 2:\n",
    "        niemeEdition = \"troisième\"\n",
    "    case 3:\n",
    "        niemeEdition = \"quatrième\"\n",
    "# stocker résultat dans variable pour l'affichage\n",
    "villeHote = df_villeHote.loc[0,'VILLEHOTE']\n",
    "anneeHote = df_anneeHote.loc[0,'ANNEEHOTE']\n",
    "paysHote = df_paysHote.loc[0,'NOMNOC']\n",
    "#villeHote_bf = df_villeHote_bf.loc[0,'VILLEHOTE']\n",
    "anneHote_bf = int(ancienJo)\n",
    "# recupérer la ville hote de l'édition précédente\n",
    "NOCHote = df_paysHote.loc[0,'CODENOC']\n",
    "df_villeHote = requete_vers_dataframe(conn, f\"\"\"SELECT VILLEHOTE FROM {SCHEMA}.HOTE H WHERE ANNEEHOTE = {anneHote_bf} AND CODENOCHOTE = '{NOCHote}'\"\"\")\n",
    "villeHote_bf = df_villeHote.loc[0,'VILLEHOTE']"
   ]
  },
  {
   "cell_type": "code",
   "execution_count": 9,
   "id": "d7db1972-da37-4c22-8fff-0720a19be000",
   "metadata": {
    "tags": []
   },
   "outputs": [
    {
     "data": {
      "text/html": [
       "Les 2000 Summer Olympics se sont déroulé principalement à Sydney. Ces Jeux ont eu lieu du 13 September au \n",
       "             1 October 2000."
      ],
      "text/plain": [
       "<IPython.core.display.HTML object>"
      ]
     },
     "metadata": {},
     "output_type": "display_data"
    },
    {
     "data": {
      "text/html": [
       "Pour l'Australia, c'est la deuxième fois qu'elle accueillait les Jeux Olympiques, l'édition précédente ayant \n",
       "            eu lieu à Melbourne en 1956"
      ],
      "text/plain": [
       "<IPython.core.display.HTML object>"
      ]
     },
     "metadata": {},
     "output_type": "display_data"
    }
   ],
   "source": [
    "# texte de présentation des Jeux Olympique\n",
    "display(HTML(f\"\"\"Les {EDITION_JO} se sont déroulé principalement à {villeHote}. Ces Jeux ont eu lieu du {dateDebut} au \n",
    "            {dateFin} {anneeHote}.\"\"\"))\n",
    "display(HTML(f\"\"\"Pour l'{paysHote}, c'est la {niemeEdition} fois qu'elle accueillait les Jeux Olympiques, l'édition précédente ayant \n",
    "            eu lieu à {villeHote_bf} en {anneHote_bf}\"\"\"))"
   ]
  },
  {
   "cell_type": "markdown",
   "id": "ad072673-759e-4d3d-b020-00b158599382",
   "metadata": {
    "tags": []
   },
   "source": [
    "### Récupérer les coordonnées des lieux et les mettres sur une carte"
   ]
  },
  {
   "cell_type": "code",
   "execution_count": 10,
   "id": "36ce1649-8821-4a32-b5e3-377bb36d1609",
   "metadata": {
    "tags": []
   },
   "outputs": [
    {
     "data": {
      "text/html": [
       "<b><font size='+2'>Carte des épreuves des Jeux Olympique d'été 2000</font></b>"
      ],
      "text/plain": [
       "<IPython.core.display.HTML object>"
      ]
     },
     "metadata": {},
     "output_type": "display_data"
    },
    {
     "name": "stdout",
     "output_type": "stream",
     "text": [
      " \n"
     ]
    },
    {
     "data": {
      "text/html": [
       "<div style=\"width:100%;\"><div style=\"position:relative;width:100%;height:0;padding-bottom:60%;\"><span style=\"color:#565656\">Make this Notebook Trusted to load map: File -> Trust Notebook</span><iframe srcdoc=\"&lt;!DOCTYPE html&gt;\n",
       "&lt;html&gt;\n",
       "&lt;head&gt;\n",
       "    \n",
       "    &lt;meta http-equiv=&quot;content-type&quot; content=&quot;text/html; charset=UTF-8&quot; /&gt;\n",
       "    \n",
       "        &lt;script&gt;\n",
       "            L_NO_TOUCH = false;\n",
       "            L_DISABLE_3D = false;\n",
       "        &lt;/script&gt;\n",
       "    \n",
       "    &lt;style&gt;html, body {width: 100%;height: 100%;margin: 0;padding: 0;}&lt;/style&gt;\n",
       "    &lt;style&gt;#map {position:absolute;top:0;bottom:0;right:0;left:0;}&lt;/style&gt;\n",
       "    &lt;script src=&quot;https://cdn.jsdelivr.net/npm/leaflet@1.9.3/dist/leaflet.js&quot;&gt;&lt;/script&gt;\n",
       "    &lt;script src=&quot;https://code.jquery.com/jquery-3.7.1.min.js&quot;&gt;&lt;/script&gt;\n",
       "    &lt;script src=&quot;https://cdn.jsdelivr.net/npm/bootstrap@5.2.2/dist/js/bootstrap.bundle.min.js&quot;&gt;&lt;/script&gt;\n",
       "    &lt;script src=&quot;https://cdnjs.cloudflare.com/ajax/libs/Leaflet.awesome-markers/2.0.2/leaflet.awesome-markers.js&quot;&gt;&lt;/script&gt;\n",
       "    &lt;link rel=&quot;stylesheet&quot; href=&quot;https://cdn.jsdelivr.net/npm/leaflet@1.9.3/dist/leaflet.css&quot;/&gt;\n",
       "    &lt;link rel=&quot;stylesheet&quot; href=&quot;https://cdn.jsdelivr.net/npm/bootstrap@5.2.2/dist/css/bootstrap.min.css&quot;/&gt;\n",
       "    &lt;link rel=&quot;stylesheet&quot; href=&quot;https://netdna.bootstrapcdn.com/bootstrap/3.0.0/css/bootstrap-glyphicons.css&quot;/&gt;\n",
       "    &lt;link rel=&quot;stylesheet&quot; href=&quot;https://cdn.jsdelivr.net/npm/@fortawesome/fontawesome-free@6.2.0/css/all.min.css&quot;/&gt;\n",
       "    &lt;link rel=&quot;stylesheet&quot; href=&quot;https://cdnjs.cloudflare.com/ajax/libs/Leaflet.awesome-markers/2.0.2/leaflet.awesome-markers.css&quot;/&gt;\n",
       "    &lt;link rel=&quot;stylesheet&quot; href=&quot;https://cdn.jsdelivr.net/gh/python-visualization/folium/folium/templates/leaflet.awesome.rotate.min.css&quot;/&gt;\n",
       "    \n",
       "            &lt;meta name=&quot;viewport&quot; content=&quot;width=device-width,\n",
       "                initial-scale=1.0, maximum-scale=1.0, user-scalable=no&quot; /&gt;\n",
       "            &lt;style&gt;\n",
       "                #map_28c3bfa9c9da62a0defcdfc841e0d092 {\n",
       "                    position: relative;\n",
       "                    width: 1200.0px;\n",
       "                    height: 250.0px;\n",
       "                    left: 0.0%;\n",
       "                    top: 0.0%;\n",
       "                }\n",
       "                .leaflet-container { font-size: 1rem; }\n",
       "            &lt;/style&gt;\n",
       "        \n",
       "&lt;/head&gt;\n",
       "&lt;body&gt;\n",
       "    \n",
       "    \n",
       "            &lt;div class=&quot;folium-map&quot; id=&quot;map_28c3bfa9c9da62a0defcdfc841e0d092&quot; &gt;&lt;/div&gt;\n",
       "        \n",
       "&lt;/body&gt;\n",
       "&lt;script&gt;\n",
       "    \n",
       "    \n",
       "            var map_28c3bfa9c9da62a0defcdfc841e0d092 = L.map(\n",
       "                &quot;map_28c3bfa9c9da62a0defcdfc841e0d092&quot;,\n",
       "                {\n",
       "                    center: [-33.8688, 151.2093],\n",
       "                    crs: L.CRS.EPSG3857,\n",
       "                    zoom: 5,\n",
       "                    zoomControl: true,\n",
       "                    preferCanvas: false,\n",
       "                }\n",
       "            );\n",
       "\n",
       "            \n",
       "\n",
       "        \n",
       "    \n",
       "            var tile_layer_f9ce7b7563acdb9739be84bf83e00dd8 = L.tileLayer(\n",
       "                &quot;https://tile.openstreetmap.org/{z}/{x}/{y}.png&quot;,\n",
       "                {&quot;attribution&quot;: &quot;\\u0026copy; \\u003ca href=\\&quot;https://www.openstreetmap.org/copyright\\&quot;\\u003eOpenStreetMap\\u003c/a\\u003e contributors&quot;, &quot;detectRetina&quot;: false, &quot;maxNativeZoom&quot;: 19, &quot;maxZoom&quot;: 19, &quot;minZoom&quot;: 0, &quot;noWrap&quot;: false, &quot;opacity&quot;: 1, &quot;subdomains&quot;: &quot;abc&quot;, &quot;tms&quot;: false}\n",
       "            );\n",
       "        \n",
       "    \n",
       "            tile_layer_f9ce7b7563acdb9739be84bf83e00dd8.addTo(map_28c3bfa9c9da62a0defcdfc841e0d092);\n",
       "        \n",
       "    \n",
       "            var marker_372339b5f9bc6aff4f35dca6f354d3e0 = L.marker(\n",
       "                [-33.8688, 151.2093],\n",
       "                {}\n",
       "            ).addTo(map_28c3bfa9c9da62a0defcdfc841e0d092);\n",
       "        \n",
       "    \n",
       "        var popup_45440ce6f4836a854fef76adcb3cf1e4 = L.popup({&quot;maxWidth&quot;: &quot;100%&quot;});\n",
       "\n",
       "        \n",
       "            \n",
       "                var html_5fb79904f7a76ce56015ba727d92374c = $(`&lt;div id=&quot;html_5fb79904f7a76ce56015ba727d92374c&quot; style=&quot;width: 100.0%; height: 100.0%;&quot;&gt;Sydney&lt;/div&gt;`)[0];\n",
       "                popup_45440ce6f4836a854fef76adcb3cf1e4.setContent(html_5fb79904f7a76ce56015ba727d92374c);\n",
       "            \n",
       "        \n",
       "\n",
       "        marker_372339b5f9bc6aff4f35dca6f354d3e0.bindPopup(popup_45440ce6f4836a854fef76adcb3cf1e4)\n",
       "        ;\n",
       "\n",
       "        \n",
       "    \n",
       "    \n",
       "            var marker_b0ef6bcfaa67c8c9dc7f230d97555ef5 = L.marker(\n",
       "                [-33.77046, 150.85535],\n",
       "                {}\n",
       "            ).addTo(map_28c3bfa9c9da62a0defcdfc841e0d092);\n",
       "        \n",
       "    \n",
       "            var marker_3c39c7027367e52edf7028484254c224 = L.marker(\n",
       "                [-33.89102, 151.277726],\n",
       "                {}\n",
       "            ).addTo(map_28c3bfa9c9da62a0defcdfc841e0d092);\n",
       "        \n",
       "    \n",
       "            var marker_e5117c7509034c56e1f0fdb46afda8a0 = L.marker(\n",
       "                [-27.485833, 153.038056],\n",
       "                {}\n",
       "            ).addTo(map_28c3bfa9c9da62a0defcdfc841e0d092);\n",
       "        \n",
       "    \n",
       "            var marker_15b6738ce884d0e5a68d595d4f58f617 = L.marker(\n",
       "                [-35.25, 149.102778],\n",
       "                {}\n",
       "            ).addTo(map_28c3bfa9c9da62a0defcdfc841e0d092);\n",
       "        \n",
       "    \n",
       "            var marker_f95184cd48595a4fba46dd96bcb68c7f = L.marker(\n",
       "                [-33.890367, 151.223449],\n",
       "                {}\n",
       "            ).addTo(map_28c3bfa9c9da62a0defcdfc841e0d092);\n",
       "        \n",
       "    \n",
       "            var marker_7577f874e45a043c510cefe9a5a98071 = L.marker(\n",
       "                [-33.9075, 150.998611],\n",
       "                {}\n",
       "            ).addTo(map_28c3bfa9c9da62a0defcdfc841e0d092);\n",
       "        \n",
       "    \n",
       "            var marker_de6747199f61c0857c787759e1a56921 = L.marker(\n",
       "                [-33.868981, 150.858266],\n",
       "                {}\n",
       "            ).addTo(map_28c3bfa9c9da62a0defcdfc841e0d092);\n",
       "        \n",
       "    \n",
       "            var marker_ab6355139586700e342d3ae9bf84852a = L.marker(\n",
       "                [-34.9075, 138.568889],\n",
       "                {}\n",
       "            ).addTo(map_28c3bfa9c9da62a0defcdfc841e0d092);\n",
       "        \n",
       "    \n",
       "            var marker_31a963f39c91dd1d7dab4521c814c7c5 = L.marker(\n",
       "                [-33.855, 151.072222],\n",
       "                {}\n",
       "            ).addTo(map_28c3bfa9c9da62a0defcdfc841e0d092);\n",
       "        \n",
       "    \n",
       "            var marker_c191f91454d1181dfc7155f00d6a423b = L.marker(\n",
       "                [-33.847222, 151.063333],\n",
       "                {}\n",
       "            ).addTo(map_28c3bfa9c9da62a0defcdfc841e0d092);\n",
       "        \n",
       "    \n",
       "            var marker_ef5059eb471417cee3175378210f4209 = L.marker(\n",
       "                [-33.7205, 150.6835],\n",
       "                {}\n",
       "            ).addTo(map_28c3bfa9c9da62a0defcdfc841e0d092);\n",
       "        \n",
       "    \n",
       "            var marker_97f88e4954fccca38b29d603353d1a1d = L.marker(\n",
       "                [-33.870268, 151.233777],\n",
       "                {}\n",
       "            ).addTo(map_28c3bfa9c9da62a0defcdfc841e0d092);\n",
       "        \n",
       "    \n",
       "            var marker_f6a085e344e199a4974c806432d6c4c3 = L.marker(\n",
       "                [-33.821533, 151.119239],\n",
       "                {}\n",
       "            ).addTo(map_28c3bfa9c9da62a0defcdfc841e0d092);\n",
       "        \n",
       "    \n",
       "            var marker_df1a0a2bb1929c4324b041f6b362b50b = L.marker(\n",
       "                [-33.772651, 150.854267],\n",
       "                {}\n",
       "            ).addTo(map_28c3bfa9c9da62a0defcdfc841e0d092);\n",
       "        \n",
       "    \n",
       "            var marker_30b7afa6923e4d378e9fc566b4b1f895 = L.marker(\n",
       "                [-33.855, 151.068056],\n",
       "                {}\n",
       "            ).addTo(map_28c3bfa9c9da62a0defcdfc841e0d092);\n",
       "        \n",
       "    \n",
       "            var marker_cfb854ab24160ddb415715ba046eae6d = L.marker(\n",
       "                [-33.853384, 151.069436],\n",
       "                {}\n",
       "            ).addTo(map_28c3bfa9c9da62a0defcdfc841e0d092);\n",
       "        \n",
       "    \n",
       "            var marker_4979c17fb7dd16f458c35f5822077408 = L.marker(\n",
       "                [-33.843056, 151.067778],\n",
       "                {}\n",
       "            ).addTo(map_28c3bfa9c9da62a0defcdfc841e0d092);\n",
       "        \n",
       "    \n",
       "            var marker_d17cf327141f865f4903cdbc4f9feeae = L.marker(\n",
       "                [-33.873391, 151.199181],\n",
       "                {}\n",
       "            ).addTo(map_28c3bfa9c9da62a0defcdfc841e0d092);\n",
       "        \n",
       "    \n",
       "            var marker_7d41dcc9d16f669f284c396780773519 = L.marker(\n",
       "                [-33.878333, 151.202778],\n",
       "                {}\n",
       "            ).addTo(map_28c3bfa9c9da62a0defcdfc841e0d092);\n",
       "        \n",
       "    \n",
       "            var marker_b9a682bd5de21e1ae6e072ea0341dc1e = L.marker(\n",
       "                [-33.87585, 151.20015],\n",
       "                {}\n",
       "            ).addTo(map_28c3bfa9c9da62a0defcdfc841e0d092);\n",
       "        \n",
       "    \n",
       "            var marker_6afb1606fcd8f2c361d99fcd6fb9b05a = L.marker(\n",
       "                [-33.889167, 151.225278],\n",
       "                {}\n",
       "            ).addTo(map_28c3bfa9c9da62a0defcdfc841e0d092);\n",
       "        \n",
       "    \n",
       "            var marker_a75999cda7fc9a381ed6af3db267bd22 = L.marker(\n",
       "                [-33.850833, 151.067154],\n",
       "                {}\n",
       "            ).addTo(map_28c3bfa9c9da62a0defcdfc841e0d092);\n",
       "        \n",
       "    \n",
       "            var marker_8ad2b58fbb8c355d1cc5d90e5cdc03b0 = L.marker(\n",
       "                [-33.834472, 151.073037],\n",
       "                {}\n",
       "            ).addTo(map_28c3bfa9c9da62a0defcdfc841e0d092);\n",
       "        \n",
       "    \n",
       "            var marker_00004367d6a0faff46ff0cda522269cb = L.marker(\n",
       "                [-33.848713, 150.854194],\n",
       "                {}\n",
       "            ).addTo(map_28c3bfa9c9da62a0defcdfc841e0d092);\n",
       "        \n",
       "    \n",
       "            var marker_9a505356130fc8490a3e23ffd456b800 = L.marker(\n",
       "                [-33.724335, 150.671219],\n",
       "                {}\n",
       "            ).addTo(map_28c3bfa9c9da62a0defcdfc841e0d092);\n",
       "        \n",
       "    \n",
       "            var marker_d6b8716712ee6d5753080804af514088 = L.marker(\n",
       "                [-33.888889, 150.818611],\n",
       "                {}\n",
       "            ).addTo(map_28c3bfa9c9da62a0defcdfc841e0d092);\n",
       "        \n",
       "    \n",
       "            var marker_b256dd8439c433df231094afc5f83438 = L.marker(\n",
       "                [-33.858222, 151.215281],\n",
       "                {}\n",
       "            ).addTo(map_28c3bfa9c9da62a0defcdfc841e0d092);\n",
       "        \n",
       "    \n",
       "            var marker_779e4cfdd31a4cddb40de5a1c9452353 = L.marker(\n",
       "                [-33.844444, 151.061944],\n",
       "                {}\n",
       "            ).addTo(map_28c3bfa9c9da62a0defcdfc841e0d092);\n",
       "        \n",
       "    \n",
       "            var marker_54b2bdf74b0e42aeb998836f5515b966 = L.marker(\n",
       "                [-33.845556, 151.068056],\n",
       "                {}\n",
       "            ).addTo(map_28c3bfa9c9da62a0defcdfc841e0d092);\n",
       "        \n",
       "&lt;/script&gt;\n",
       "&lt;/html&gt;\" style=\"position:absolute;width:100%;height:100%;left:0;top:0;border:none !important;\" allowfullscreen webkitallowfullscreen mozallowfullscreen></iframe></div></div>"
      ],
      "text/plain": [
       "<folium.folium.Map at 0x7f6488449fc0>"
      ]
     },
     "metadata": {},
     "output_type": "display_data"
    }
   ],
   "source": [
    "# coordonnées de la ville hote\n",
    "sydney_coords = [-33.8688, 151.2093]\n",
    "# Créer une carte centrée sur l'australie \n",
    "australia_map = folium.Map(location=sydney_coords, zoom_start=5, width=1200, height=250)\n",
    "\n",
    "# Ajouter un marqueur pour Sydney\n",
    "folium.Marker(location=sydney_coords, popup='Sydney').add_to(australia_map)\n",
    "# Définir l'URL pour les épreuves olympiques\n",
    "url = 'https://www.olympedia.org/venues/editions/25'\n",
    "\n",
    "# Récupérer le contenu de la page\n",
    "request = requests.get(url)    \n",
    "# récupérer le code HTML de la page\n",
    "codeHTML = BeautifulSoup(request.text, 'html')  \n",
    "# rechercher la table contenant les épreuve\n",
    "codeHTML = codeHTML.find('table', class_='table table-striped')   \n",
    "# ne garder que les lignes contenant un lien vers un lieu\n",
    "table = codeHTML.find_all('a', href=lambda href: href and '/venues/7' in href)    \n",
    "# Extraire le href et le nom du lieu\n",
    "table = [{'href': lien['href'], 'nom': lien.text} for lien in table]\n",
    "\n",
    "# placer marqueur pour chaque épreuve sur la carte de l'australie\n",
    "url_lieu = \"https://www.olympedia.org\"\n",
    "marker_table = []\n",
    "for lien in table :\n",
    "    # lien de la page de l'épreuve\n",
    "    url_lieu_modif = url_lieu + lien['href']\n",
    "    # récupere le contenu de la page\n",
    "    request = requests.get(url_lieu_modif)    \n",
    "    # récuperer le code HTML de la page\n",
    "    codeHTML = BeautifulSoup(request.text, 'html')\n",
    "    # rechercher les lignes contenant les coordonnées de l'épreuve\n",
    "    coordonnee = codeHTML.find(string=re.compile(\"(Definitely here)\"))\n",
    "    pattern = r'(-?\\d+\\.\\d+),\\s*(-?\\d+\\.\\d+)'\n",
    "    matches = re.search(pattern, coordonnee)\n",
    "    # extraire la lattitude et la longitude\n",
    "    latitude = matches.group(1)\n",
    "    longitude = matches.group(2)\n",
    "    coords = [latitude, longitude]\n",
    "    # ajouter un point sur la carte avec les coordonnées de l'épreuve\n",
    "    folium.Marker(location=coords).add_to(australia_map)\n",
    "# afficher la carte des épreuves \n",
    "display(HTML(f\"<b><font size='+2'>Carte des épreuves des Jeux Olympique d'été 2000</font></b>\"))\n",
    "print(\" \")\n",
    "display(australia_map)"
   ]
  },
  {
   "cell_type": "code",
   "execution_count": 11,
   "id": "9b8ec92e-d1f3-4b34-92bc-3470ee6005fb",
   "metadata": {
    "tags": []
   },
   "outputs": [
    {
     "data": {
      "text/html": [
       "<b><font size='+2'>Épreuves présente au 2000 Summer Olympics</font></b>"
      ],
      "text/plain": [
       "<IPython.core.display.HTML object>"
      ]
     },
     "metadata": {},
     "output_type": "display_data"
    },
    {
     "data": {
      "text/html": [
       "<div>\n",
       "<style scoped>\n",
       "    .dataframe tbody tr th:only-of-type {\n",
       "        vertical-align: middle;\n",
       "    }\n",
       "\n",
       "    .dataframe tbody tr th {\n",
       "        vertical-align: top;\n",
       "    }\n",
       "\n",
       "    .dataframe thead th {\n",
       "        text-align: right;\n",
       "    }\n",
       "</style>\n",
       "<table border=\"1\" class=\"dataframe\">\n",
       "  <thead>\n",
       "    <tr style=\"text-align: right;\">\n",
       "      <th></th>\n",
       "      <th>NOMDISCIPLINE</th>\n",
       "    </tr>\n",
       "  </thead>\n",
       "  <tbody>\n",
       "    <tr>\n",
       "      <th>0</th>\n",
       "      <td>Athletics</td>\n",
       "    </tr>\n",
       "    <tr>\n",
       "      <th>1</th>\n",
       "      <td>Baseball</td>\n",
       "    </tr>\n",
       "    <tr>\n",
       "      <th>2</th>\n",
       "      <td>Boxing</td>\n",
       "    </tr>\n",
       "    <tr>\n",
       "      <th>3</th>\n",
       "      <td>Tennis</td>\n",
       "    </tr>\n",
       "    <tr>\n",
       "      <th>4</th>\n",
       "      <td>Basketball</td>\n",
       "    </tr>\n",
       "    <tr>\n",
       "      <th>5</th>\n",
       "      <td>Canoe Sprint</td>\n",
       "    </tr>\n",
       "    <tr>\n",
       "      <th>6</th>\n",
       "      <td>Cycling Track</td>\n",
       "    </tr>\n",
       "    <tr>\n",
       "      <th>7</th>\n",
       "      <td>Equestrian Dressage</td>\n",
       "    </tr>\n",
       "    <tr>\n",
       "      <th>8</th>\n",
       "      <td>Modern Pentathlon</td>\n",
       "    </tr>\n",
       "    <tr>\n",
       "      <th>9</th>\n",
       "      <td>Swimming</td>\n",
       "    </tr>\n",
       "    <tr>\n",
       "      <th>10</th>\n",
       "      <td>Triathlon</td>\n",
       "    </tr>\n",
       "    <tr>\n",
       "      <th>11</th>\n",
       "      <td>Volleyball</td>\n",
       "    </tr>\n",
       "    <tr>\n",
       "      <th>12</th>\n",
       "      <td>Wrestling</td>\n",
       "    </tr>\n",
       "    <tr>\n",
       "      <th>13</th>\n",
       "      <td>Hockey</td>\n",
       "    </tr>\n",
       "    <tr>\n",
       "      <th>14</th>\n",
       "      <td>Judo</td>\n",
       "    </tr>\n",
       "    <tr>\n",
       "      <th>15</th>\n",
       "      <td>Artistic Swimming</td>\n",
       "    </tr>\n",
       "    <tr>\n",
       "      <th>16</th>\n",
       "      <td>Beach Volleyball</td>\n",
       "    </tr>\n",
       "    <tr>\n",
       "      <th>17</th>\n",
       "      <td>Cycling Road</td>\n",
       "    </tr>\n",
       "    <tr>\n",
       "      <th>18</th>\n",
       "      <td>Fencing</td>\n",
       "    </tr>\n",
       "    <tr>\n",
       "      <th>19</th>\n",
       "      <td>Sailing</td>\n",
       "    </tr>\n",
       "    <tr>\n",
       "      <th>20</th>\n",
       "      <td>Shooting</td>\n",
       "    </tr>\n",
       "    <tr>\n",
       "      <th>21</th>\n",
       "      <td>Softball</td>\n",
       "    </tr>\n",
       "    <tr>\n",
       "      <th>22</th>\n",
       "      <td>Archery</td>\n",
       "    </tr>\n",
       "    <tr>\n",
       "      <th>23</th>\n",
       "      <td>Badminton</td>\n",
       "    </tr>\n",
       "    <tr>\n",
       "      <th>24</th>\n",
       "      <td>Artistic Gymnastics</td>\n",
       "    </tr>\n",
       "    <tr>\n",
       "      <th>25</th>\n",
       "      <td>Trampolining</td>\n",
       "    </tr>\n",
       "    <tr>\n",
       "      <th>26</th>\n",
       "      <td>Cycling Mountain Bike</td>\n",
       "    </tr>\n",
       "    <tr>\n",
       "      <th>27</th>\n",
       "      <td>Weightlifting</td>\n",
       "    </tr>\n",
       "    <tr>\n",
       "      <th>28</th>\n",
       "      <td>Taekwondo</td>\n",
       "    </tr>\n",
       "    <tr>\n",
       "      <th>29</th>\n",
       "      <td>Diving</td>\n",
       "    </tr>\n",
       "    <tr>\n",
       "      <th>30</th>\n",
       "      <td>Equestrian Jumping</td>\n",
       "    </tr>\n",
       "    <tr>\n",
       "      <th>31</th>\n",
       "      <td>Equestrian Eventing</td>\n",
       "    </tr>\n",
       "    <tr>\n",
       "      <th>32</th>\n",
       "      <td>Rowing</td>\n",
       "    </tr>\n",
       "    <tr>\n",
       "      <th>33</th>\n",
       "      <td>Water Polo</td>\n",
       "    </tr>\n",
       "    <tr>\n",
       "      <th>34</th>\n",
       "      <td>Canoe Slalom</td>\n",
       "    </tr>\n",
       "    <tr>\n",
       "      <th>35</th>\n",
       "      <td>Football</td>\n",
       "    </tr>\n",
       "    <tr>\n",
       "      <th>36</th>\n",
       "      <td>Rhythmic Gymnastics</td>\n",
       "    </tr>\n",
       "    <tr>\n",
       "      <th>37</th>\n",
       "      <td>Handball</td>\n",
       "    </tr>\n",
       "    <tr>\n",
       "      <th>38</th>\n",
       "      <td>Table Tennis</td>\n",
       "    </tr>\n",
       "  </tbody>\n",
       "</table>\n",
       "</div>"
      ],
      "text/plain": [
       "            NOMDISCIPLINE\n",
       "0               Athletics\n",
       "1                Baseball\n",
       "2                  Boxing\n",
       "3                  Tennis\n",
       "4              Basketball\n",
       "5            Canoe Sprint\n",
       "6           Cycling Track\n",
       "7     Equestrian Dressage\n",
       "8       Modern Pentathlon\n",
       "9                Swimming\n",
       "10              Triathlon\n",
       "11             Volleyball\n",
       "12              Wrestling\n",
       "13                 Hockey\n",
       "14                   Judo\n",
       "15      Artistic Swimming\n",
       "16       Beach Volleyball\n",
       "17           Cycling Road\n",
       "18                Fencing\n",
       "19                Sailing\n",
       "20               Shooting\n",
       "21               Softball\n",
       "22                Archery\n",
       "23              Badminton\n",
       "24    Artistic Gymnastics\n",
       "25           Trampolining\n",
       "26  Cycling Mountain Bike\n",
       "27          Weightlifting\n",
       "28              Taekwondo\n",
       "29                 Diving\n",
       "30     Equestrian Jumping\n",
       "31    Equestrian Eventing\n",
       "32                 Rowing\n",
       "33             Water Polo\n",
       "34           Canoe Slalom\n",
       "35               Football\n",
       "36    Rhythmic Gymnastics\n",
       "37               Handball\n",
       "38           Table Tennis"
      ]
     },
     "metadata": {},
     "output_type": "display_data"
    }
   ],
   "source": [
    "# afficher les épreuves présente à ces Jeux Olympique\n",
    "epreuveJO = requete_vers_dataframe(conn, f\"\"\"SELECT DISTINCT nomDiscipline FROM {SCHEMA}.DISCIPLINE\n",
    "NATURAL JOIN {SCHEMA}.EVENEMENT WHERE idHote = {id_hote}\"\"\")\n",
    "display(HTML(f\"<b><font size='+2'>Épreuves présente au {EDITION_JO}</font></b>\"))\n",
    "display(epreuveJO)"
   ]
  },
  {
   "cell_type": "code",
   "execution_count": 12,
   "id": "3e5085e2-8df6-4d89-ae79-f59d94d84f79",
   "metadata": {
    "tags": []
   },
   "outputs": [
    {
     "data": {
      "text/html": [
       "<b><font size='+2'>Sport présent au 2000 Summer Olympics</font></b>"
      ],
      "text/plain": [
       "<IPython.core.display.HTML object>"
      ]
     },
     "metadata": {},
     "output_type": "display_data"
    },
    {
     "data": {
      "text/html": [
       "<div>\n",
       "<style scoped>\n",
       "    .dataframe tbody tr th:only-of-type {\n",
       "        vertical-align: middle;\n",
       "    }\n",
       "\n",
       "    .dataframe tbody tr th {\n",
       "        vertical-align: top;\n",
       "    }\n",
       "\n",
       "    .dataframe thead th {\n",
       "        text-align: right;\n",
       "    }\n",
       "</style>\n",
       "<table border=\"1\" class=\"dataframe\">\n",
       "  <thead>\n",
       "    <tr style=\"text-align: right;\">\n",
       "      <th></th>\n",
       "      <th>NOMSPORT</th>\n",
       "    </tr>\n",
       "  </thead>\n",
       "  <tbody>\n",
       "    <tr>\n",
       "      <th>0</th>\n",
       "      <td>Athletics</td>\n",
       "    </tr>\n",
       "    <tr>\n",
       "      <th>1</th>\n",
       "      <td>Boxing</td>\n",
       "    </tr>\n",
       "    <tr>\n",
       "      <th>2</th>\n",
       "      <td>Tennis</td>\n",
       "    </tr>\n",
       "    <tr>\n",
       "      <th>3</th>\n",
       "      <td>Wrestling</td>\n",
       "    </tr>\n",
       "    <tr>\n",
       "      <th>4</th>\n",
       "      <td>Basketball</td>\n",
       "    </tr>\n",
       "    <tr>\n",
       "      <th>5</th>\n",
       "      <td>Volleyball</td>\n",
       "    </tr>\n",
       "    <tr>\n",
       "      <th>6</th>\n",
       "      <td>Triathlon</td>\n",
       "    </tr>\n",
       "    <tr>\n",
       "      <th>7</th>\n",
       "      <td>Modern Pentathlon</td>\n",
       "    </tr>\n",
       "    <tr>\n",
       "      <th>8</th>\n",
       "      <td>Judo</td>\n",
       "    </tr>\n",
       "    <tr>\n",
       "      <th>9</th>\n",
       "      <td>Cycling</td>\n",
       "    </tr>\n",
       "    <tr>\n",
       "      <th>10</th>\n",
       "      <td>Hockey</td>\n",
       "    </tr>\n",
       "    <tr>\n",
       "      <th>11</th>\n",
       "      <td>Aquatics</td>\n",
       "    </tr>\n",
       "    <tr>\n",
       "      <th>12</th>\n",
       "      <td>Gymnastics</td>\n",
       "    </tr>\n",
       "    <tr>\n",
       "      <th>13</th>\n",
       "      <td>Sailing</td>\n",
       "    </tr>\n",
       "    <tr>\n",
       "      <th>14</th>\n",
       "      <td>Shooting</td>\n",
       "    </tr>\n",
       "    <tr>\n",
       "      <th>15</th>\n",
       "      <td>Fencing</td>\n",
       "    </tr>\n",
       "    <tr>\n",
       "      <th>16</th>\n",
       "      <td>Weightlifting</td>\n",
       "    </tr>\n",
       "    <tr>\n",
       "      <th>17</th>\n",
       "      <td>Archery</td>\n",
       "    </tr>\n",
       "    <tr>\n",
       "      <th>18</th>\n",
       "      <td>Badminton</td>\n",
       "    </tr>\n",
       "    <tr>\n",
       "      <th>19</th>\n",
       "      <td>Canoeing</td>\n",
       "    </tr>\n",
       "    <tr>\n",
       "      <th>20</th>\n",
       "      <td>Taekwondo</td>\n",
       "    </tr>\n",
       "    <tr>\n",
       "      <th>21</th>\n",
       "      <td>Rowing</td>\n",
       "    </tr>\n",
       "    <tr>\n",
       "      <th>22</th>\n",
       "      <td>Table Tennis</td>\n",
       "    </tr>\n",
       "    <tr>\n",
       "      <th>23</th>\n",
       "      <td>Handball</td>\n",
       "    </tr>\n",
       "    <tr>\n",
       "      <th>24</th>\n",
       "      <td>Equestrian</td>\n",
       "    </tr>\n",
       "    <tr>\n",
       "      <th>25</th>\n",
       "      <td>Baseball/Softball</td>\n",
       "    </tr>\n",
       "    <tr>\n",
       "      <th>26</th>\n",
       "      <td>Football</td>\n",
       "    </tr>\n",
       "  </tbody>\n",
       "</table>\n",
       "</div>"
      ],
      "text/plain": [
       "             NOMSPORT\n",
       "0           Athletics\n",
       "1              Boxing\n",
       "2              Tennis\n",
       "3           Wrestling\n",
       "4          Basketball\n",
       "5          Volleyball\n",
       "6           Triathlon\n",
       "7   Modern Pentathlon\n",
       "8                Judo\n",
       "9             Cycling\n",
       "10             Hockey\n",
       "11           Aquatics\n",
       "12         Gymnastics\n",
       "13            Sailing\n",
       "14           Shooting\n",
       "15            Fencing\n",
       "16      Weightlifting\n",
       "17            Archery\n",
       "18          Badminton\n",
       "19           Canoeing\n",
       "20          Taekwondo\n",
       "21             Rowing\n",
       "22       Table Tennis\n",
       "23           Handball\n",
       "24         Equestrian\n",
       "25  Baseball/Softball\n",
       "26           Football"
      ]
     },
     "metadata": {},
     "output_type": "display_data"
    }
   ],
   "source": [
    "# sport présent à cette édition\n",
    "sportJo = requete_vers_dataframe(conn, f\"\"\"SELECT DISTINCT NomSport FROM SPORT\n",
    "NATURAL JOIN DISCIPLINE\n",
    "NATURAL JOIN EVENEMENT\n",
    "WHERE IDHOTE = {id_hote}\"\"\")\n",
    "display(HTML(f\"<b><font size='+2'>Sport présent au {EDITION_JO}</font></b>\"))\n",
    "display(sportJo)"
   ]
  },
  {
   "cell_type": "code",
   "execution_count": 13,
   "id": "35c6f89f-9e97-4479-ab89-6ff0b801e0e9",
   "metadata": {
    "tags": []
   },
   "outputs": [
    {
     "data": {
      "text/html": [
       "<b><font size='+2'>Épreuves nouvellement ajoutées à cette édition</font></b>"
      ],
      "text/plain": [
       "<IPython.core.display.HTML object>"
      ]
     },
     "metadata": {},
     "output_type": "display_data"
    },
    {
     "data": {
      "text/html": [
       "<div>\n",
       "<style scoped>\n",
       "    .dataframe tbody tr th:only-of-type {\n",
       "        vertical-align: middle;\n",
       "    }\n",
       "\n",
       "    .dataframe tbody tr th {\n",
       "        vertical-align: top;\n",
       "    }\n",
       "\n",
       "    .dataframe thead th {\n",
       "        text-align: right;\n",
       "    }\n",
       "</style>\n",
       "<table border=\"1\" class=\"dataframe\">\n",
       "  <thead>\n",
       "    <tr style=\"text-align: right;\">\n",
       "      <th></th>\n",
       "      <th>NOMDISCIPLINE</th>\n",
       "    </tr>\n",
       "  </thead>\n",
       "  <tbody>\n",
       "    <tr>\n",
       "      <th>0</th>\n",
       "      <td>Triathlon</td>\n",
       "    </tr>\n",
       "    <tr>\n",
       "      <th>1</th>\n",
       "      <td>Trampolining</td>\n",
       "    </tr>\n",
       "    <tr>\n",
       "      <th>2</th>\n",
       "      <td>Taekwondo</td>\n",
       "    </tr>\n",
       "  </tbody>\n",
       "</table>\n",
       "</div>"
      ],
      "text/plain": [
       "  NOMDISCIPLINE\n",
       "0     Triathlon\n",
       "1  Trampolining\n",
       "2     Taekwondo"
      ]
     },
     "metadata": {},
     "output_type": "display_data"
    }
   ],
   "source": [
    "# Calculer avec une requête et afficher les épreuves nouvellement ajoutée à cette édition\n",
    "nvlleEpreuve  = requete_vers_dataframe(conn, f\"\"\"SELECT DISTINCT nomDiscipline FROM {SCHEMA}.DISCIPLINE\n",
    "NATURAL JOIN {SCHEMA}.EVENEMENT\n",
    "WHERE idHote = {id_hote} AND nomDiscipline NOT IN (SELECT nomDiscipline FROM {SCHEMA}.DISCIPLINE\n",
    "                                            NATURAL JOIN {SCHEMA}.EVENEMENT\n",
    "                                            WHERE idHote = {id_hote}-1)\"\"\")\n",
    "\n",
    "display(HTML(f\"<b><font size='+2'>Épreuves nouvellement ajoutées à cette édition</font></b>\"))\n",
    "display(nvlleEpreuve)"
   ]
  },
  {
   "cell_type": "code",
   "execution_count": 14,
   "id": "9147b72d-ff64-4337-9bfb-5f7769bd6e90",
   "metadata": {
    "tags": []
   },
   "outputs": [
    {
     "data": {
      "text/html": [
       "<b><font size='+2'>Répartition des épreuves par genre lors des 2000 Summer Olympics</font></b>"
      ],
      "text/plain": [
       "<IPython.core.display.HTML object>"
      ]
     },
     "metadata": {},
     "output_type": "display_data"
    },
    {
     "data": {
      "image/png": "[encoded data removed]",
      "text/plain": [
       "<Figure size 640x480 with 1 Axes>"
      ]
     },
     "metadata": {},
     "output_type": "display_data"
    }
   ],
   "source": [
    "# Initialisation du DataFrame pour la répartition des épreuves par genre\n",
    "repartitionEpreuve =[]\n",
    "# Nombre d'épreuves femme\n",
    "epreuveFemme = requete_vers_dataframe(conn, f\"\"\"SELECT COUNT(*) FROM {SCHEMA}.EVENEMENT\n",
    "                                              WHERE NOMEVENEMENT LIKE '%Women%' AND idHote = {id_hote} \"\"\")\n",
    "repartitionEpreuve.append({'TYPE': 'Femme', 'TOTAL': epreuveFemme.iloc[0, 0]})\n",
    "# Nombre d'épreuves homme\n",
    "epreuveHomme = requete_vers_dataframe(conn, f\"\"\"SELECT COUNT(*) FROM {SCHEMA}.EVENEMENT\n",
    "                                              WHERE NOMEVENEMENT LIKE '%Men%' AND idHote = {id_hote} \"\"\")\n",
    "repartitionEpreuve.append({'TYPE': 'Homme', 'TOTAL': epreuveHomme.iloc[0, 0]})\n",
    "# Nombre d'épreuves mixte\n",
    "epreuveMixte = requete_vers_dataframe(conn, f\"\"\"SELECT COUNT(*) FROM {SCHEMA}.EVENEMENT\n",
    "                                              WHERE NOMEVENEMENT LIKE '%Mixed%' AND idHote = {id_hote} \"\"\")\n",
    "repartitionEpreuve.append({'TYPE': 'Mixte', 'TOTAL': epreuveMixte.iloc[0, 0]})\n",
    "# tableau vers dataframe pour l'affichage \n",
    "df_repartitionEpreuve = pd.DataFrame(repartitionEpreuve)\n",
    "# Affichage des résultats\n",
    "display(HTML(f\"<b><font size='+2'>Répartition des épreuves par genre lors des {EDITION_JO}</font></b>\"))\n",
    "# Diagramme circulaire \n",
    "plt.pie(df_repartitionEpreuve['TOTAL'], labels=df_repartitionEpreuve['TYPE'], autopct='%1.1f%%', startangle=140)\n",
    "plt.show()"
   ]
  },
  {
   "cell_type": "code",
   "execution_count": 15,
   "id": "7025d127-1f77-4f44-a63c-0a04021d2177",
   "metadata": {
    "tags": []
   },
   "outputs": [],
   "source": [
    "# recupere les idHote de tout les Jeux Olympique d'été qui n'ont pas été annulés\n",
    "hoteSummer  = requete_vers_dataframe(conn, f\"\"\"SELECT idHote, anneeHote FROM {SCHEMA}.HOTE\n",
    "WHERE Saison ='Summer' AND DATESCOMPETITION != '—'\"\"\")"
   ]
  },
  {
   "cell_type": "code",
   "execution_count": 16,
   "id": "d384b72a-ad2b-4d6f-b466-7962a8767f21",
   "metadata": {
    "tags": []
   },
   "outputs": [],
   "source": [
    "# Calculer avec une requête et afficher le nombre d'épreuve de chaque genre \n",
    "resultats = []\n",
    "# pour chaque Jeux Olympique d'été :\n",
    "for i in range (len(hoteSummer)) :\n",
    "    # récupere l'année et l'idHote \n",
    "    idHote = hoteSummer.loc[i, 'IDHOTE']\n",
    "    anneeHote = hoteSummer.loc[i, 'ANNEEHOTE']\n",
    "    # requete pour afficher les épreuves femmes\n",
    "    genreEpreuveWomen  = requete_vers_dataframe(conn, f\"\"\"SELECT DISTINCT NomDiscipline, nomEvenement FROM {SCHEMA}.EVENEMENT E\n",
    "    NATURAL JOIN {SCHEMA}.DISCIPLINE\n",
    "    WHERE idHote = {idHote} AND nomEvenement LIKE '%Women%'\"\"\")\n",
    "    # requete pour afficher les épreuves hommes\n",
    "    genreEpreuveMen  = requete_vers_dataframe(conn, f\"\"\"SELECT DISTINCT NomDiscipline, nomEvenement FROM {SCHEMA}.EVENEMENT E\n",
    "    NATURAL JOIN {SCHEMA}.DISCIPLINE\n",
    "    WHERE idHote = {idHote} AND nomEvenement LIKE '%Men%'\"\"\")\n",
    "    # calculer le nombre d'épreuve de chaque genre\n",
    "    nbWomen = genreEpreuveWomen['NOMDISCIPLINE'].count()\n",
    "    nbMen = genreEpreuveMen['NOMDISCIPLINE'].count()\n",
    "    # Ajouter les résultats au dictionnaire résultat\n",
    "    resultats.append({'ANNEEHOTE': anneeHote, 'NBMEN': nbMen, 'NBWOMEN': nbWomen})\n",
    "\n",
    "# transformer le dictionnarie en dataframe pour l'affichage\n",
    "df_resultats = pd.DataFrame(resultats)"
   ]
  },
  {
   "cell_type": "code",
   "execution_count": 17,
   "id": "67d775fe-4c00-45a0-8807-20c863f147bc",
   "metadata": {
    "tags": []
   },
   "outputs": [
    {
     "data": {
      "text/html": [
       "<b><font size='+2'>Évolution du nombre d'épreuve par genre</font></b>"
      ],
      "text/plain": [
       "<IPython.core.display.HTML object>"
      ]
     },
     "metadata": {},
     "output_type": "display_data"
    },
    {
     "name": "stdout",
     "output_type": "stream",
     "text": [
      " \n"
     ]
    },
    {
     "data": {
      "text/plain": [
       "<matplotlib.legend.Legend at 0x7f647fcc43a0>"
      ]
     },
     "metadata": {},
     "output_type": "display_data"
    },
    {
     "data": {
      "image/png": "[encoded data removed]",
      "text/plain": [
       "<Figure size 1200x600 with 1 Axes>"
      ]
     },
     "metadata": {},
     "output_type": "display_data"
    }
   ],
   "source": [
    "# Définir la taille de la figure\n",
    "plt.figure(figsize=(12, 6))  \n",
    "# Tracer MEN\n",
    "plt.plot(df_resultats.ANNEEHOTE, df_resultats['NBMEN'], marker='o', linestyle='-', label='MEN')\n",
    "# Tracer WOMEN\n",
    "plt.plot(df_resultats.ANNEEHOTE, df_resultats['NBWOMEN'], marker='o', linestyle='-', label='WOMEN')\n",
    "\n",
    "# Ajouter des légendes et titre\n",
    "display(HTML(f\"<b><font size='+2'>Évolution du nombre d'épreuve par genre</font></b>\"))\n",
    "print(\" \")\n",
    "plt.xlabel('Année des JO')\n",
    "plt.ylabel(\"Nombre d'épreuve\")\n",
    "display(plt.legend())"
   ]
  },
  {
   "cell_type": "markdown",
   "id": "b596e415-7b17-441d-98ac-8ec692f8602f",
   "metadata": {},
   "source": [
    "Interpréter et/ou expliquer ce qui est présenté : On remarque qu'il y a de plus en plus d'épreuve féminine au Jeux Olympique. Il y a également chez les femmes et les hommes de plus en plus d'épreuve chaque années."
   ]
  },
  {
   "cell_type": "markdown",
   "id": "1912ed1c-48ba-4216-9bf0-6400b7b4f306",
   "metadata": {
    "tags": []
   },
   "source": [
    "# Comparaison de cette édition avec les éditions qui l'ont précédée"
   ]
  },
  {
   "cell_type": "markdown",
   "id": "0c961f5c-ae0c-4752-b4a5-2dfb5f5f4d52",
   "metadata": {
    "tags": []
   },
   "source": [
    "### classement des nations (tableau de classement pour les trois couleurs de médailles et pour le total) + répartition des médailles par couleur et par pays."
   ]
  },
  {
   "cell_type": "code",
   "execution_count": 18,
   "id": "dfa22849-f0b6-413c-9981-192c33dcc52c",
   "metadata": {
    "tags": []
   },
   "outputs": [],
   "source": [
    "# requete pour recuperer le classement NOC médailles\n",
    "classementNocEquipe = requete_vers_dataframe(conn,f\"\"\"SELECT EQ.NOC,\n",
    "SUM(CASE WHEN PE.Medaille = 'Gold' THEN 1 ELSE 0 END) AS Gold,\n",
    "SUM(CASE WHEN PE.Medaille = 'Silver' THEN 1 ELSE 0 END) AS Silver,\n",
    "SUM(CASE WHEN PE.Medaille = 'Bronze' THEN 1 ELSE 0 END) AS Bronze,\n",
    "COUNT(PE.Medaille) AS Total \n",
    "FROM {SCHEMA}.EVENEMENT E \n",
    "INNER JOIN {SCHEMA}.PARTICIPATION_EQUIPE PE ON PE.idEvenement = E.idEvenement\n",
    "INNER JOIN {SCHEMA}.EQUIPE EQ ON PE.idEquipe = EQ.idEquipe\n",
    "WHERE IDHOTE = '{id_hote}'\n",
    "GROUP BY EQ.NOC\n",
    "ORDER BY Total DESC, Gold DESC, Silver DESC, Bronze DESC, eq.noc\"\"\")\n",
    "# requete pour recuperer le classement NOC individuel\n",
    "classementNocIndividuel = requete_vers_dataframe(conn,f\"\"\"SELECT PI.NOC,\n",
    "SUM(CASE WHEN PI.Medaille = 'Gold' THEN 1 ELSE 0 END) AS Gold,\n",
    "SUM(CASE WHEN PI.Medaille = 'Silver' THEN 1 ELSE 0 END) AS Silver,\n",
    "SUM(CASE WHEN PI.Medaille = 'Bronze' THEN 1 ELSE 0 END) AS Bronze,\n",
    "COUNT(PI.Medaille) AS Total \n",
    "FROM {SCHEMA}.EVENEMENT E\n",
    "INNER JOIN {SCHEMA}.PARTICIPATION_INDIVIDUELLE PI ON PI.idEvent = E.idEvenement\n",
    "WHERE IDHOTE = '{id_hote}'\n",
    "GROUP BY PI.NOC\n",
    "ORDER BY Total DESC, Gold DESC, Silver DESC, Bronze DESC, noc\"\"\")"
   ]
  },
  {
   "cell_type": "code",
   "execution_count": 19,
   "id": "1ad25683-a893-4974-a099-63ff1a9cc618",
   "metadata": {
    "tags": []
   },
   "outputs": [
    {
     "data": {
      "text/html": [
       "<b><font size='+2'>Classement des nations par médailles durant les 2000 Summer Olympics</font></b>"
      ],
      "text/plain": [
       "<IPython.core.display.HTML object>"
      ]
     },
     "metadata": {},
     "output_type": "display_data"
    },
    {
     "name": "stdout",
     "output_type": "stream",
     "text": [
      " \n"
     ]
    },
    {
     "data": {
      "text/html": [
       "<div>\n",
       "<style scoped>\n",
       "    .dataframe tbody tr th:only-of-type {\n",
       "        vertical-align: middle;\n",
       "    }\n",
       "\n",
       "    .dataframe tbody tr th {\n",
       "        vertical-align: top;\n",
       "    }\n",
       "\n",
       "    .dataframe thead th {\n",
       "        text-align: right;\n",
       "    }\n",
       "</style>\n",
       "<table border=\"1\" class=\"dataframe\">\n",
       "  <thead>\n",
       "    <tr style=\"text-align: right;\">\n",
       "      <th></th>\n",
       "      <th>NOC</th>\n",
       "      <th>GOLD</th>\n",
       "      <th>SILVER</th>\n",
       "      <th>BRONZE</th>\n",
       "      <th>TOTAL</th>\n",
       "    </tr>\n",
       "  </thead>\n",
       "  <tbody>\n",
       "    <tr>\n",
       "      <th>0</th>\n",
       "      <td>USA</td>\n",
       "      <td>37</td>\n",
       "      <td>24</td>\n",
       "      <td>32</td>\n",
       "      <td>93</td>\n",
       "    </tr>\n",
       "    <tr>\n",
       "      <th>3</th>\n",
       "      <td>RUS</td>\n",
       "      <td>32</td>\n",
       "      <td>28</td>\n",
       "      <td>29</td>\n",
       "      <td>89</td>\n",
       "    </tr>\n",
       "    <tr>\n",
       "      <th>4</th>\n",
       "      <td>CHN</td>\n",
       "      <td>28</td>\n",
       "      <td>16</td>\n",
       "      <td>14</td>\n",
       "      <td>58</td>\n",
       "    </tr>\n",
       "    <tr>\n",
       "      <th>1</th>\n",
       "      <td>AUS</td>\n",
       "      <td>16</td>\n",
       "      <td>25</td>\n",
       "      <td>17</td>\n",
       "      <td>58</td>\n",
       "    </tr>\n",
       "    <tr>\n",
       "      <th>2</th>\n",
       "      <td>GER</td>\n",
       "      <td>13</td>\n",
       "      <td>17</td>\n",
       "      <td>26</td>\n",
       "      <td>56</td>\n",
       "    </tr>\n",
       "    <tr>\n",
       "      <th>...</th>\n",
       "      <td>...</td>\n",
       "      <td>...</td>\n",
       "      <td>...</td>\n",
       "      <td>...</td>\n",
       "      <td>...</td>\n",
       "    </tr>\n",
       "    <tr>\n",
       "      <th>67</th>\n",
       "      <td>LUX</td>\n",
       "      <td>0</td>\n",
       "      <td>0</td>\n",
       "      <td>0</td>\n",
       "      <td>0</td>\n",
       "    </tr>\n",
       "    <tr>\n",
       "      <th>68</th>\n",
       "      <td>MAD</td>\n",
       "      <td>0</td>\n",
       "      <td>0</td>\n",
       "      <td>0</td>\n",
       "      <td>0</td>\n",
       "    </tr>\n",
       "    <tr>\n",
       "      <th>70</th>\n",
       "      <td>MAS</td>\n",
       "      <td>0</td>\n",
       "      <td>0</td>\n",
       "      <td>0</td>\n",
       "      <td>0</td>\n",
       "    </tr>\n",
       "    <tr>\n",
       "      <th>72</th>\n",
       "      <td>MRI</td>\n",
       "      <td>0</td>\n",
       "      <td>0</td>\n",
       "      <td>0</td>\n",
       "      <td>0</td>\n",
       "    </tr>\n",
       "    <tr>\n",
       "      <th>92</th>\n",
       "      <td>ZIM</td>\n",
       "      <td>0</td>\n",
       "      <td>0</td>\n",
       "      <td>0</td>\n",
       "      <td>0</td>\n",
       "    </tr>\n",
       "  </tbody>\n",
       "</table>\n",
       "<p>93 rows × 5 columns</p>\n",
       "</div>"
      ],
      "text/plain": [
       "    NOC  GOLD  SILVER  BRONZE  TOTAL\n",
       "0   USA    37      24      32     93\n",
       "3   RUS    32      28      29     89\n",
       "4   CHN    28      16      14     58\n",
       "1   AUS    16      25      17     58\n",
       "2   GER    13      17      26     56\n",
       "..  ...   ...     ...     ...    ...\n",
       "67  LUX     0       0       0      0\n",
       "68  MAD     0       0       0      0\n",
       "70  MAS     0       0       0      0\n",
       "72  MRI     0       0       0      0\n",
       "92  ZIM     0       0       0      0\n",
       "\n",
       "[93 rows x 5 columns]"
      ]
     },
     "metadata": {},
     "output_type": "display_data"
    }
   ],
   "source": [
    "display(HTML(f\"<b><font size='+2'>Classement des nations par médailles durant les {EDITION_JO}</font></b>\"))\n",
    "print(\" \")\n",
    "\n",
    "# création d'un classement global avec les médailles collectives et individuelle\n",
    "clasementNocGlobal = pd.merge(classementNocEquipe, classementNocIndividuel, on='NOC')\n",
    "# fusion des colones pour aditionner les médaillles\n",
    "clasementNocGlobal['GOLD'] = clasementNocGlobal['GOLD_x'] + clasementNocGlobal['GOLD_y']\n",
    "clasementNocGlobal['SILVER'] = clasementNocGlobal['SILVER_x'] + clasementNocGlobal['SILVER_y']\n",
    "clasementNocGlobal['BRONZE'] = clasementNocGlobal['BRONZE_x'] + clasementNocGlobal['BRONZE_y']\n",
    "clasementNocGlobal['TOTAL'] = clasementNocGlobal['TOTAL_x'] + clasementNocGlobal['TOTAL_y']\n",
    "# trier le dataframe par le total de médailles\n",
    "clasementNocGlobal = clasementNocGlobal[['NOC', 'GOLD', 'SILVER', 'BRONZE', 'TOTAL']].sort_values(by=['TOTAL'], ascending=False)\n",
    "# afficher le dataframe\n",
    "display(clasementNocGlobal)"
   ]
  },
  {
   "cell_type": "markdown",
   "id": "64afc078-e41d-4cc4-a0e5-ca342f9c9461",
   "metadata": {},
   "source": [
    "Interpréter et/ou expliquer ce qui est présenté : l'Australie à réaliser son meilleur résultat, surement car les Jeux Olympique 2000 se déroulait à Sydney. "
   ]
  },
  {
   "cell_type": "markdown",
   "id": "d14ef3f4-2013-4320-98b2-83f2a556ca84",
   "metadata": {
    "tags": []
   },
   "source": [
    "### répartition des médailles par genre et par pays, comparaison à l'aide de la moyenne/écart-type et min/max/quartiles/médiane."
   ]
  },
  {
   "cell_type": "code",
   "execution_count": 20,
   "id": "f9d293fd-e313-44fc-b553-ac8e34de73a0",
   "metadata": {},
   "outputs": [],
   "source": [
    "def calculeMoyenne(serie): \n",
    "    nb = 0\n",
    "    n = 0\n",
    "    for index, row in serie.iterrows():\n",
    "        n+= row['NBATHLETE']\n",
    "        nb += row['NBATHLETE']*row['NBMEDAILLE']\n",
    "    if n==0:\n",
    "        return 0\n",
    "    return nb/n\n",
    "\n",
    "def calculeEcartType(serie): \n",
    "    nb = 0\n",
    "    n = 0\n",
    "    for index, row in serie.iterrows():\n",
    "        n+= row['NBATHLETE']\n",
    "        nb += row['NBATHLETE']*(row['NBMEDAILLE'])**2\n",
    "    if n==0:\n",
    "        return 0\n",
    "    variance =  nb/n\n",
    "    return math.sqrt(variance)\n",
    "\n",
    "def minSerie(serie):\n",
    "    minVal = int()\n",
    "    first = True\n",
    "    for index, row in serie.iterrows():\n",
    "        if row['NBMEDAILLE'] < minVal or first:\n",
    "            minVal = row['NBMEDAILLE']\n",
    "            first = False\n",
    "    return minVal\n",
    "\n",
    "def maxSerie(serie):\n",
    "    maxVal = int()\n",
    "    first = True\n",
    "    for index, row in serie.iterrows():\n",
    "        if row['NBMEDAILLE'] > maxVal or first:\n",
    "            maxVal = row['NBMEDAILLE']\n",
    "            first = False\n",
    "    return maxVal\n",
    "\n",
    "def quartilsSerie(serie):\n",
    "    quartils = list()\n",
    "    frequence_relative_cumulee = 0\n",
    "    taille_echantillon = serie['NBATHLETE'].sum()\n",
    "    if taille_echantillon == 0:\n",
    "        return[0,0,0]\n",
    "    for index,row in serie.iterrows(): \n",
    "        frequence_relative_cumulee += (row['NBATHLETE']/taille_echantillon)\n",
    "        if (frequence_relative_cumulee>=0.25):\n",
    "            quartils.append(row['NBMEDAILLE'])\n",
    "        if (frequence_relative_cumulee>=0.50):\n",
    "            quartils.append(row['NBMEDAILLE'])\n",
    "        if (frequence_relative_cumulee>=0.75):\n",
    "            quartils.append(row['NBMEDAILLE'])\n",
    "    return quartils\n",
    "\n",
    "def nbMedaille(serie):\n",
    "    somme = 0\n",
    "    for index,row in serie.iterrows(): \n",
    "        somme += row[\"NBMEDAILLE\"]*row[\"NBATHLETE\"]\n",
    "    return somme"
   ]
  },
  {
   "cell_type": "code",
   "execution_count": null,
   "id": "aa05b2f6",
   "metadata": {},
   "outputs": [
    {
     "data": {
      "text/html": [
       "<b><font size='+2'>Différence Homme/Femme pendant 2000 Summer Olympics</font></b>"
      ],
      "text/plain": [
       "<IPython.core.display.HTML object>"
      ]
     },
     "metadata": {},
     "output_type": "display_data"
    },
    {
     "data": {
      "text/html": [
       "<div>\n",
       "<style scoped>\n",
       "    .dataframe tbody tr th:only-of-type {\n",
       "        vertical-align: middle;\n",
       "    }\n",
       "\n",
       "    .dataframe tbody tr th {\n",
       "        vertical-align: top;\n",
       "    }\n",
       "\n",
       "    .dataframe thead th {\n",
       "        text-align: right;\n",
       "    }\n",
       "</style>\n",
       "<table border=\"1\" class=\"dataframe\">\n",
       "  <thead>\n",
       "    <tr style=\"text-align: right;\">\n",
       "      <th></th>\n",
       "      <th>Annee</th>\n",
       "      <th>Genre</th>\n",
       "      <th>Moyenne</th>\n",
       "      <th>Ecart Type</th>\n",
       "      <th>1er quartil</th>\n",
       "      <th>Médiane</th>\n",
       "      <th>3e quartil</th>\n",
       "      <th>Min</th>\n",
       "      <th>Max</th>\n",
       "      <th>TotalMedaille</th>\n",
       "    </tr>\n",
       "  </thead>\n",
       "  <tbody>\n",
       "    <tr>\n",
       "      <th>0</th>\n",
       "      <td>2000</td>\n",
       "      <td>Homme</td>\n",
       "      <td>0.170006</td>\n",
       "      <td>0.450113</td>\n",
       "      <td>0</td>\n",
       "      <td>0</td>\n",
       "      <td>0</td>\n",
       "      <td>0</td>\n",
       "      <td>6</td>\n",
       "      <td>1137</td>\n",
       "    </tr>\n",
       "    <tr>\n",
       "      <th>1</th>\n",
       "      <td>2000</td>\n",
       "      <td>Femme</td>\n",
       "      <td>0.218388</td>\n",
       "      <td>0.522884</td>\n",
       "      <td>0</td>\n",
       "      <td>0</td>\n",
       "      <td>0</td>\n",
       "      <td>0</td>\n",
       "      <td>5</td>\n",
       "      <td>905</td>\n",
       "    </tr>\n",
       "  </tbody>\n",
       "</table>\n",
       "</div>"
      ],
      "text/plain": [
       "  Annee  Genre   Moyenne  Ecart Type  1er quartil  Médiane  3e quartil  Min  \\\n",
       "0  2000  Homme  0.170006    0.450113            0        0           0    0   \n",
       "1  2000  Femme  0.218388    0.522884            0        0           0    0   \n",
       "\n",
       "   Max  TotalMedaille  \n",
       "0    6           1137  \n",
       "1    5            905  "
      ]
     },
     "metadata": {},
     "output_type": "display_data"
    },
    {
     "data": {
      "text/html": [
       "<div>\n",
       "<style scoped>\n",
       "    .dataframe tbody tr th:only-of-type {\n",
       "        vertical-align: middle;\n",
       "    }\n",
       "\n",
       "    .dataframe tbody tr th {\n",
       "        vertical-align: top;\n",
       "    }\n",
       "\n",
       "    .dataframe thead th {\n",
       "        text-align: right;\n",
       "    }\n",
       "</style>\n",
       "<table border=\"1\" class=\"dataframe\">\n",
       "  <thead>\n",
       "    <tr style=\"text-align: right;\">\n",
       "      <th></th>\n",
       "      <th>Annee</th>\n",
       "      <th>Genre</th>\n",
       "      <th>Moyenne</th>\n",
       "      <th>Ecart Type</th>\n",
       "      <th>1er quartil</th>\n",
       "      <th>Médiane</th>\n",
       "      <th>3e quartil</th>\n",
       "      <th>Min</th>\n",
       "      <th>Max</th>\n",
       "      <th>TotalMedaille</th>\n",
       "    </tr>\n",
       "  </thead>\n",
       "  <tbody>\n",
       "  </tbody>\n",
       "</table>\n",
       "</div>"
      ],
      "text/plain": [
       "Empty DataFrame\n",
       "Columns: [Annee, Genre, Moyenne, Ecart Type, 1er quartil, Médiane, 3e quartil, Min, Max, TotalMedaille]\n",
       "Index: []"
      ]
     },
     "metadata": {},
     "output_type": "display_data"
    }
   ],
   "source": [
    "#Tableau Statistique répartions par genre : nb de médailles par athelte en moyenne + ecart type etc...\n",
    "\n",
    "saison = requete_vers_dataframe(conn, \"SELECT distinct anneehote FROM hote WHERE saison = 'Summer' and anneeHote < 2000 ORDER BY anneehote\")\n",
    "\n",
    "moyennes = list()\n",
    "ecarts = list()\n",
    "min = list()\n",
    "max = list()\n",
    "\n",
    "serie_hommes  = requete_vers_dataframe(conn, f\"\"\"SELECT total as NBMEDAILLE, count(*) as nbAthlete\n",
    "                                                FROM {SCHEMA}.medailles_athletes_2000 ma\n",
    "                                                INNER JOIN {SCHEMA}.athlete a ON a.idathlete = ma.idathlete\n",
    "                                                WHERE genre = 'Male'\n",
    "                                                GROUP BY total\n",
    "                                                ORDER BY total\n",
    "                                           \"\"\")\n",
    "\n",
    "serie_femmes  = requete_vers_dataframe(conn, f\"\"\"SELECT total as NBMEDAILLE, count(*) as nbAthlete\n",
    "                                                    FROM {SCHEMA}.medailles_athletes_2000 ma\n",
    "                                                    INNER JOIN {SCHEMA}.athlete a ON a.idathlete = ma.idathlete\n",
    "                                                    WHERE genre = 'Female'\n",
    "                                                    GROUP BY total\n",
    "                                                    ORDER BY total\n",
    "                                           \"\"\")\n",
    "\n",
    "\n",
    "moyennes.append(calculeMoyenne(serie_hommes))\n",
    "moyennes.append(calculeMoyenne(serie_femmes))\n",
    "\n",
    "ecarts.append(calculeEcartType(serie_hommes))\n",
    "ecarts.append(calculeEcartType(serie_femmes))\n",
    "\n",
    "quartil_hommes = quartilsSerie(serie_hommes)\n",
    "quartil_femmes = quartilsSerie(serie_femmes)\n",
    "\n",
    "min.append(minSerie(serie_hommes))\n",
    "min.append(minSerie(serie_femmes))\n",
    "\n",
    "max.append(maxSerie(serie_hommes))\n",
    "max.append(maxSerie(serie_femmes))\n",
    "\n",
    "nb_medaille_homme = nbMedaille(serie_hommes)\n",
    "nb_medaille_femme = nbMedaille(serie_femmes)\n",
    "\n",
    "statistiques_2000 = {\n",
    "    'Annee': ['2000', '2000'],\n",
    "    'Genre': ['Homme', 'Femme'],\n",
    "    'Moyenne': moyennes,\n",
    "    'Ecart Type': ecarts,\n",
    "    '1er quartil': [quartil_hommes[0], quartil_femmes[0]],\n",
    "    'Médiane': [quartil_hommes[1], quartil_femmes[1]],\n",
    "    '3e quartil': [quartil_hommes[2], quartil_femmes[2]],\n",
    "    'Min': min,\n",
    "    'Max': max,\n",
    "    'TotalMedaille' : [nb_medaille_homme, nb_medaille_femme]\n",
    "}\n",
    "\n",
    "statistiques_2000 = pd.DataFrame(statistiques_2000)\n",
    "\n",
    "display(HTML(f\"<b><font size='+2'>Différence Homme/Femme pendant {EDITION_JO}</font></b>\"))\n",
    "display(statistiques_2000)\n",
    "\n",
    "statistiques_avant_2000 = pd.DataFrame({\n",
    "    'Annee':[],\n",
    "    'Genre': [],\n",
    "    'Moyenne': [],\n",
    "    'Ecart Type': [],\n",
    "    '1er quartil': [],\n",
    "    'Médiane': [],\n",
    "    '3e quartil': [],\n",
    "    'Min': [],\n",
    "    'Max': [],\n",
    "    'TotalMedaille': []\n",
    "})\n",
    "\n",
    "display(statistiques_avant_2000)\n",
    "\n",
    "for i, row in saison.iterrows():\n",
    "    serie_homme_saison = requete_vers_dataframe(conn, f\"\"\"\n",
    "                                                        SELECT total as NBMEDAILLE, count(*) as nbAthlete\n",
    "                                                        FROM (SELECT idathlete,\n",
    "                                                        COUNT(medaille) AS total\n",
    "                                                        FROM \n",
    "                                                        (SELECT \n",
    "                                                        a.idathlete, a.nomathlete, a.prenomathlete, medaille\n",
    "                                                        FROM {SCHEMA}.athlete a\n",
    "                                                        LEFT JOIN {SCHEMA}.participation_individuelle pi ON a.idAthlete = pi.idAthlete\n",
    "                                                        INNER JOIN {SCHEMA}.evenement e ON e.idevenement = pi.idevent\n",
    "                                                        INNER JOIN {SCHEMA}.hote h ON e.idhote = h.idhote\n",
    "                                                        WHERE genre = 'Male' AND saison = 'Summer' AND  anneeHote = {row['ANNEEHOTE']}\n",
    "                                                        UNION ALL\n",
    "                                                        SELECT \n",
    "                                                        a.idathlete, a.nomathlete, a.prenomathlete, medaille\n",
    "                                                        FROM {SCHEMA}.athlete a\n",
    "                                                        LEFT JOIN {SCHEMA}.composition_equipe ce ON a.idAthlete = ce.idAthlete\n",
    "                                                        INNER JOIN {SCHEMA}.participation_equipe pe ON pe.idequipe = ce.idequipe\n",
    "                                                        INNER JOIN {SCHEMA}.evenement e ON e.idevenement = pe.idevenement\n",
    "                                                        INNER JOIN {SCHEMA}.hote h ON e.idhote = h.idhote\n",
    "                                                        WHERE genre = 'Male' AND saison = 'Summer' AND anneeHote = {row['ANNEEHOTE']})\n",
    "                                                        GROUP BY idathlete, nomathlete, prenomathlete)\n",
    "                                                        GROUP BY total\n",
    "                                                        ORDER BY total\n",
    "                                                        \"\"\")\n",
    "    \n",
    "    ecart = quartilsSerie(serie_homme_saison)\n",
    "\n",
    "    rang = {\n",
    "        'Annee': row['ANNEEHOTE'],\n",
    "        'Genre': 'Homme',\n",
    "        'Moyenne': calculeMoyenne(serie_homme_saison),\n",
    "        'Ecart Type': calculeEcartType(serie_homme_saison),\n",
    "        '1er quartil': ecart[0],\n",
    "        'Médiane': ecart[1],\n",
    "        '3e quartil': ecart[0],\n",
    "        'Min': minSerie(serie_homme_saison),\n",
    "        'Max': maxSerie(serie_homme_saison),\n",
    "        'TotalMedaille': nbMedaille(serie_homme_saison)\n",
    "    }\n",
    "\n",
    "    rang_df = pd.DataFrame([rang])\n",
    "\n",
    "    # Utiliser pd.concat pour ajouter la nouvelle ligne\n",
    "    statistiques_avant_2000 = pd.concat([statistiques_avant_2000, rang_df], ignore_index=True)\n",
    "    \n",
    "    serie_femme_saison = requete_vers_dataframe(conn, f\"\"\"\n",
    "                                                        SELECT total as NBMEDAILLE, count(*) as nbAthlete\n",
    "                                                        FROM (SELECT idathlete,\n",
    "                                                        COUNT(medaille) AS total\n",
    "                                                        FROM \n",
    "                                                        (SELECT \n",
    "                                                        a.idathlete, a.nomathlete, a.prenomathlete, medaille\n",
    "                                                        FROM {SCHEMA}.athlete a\n",
    "                                                        LEFT JOIN {SCHEMA}.participation_individuelle pi ON a.idAthlete = pi.idAthlete\n",
    "                                                        INNER JOIN {SCHEMA}.evenement e ON e.idevenement = pi.idevent\n",
    "                                                        INNER JOIN {SCHEMA}.hote h ON e.idhote = h.idhote\n",
    "                                                        WHERE genre = 'Female' AND saison = 'Summer' AND  anneeHote = {row['ANNEEHOTE']}\n",
    "                                                        UNION ALL\n",
    "                                                        SELECT \n",
    "                                                        a.idathlete, a.nomathlete, a.prenomathlete, medaille\n",
    "                                                        FROM {SCHEMA}.athlete a\n",
    "                                                        LEFT JOIN {SCHEMA}.composition_equipe ce ON a.idAthlete = ce.idAthlete\n",
    "                                                        INNER JOIN {SCHEMA}.participation_equipe pe ON pe.idequipe = ce.idequipe\n",
    "                                                        INNER JOIN {SCHEMA}.evenement e ON e.idevenement = pe.idevenement\n",
    "                                                        INNER JOIN {SCHEMA}.hote h ON e.idhote = h.idhote\n",
    "                                                        WHERE genre = 'Female' AND saison = 'Summer' AND anneeHote = {row['ANNEEHOTE']})\n",
    "                                                        GROUP BY idathlete, nomathlete, prenomathlete)\n",
    "                                                        GROUP BY total\n",
    "                                                        ORDER BY total\n",
    "                                                        \"\"\")\n",
    "    \n",
    "    ecart = quartilsSerie(serie_femme_saison)\n",
    "\n",
    "    rang = {\n",
    "        'Annee': int(row['ANNEEHOTE']),\n",
    "        'Genre': 'Femme',\n",
    "        'Moyenne': calculeMoyenne(serie_femme_saison),\n",
    "        'Ecart Type': calculeEcartType(serie_femme_saison),\n",
    "        '1er quartil': ecart[0],\n",
    "        'Médiane': ecart[1],\n",
    "        '3e quartil': ecart[0],\n",
    "        'Min': minSerie(serie_femme_saison),\n",
    "        'Max': maxSerie(serie_femme_saison),\n",
    "        'TotalMedaille': nbMedaille(serie_femme_saison)\n",
    "    }\n",
    "\n",
    "    rang_df = pd.DataFrame([rang])\n",
    "\n",
    "    # Utiliser pd.concat pour ajouter la nouvelle ligne\n",
    "    statistiques_avant_2000 = pd.concat([statistiques_avant_2000, rang_df], ignore_index=True)\n",
    "\n",
    "moyennes_avant_2000 = list()\n",
    "ecarts_avant_2000 = list()\n",
    "min_avant_2000 = list()\n",
    "max_avant_2000 = list()\n",
    "\n",
    "display(statistiques_avant_2000)"
   ]
  },
  {
   "cell_type": "markdown",
   "id": "96c69c0e",
   "metadata": {},
   "source": [
    "### Répartion du nombre de médaille gagnées par genre"
   ]
  },
  {
   "cell_type": "code",
   "execution_count": null,
   "id": "7827414b",
   "metadata": {},
   "outputs": [],
   "source": [
    "# Grille pour les afficher l'un à coté de l'autre (1 ligne, 2 colonnes)\n",
    "fig, (ax1, ax2) = plt.subplots(1, 2)\n",
    "\n",
    "ax1.pie(statistiques_2000['TotalMedaille'],labels=['Homme', 'Femme'], startangle=90)\n",
    "ax1.set_title('Pendant 2000 Summer Olympics')\n",
    "\n",
    "repartition = [0,0]\n",
    "for i, row in statistiques_avant_2000.iterrows():\n",
    "    if row['Genre'] == 'Homme':\n",
    "        repartition[0] += row['TotalMedaille']\n",
    "    else:\n",
    "        repartition[1] += row['TotalMedaille']\n",
    "\n",
    "ax2.pie(repartition, labels=['Homme', 'Femme'],startangle=90)\n",
    "ax2.set_title('Avant 2000')\n",
    "\n",
    "# Ajustement de la disposition pour éviter les chevauchements\n",
    "plt.tight_layout()\n",
    "\n",
    "plt.show()"
   ]
  },
  {
   "cell_type": "markdown",
   "id": "e491d963",
   "metadata": {},
   "source": [
    "### Moyenne et écart type du nombre de médaille gagné par genre"
   ]
  },
  {
   "cell_type": "code",
   "execution_count": null,
   "id": "f7218ce1",
   "metadata": {},
   "outputs": [],
   "source": [
    "fig, axs = plt.subplots(1, 2, figsize=(10, 6), sharey=True)\n",
    "\n",
    "stats_avant_2000_groupe = statistiques_avant_2000.groupby('Genre')\n",
    "stats_avant_2000_groupe = stats_avant_2000_groupe.agg({\n",
    "    'Moyenne': 'mean',\n",
    "    'Ecart Type': 'mean',\n",
    "    '1er quartil': 'mean',\n",
    "    'Médiane': 'mean',\n",
    "    '3e quartil': 'mean',\n",
    "    'Min': 'min',\n",
    "    'Max': 'max',\n",
    "    'TotalMedaille': 'sum'\n",
    "}).reset_index()\n",
    "\n",
    "display(stats_avant_2000_groupe)\n",
    "\n",
    "x_pos = range(len(statistiques_2000['Genre']))\n",
    "axs[0].bar(x_pos, statistiques_2000['Moyenne'], yerr=statistiques_2000['Ecart Type'], align='center', capsize=10)\n",
    "axs[0].set_xlabel('Genre')\n",
    "axs[0].set_ylabel('Moyenne')\n",
    "axs[0].set_title('Moyenne et écart-type par genre \\npendant 2000 Summer Olympics')\n",
    "axs[0].set_xticks(x_pos)\n",
    "axs[0].set_xticklabels(statistiques_2000['Genre'])\n",
    "axs[0].yaxis.grid(True)\n",
    "\n",
    "x_pos = range(len(stats_avant_2000_groupe['Genre']))\n",
    "axs[1].bar(x_pos, stats_avant_2000_groupe['Moyenne'], yerr=stats_avant_2000_groupe['Ecart Type'], align='center', capsize=10)\n",
    "axs[1].set_xlabel('Genre')\n",
    "axs[1].set_ylabel('Moyenne')\n",
    "axs[1].set_title('Moyenne et écart-type par genre avant 2000')\n",
    "axs[1].set_xticks(x_pos)\n",
    "axs[1].set_xticklabels(stats_avant_2000_groupe['Genre'])\n",
    "axs[1].yaxis.grid(True)\n",
    "\n",
    "# Affichage du graphique\n",
    "plt.tight_layout()\n",
    "plt.show()"
   ]
  },
  {
   "cell_type": "markdown",
   "id": "03070029-2988-4182-937e-0c519b8c9b64",
   "metadata": {},
   "source": [
    "On remarque que le premier quartil, la médianne et le 3e quartils sont égals à 0. Ils sont égals à 0 car obtenir une médailles aux Jeux Olympiques est très rare, ainsi, le nombre de personne sans médaille est largement plus grand (>75%) que le nombre de personne à en avoir obtenus.\n",
    "Étant donné que ces indicateurs sont à 0, cela n'est pas pertinents de les afficher sur un graphique."
   ]
  },
  {
   "cell_type": "markdown",
   "id": "c04e72cb",
   "metadata": {},
   "source": [
    "### Répartion des médailles gagnées par pays"
   ]
  },
  {
   "cell_type": "code",
   "execution_count": null,
   "id": "126bf54a",
   "metadata": {},
   "outputs": [],
   "source": [
    "def calculerMoyenneMedailleNoc(serie):\n",
    "    somme = 0\n",
    "    nbNoc = 0\n",
    "    for i, row in serie.iterrows():\n",
    "        somme += row['NBMEDAILLE']\n",
    "        nbNoc += 1\n",
    "    if nbNoc == 0:\n",
    "        return 0\n",
    "    return somme/nbNoc\n",
    "\n",
    "def calculerEcartTypeMedailleNoc(serie):\n",
    "    somme = 0\n",
    "    nbNoc = 0\n",
    "    for i, row in serie.iterrows():\n",
    "        somme += row['NBMEDAILLE']^2\n",
    "        nbNoc += 1\n",
    "    if nbNoc == 0:\n",
    "        return 0\n",
    "    return math.sqrt(somme/nbNoc)\n",
    "\n",
    "def minSerieNoc(serie):\n",
    "    minVal = int()\n",
    "    first = True\n",
    "    for index, row in serie.iterrows():\n",
    "        if row['NBMEDAILLE'] < minVal or first:\n",
    "            minVal = row['NBMEDAILLE']\n",
    "            first = False\n",
    "    return minVal\n",
    "\n",
    "def maxSerieNoc(serie):\n",
    "    maxVal = int()\n",
    "    first = True\n",
    "    for index, row in serie.iterrows():\n",
    "        if row['NBMEDAILLE'] > maxVal or first:\n",
    "            maxVal = row['NBMEDAILLE']\n",
    "            first = False\n",
    "    return maxVal\n",
    "\n",
    "def quartilsSerieNoc(serie):\n",
    "    quartils = list()\n",
    "    nb_element = serie[\"NBMEDAILLE\"].count()\n",
    "    if(nb_element%4 == 0):\n",
    "        quartils.append(serie[\"NBMEDAILLE\"][(nb_element//4)-1])\n",
    "        quartils.append((serie[\"NBMEDAILLE\"][(nb_element//2)-1]+serie[\"NBMEDAILLE\"][(nb_element/2)-1])/2)\n",
    "        quartils.append(serie[\"NBMEDAILLE\"][(3*nb_element//4)-1])\n",
    "    else:\n",
    "        quartils.append(serie[\"NBMEDAILLE\"][(nb_element//4)])\n",
    "        quartils.append(serie[\"NBMEDAILLE\"][(nb_element//2)])\n",
    "        quartils.append(serie[\"NBMEDAILLE\"][(3*nb_element//4)])\n",
    "    return quartils"
   ]
  },
  {
   "cell_type": "code",
   "execution_count": null,
   "id": "0727aa54-4969-4ac8-a3b7-156cee779acf",
   "metadata": {
    "tags": []
   },
   "outputs": [],
   "source": [
    "serie_noc_2000 = requete_vers_dataframe(conn, f\"\"\"\n",
    "                                        SELECT * FROM {SCHEMA}.medailles_noc_athletes\n",
    "                                        \"\"\")\n",
    "\n",
    "serie_noc_avant_2000 = requete_vers_dataframe(conn, f\"\"\"\n",
    "                                        SELECT * FROM {SCHEMA}.medailles_noc_athletes_avant_2000\n",
    "                                        \"\"\")\n",
    "\n",
    "quartil_2000 = quartilsSerieNoc(serie_noc_2000)\n",
    "\n",
    "quartil_avant_2000 = quartilsSerieNoc(serie_noc_avant_2000)\n",
    "\n",
    "statistiques_global_nocs = {\n",
    "    'Édition' : ['2000 Summer Olympics', 'Moyenne des éditions avant 2000'],\n",
    "    'Moyenne': [calculerMoyenneMedailleNoc(serie_noc_2000), calculerMoyenneMedailleNoc(serie_noc_avant_2000)],\n",
    "    'Ecart-Type': [calculerEcartTypeMedailleNoc(serie_noc_2000), calculerMoyenneMedailleNoc(serie_noc_avant_2000)],\n",
    "    '1er quartil': [quartil_2000[0],quartil_avant_2000[0]],\n",
    "    'Médianne': [quartil_2000[1],quartil_avant_2000[1]],\n",
    "    '3e quartil': [quartil_2000[2],quartil_avant_2000[2]],\n",
    "    'Min': [minSerieNoc(serie_noc_2000),minSerieNoc(serie_noc_avant_2000)],\n",
    "    'Max': [maxSerieNoc(serie_noc_2000),maxSerieNoc(serie_noc_avant_2000)],\n",
    "}\n",
    "\n",
    "statistiques_global_nocs = pd.DataFrame(statistiques_global_nocs)\n",
    "\n",
    "display(statistiques_global_nocs)"
   ]
  },
  {
   "cell_type": "markdown",
   "id": "ea794a4d",
   "metadata": {},
   "source": [
    "Interpréter et/ou expliquer ce qui est présenté : On remarque une légère hausse du nombre de médaille moyen lors des jeux de 2000. C'est probablement du à un haut du tableau qui remonte cette moyenne car la médianne est quand meme plus faible que lors des éditions précédentes. On remarque que le nombre maximale de médaille est lui aussi plus élévé en 2000 : 253 médaille, pour les éditions précédentes, en moyenne le nombre max de médaille est de 234."
   ]
  },
  {
   "cell_type": "markdown",
   "id": "c62f61c5-83b3-4c2b-9f13-58ad89acd515",
   "metadata": {},
   "source": [
    "### répartition des médailles par continent (Amérique, Europe, Asie, Afrique, Océanie), comparaison là aussi avec les outils vus en statistiques. [Bonus]"
   ]
  },
  {
   "cell_type": "code",
   "execution_count": null,
   "id": "366cd41a-9f0a-4a33-b6c7-4c2092ef0f7a",
   "metadata": {},
   "outputs": [],
   "source": [
    "# Créer une nouvelle table continent"
   ]
  },
  {
   "cell_type": "markdown",
   "id": "4a42bde4-1b66-4beb-a0dc-3ce3861c0334",
   "metadata": {},
   "source": [
    "Interpréter et/ou expliquer ce qui est présenté : "
   ]
  },
  {
   "cell_type": "markdown",
   "id": "7f8cbc90-c2a9-4951-8f93-4d0c6728e3fb",
   "metadata": {},
   "source": [
    "### autres idées de répartitions pertinentes [Bonus]"
   ]
  },
  {
   "cell_type": "code",
   "execution_count": null,
   "id": "d1f84655-5d18-4b18-9f93-a2d61419c581",
   "metadata": {},
   "outputs": [],
   "source": []
  },
  {
   "cell_type": "markdown",
   "id": "e1a17bc1-3015-4ab3-81ef-e32fb432fd92",
   "metadata": {},
   "source": [
    "Interpréter et/ou expliquer ce qui est présenté : "
   ]
  },
  {
   "cell_type": "markdown",
   "id": "f1b50b52-8193-4e03-9890-3e5b2fe4d213",
   "metadata": {},
   "source": [
    "### évolution de ces classements par rapport à l'édition précédente [Bonus]"
   ]
  },
  {
   "cell_type": "code",
   "execution_count": null,
   "id": "13e5fde5-23fd-49a6-9233-6d4158fde78f",
   "metadata": {
    "tags": []
   },
   "outputs": [],
   "source": [
    "### évolution à long terme pour le top 3 de cette édition (c'est-à-dire que pour les trois meilleurs pays de cette édition, on veut savoir quelle était leur performance sur les jeux de même type (jeux d'été ou jeux d'hiver) lors des éditions qui ont précédé).\n",
    "\n",
    "# récupere les idHote des 3 pays avec le plus de médailles\n",
    "idTop3 = [clasementNocGlobal['NOC'].loc[i] for i in range(3)]\n",
    "# initialisation d'un dataframe \n",
    "resultats_top3 = pd.DataFrame(columns=['IDHOTE', 'ANNEEHOTE', 'NOC', 'TOTAL'])\n",
    "# pour chaque Jeux Olympique d'été :\n",
    "for i in range (len(hoteSummer)) :\n",
    "    # récupere l'année et l'idHote \n",
    "    idHote = hoteSummer.loc[i, 'IDHOTE']\n",
    "    anneeHote = hoteSummer.loc[i, 'ANNEEHOTE']\n",
    "    # pour chaque pays du TOP3 (USA, GER, AUS)\n",
    "    for noc in idTop3:\n",
    "        # requete pour recupérer le nombre de médailles par équipe de {noc} durant {idhote}\n",
    "        ClassementEquipe = requete_vers_dataframe(conn,f\"\"\"SELECT EQ.NOC,\n",
    "        COUNT(PE.Medaille) AS Total \n",
    "        FROM {SCHEMA}.EVENEMENT E \n",
    "        INNER JOIN {SCHEMA}.PARTICIPATION_EQUIPE PE ON PE.idEvenement = E.idEvenement\n",
    "        INNER JOIN {SCHEMA}.EQUIPE EQ ON PE.idEquipe = EQ.idEquipe\n",
    "        WHERE IDHOTE = {idHote}\n",
    "        GROUP BY EQ.NOC\n",
    "        HAVING EQ.NOC = '{noc}'\"\"\")\n",
    "        # requete pour recupérer le nombre de médailles en individuelle de {noc} durant {idhote}\n",
    "        ClassementIndividuelle = requete_vers_dataframe(conn,f\"\"\"SELECT idAthlete, COUNT(PI.Medaille) AS Total \n",
    "        FROM {SCHEMA}.EVENEMENT E\n",
    "        INNER JOIN {SCHEMA}.PARTICIPATION_INDIVIDUELLE PI ON PI.idEvent = E.idEvenement\n",
    "        WHERE IDHOTE = {idHote} AND NOC = '{noc}'\n",
    "        GROUP BY idAthlete\"\"\")\n",
    "        # assigner l'idHote et l'annéeHote à la ligne pour concatener\n",
    "        ClassementEquipe['IDHOTE'] = idHote\n",
    "        ClassementEquipe['ANNEEHOTE'] = anneeHote\n",
    "        # ajouter le total des médailles individuelles au total des médailles en équipe pour avoir le nombre de médaille total\n",
    "        ClassementEquipe['TOTAL'] += ClassementIndividuelle['TOTAL'].sum()\n",
    "        # ajouter la ligne dans un dataframe\n",
    "        resultats_top3 = pd.concat([resultats_top3, ClassementEquipe], ignore_index=True)"
   ]
  },
  {
   "cell_type": "code",
   "execution_count": null,
   "id": "746dab63-692c-4491-9c29-1be61aa62af9",
   "metadata": {
    "tags": []
   },
   "outputs": [],
   "source": [
    "# créer un dataframe pour chaque nation pour afficher les statistique\n",
    "resultats_top3USA = resultats_top3[resultats_top3['NOC'] == 'USA']\n",
    "resultats_top3GER = resultats_top3[resultats_top3['NOC'] == 'GER']\n",
    "resultats_top3AUS = resultats_top3[resultats_top3['NOC'] == 'AUS']\n",
    "\n",
    "# Tracer les données avec matplotlib\n",
    "plt.figure(figsize=(12, 6))  # Définir la taille de la figure\n",
    "\n",
    "# Tracer USA\n",
    "plt.plot(resultats_top3USA.ANNEEHOTE, resultats_top3USA['TOTAL'], marker='o', linestyle='-', label='USA')\n",
    "# Tracer GER\n",
    "plt.plot(resultats_top3GER.ANNEEHOTE, resultats_top3GER['TOTAL'], marker='o', linestyle='-', label='GER')\n",
    "# Tracer AUS\n",
    "plt.plot(resultats_top3AUS.ANNEEHOTE, resultats_top3AUS['TOTAL'], marker='o', linestyle='-', label='AUS')\n",
    "\n",
    "# Ajouter des légendes, titre, étiquettes d'axe\n",
    "plt.xlabel('Année des JO')\n",
    "plt.ylabel('Nombre de médaille')\n",
    "display(HTML(f\"<b><font size='+2'>Évolution du nombre de médaille par nation </font></b>\"))\n",
    "print(\" \")\n",
    "plt.legend()"
   ]
  },
  {
   "cell_type": "markdown",
   "id": "3a653715-e0ce-4364-94d7-17b571beada5",
   "metadata": {},
   "source": [
    "Interpréter et/ou expliquer ce qui est présenté : On remarque que l'Allemagne n'a pas gagné de médaille entre 1970 et 1980, car le pays était divisée en deux délégations (RDA et RFA). Depuis, l'Allemagne remporte de moins en moins de médaille, car les autres pays deviennent de plus en plus fort, et le pays doit se restructurer après la réunification, donc investis moins dans le sport."
   ]
  },
  {
   "cell_type": "markdown",
   "id": "7d328e63-59f7-4247-86a4-2f4a5c696d4e",
   "metadata": {
    "tags": []
   },
   "source": [
    "### tailles des délégations (et tendances à long terme). [Bonus]"
   ]
  },
  {
   "cell_type": "code",
   "execution_count": null,
   "id": "a14d5589-7737-4b12-848e-f517954e2982",
   "metadata": {
    "tags": []
   },
   "outputs": [],
   "source": [
    "## J'AI PAS FAIT LES TENDANCES A LONG TERME\n",
    "# initialisation d'un dataframe\n",
    "taille_deleg = pd.DataFrame(columns=['IDHOTE', 'ANNEEHOTE', 'NOC'])\n",
    "# pour chaque Jeux Olympique d'été :\n",
    "for i in range (len(hoteSummer)) :\n",
    "    # récupere l'année et l'idHote \n",
    "    idHote = hoteSummer.loc[i, 'IDHOTE']\n",
    "    anneeHote = hoteSummer.loc[i, 'ANNEEHOTE']\n",
    "    # pour chaque pays du TOP3 (USA, GER, AUS)\n",
    "    for noc in idTop3:\n",
    "        # requete pour recupérer le nombre d'athlete\n",
    "        nbAthleteNoc = requete_vers_dataframe(conn, f\"\"\"SELECT COUNT(DISTINCT idAthlete) FROM (\n",
    "        SELECT PI.idAthlete FROM {SCHEMA}.PARTICIPATION_INDIVIDUELLE PI\n",
    "        INNER JOIN {SCHEMA}.EVENEMENT E ON E.idEvenement = PI.idEvent\n",
    "        INNER JOIN {SCHEMA}.HOTE H ON H.idHote = E.idHote\n",
    "        WHERE H.idHote ={idHote} AND PI.NOC = '{noc}'\n",
    "        UNION ALL\n",
    "        SELECT CE.idAthlete FROM {SCHEMA}.COMPOSITION_EQUIPE CE\n",
    "        INNER JOIN {SCHEMA}.PARTICIPATION_EQUIPE PE ON PE.idEquipe = CE.idEquipe\n",
    "        INNER JOIN {SCHEMA}.EVENEMENT E ON E.idEvenement = PE.idEvenement\n",
    "        INNER JOIN {SCHEMA}.EQUIPE EQ ON EQ.idEquipe = PE.idEquipe\n",
    "        INNER JOIN {SCHEMA}.HOTE H ON H.idHote = E.idHote\n",
    "        WHERE H.idHote = {idHote} AND EQ.NOC = '{noc}')\"\"\")\n",
    "         # assigner l'idHote, l'annéeHote et noc à la ligne pour concatener \n",
    "        nbAthleteNoc['IDHOTE'] = idHote\n",
    "        nbAthleteNoc['ANNEEHOTE'] = anneeHote\n",
    "        nbAthleteNoc['NOC'] = noc\n",
    "        # concatener la ligne \n",
    "        taille_deleg = pd.concat([taille_deleg, nbAthleteNoc], ignore_index=True)\n",
    "# renommer la colonnes count pour plus de clarete\n",
    "taille_deleg = taille_deleg.rename(columns={'COUNT(DISTINCTIDATHLETE)': 'NBATHLETE'})"
   ]
  },
  {
   "cell_type": "code",
   "execution_count": null,
   "id": "e84a2bae-0dd0-4c18-8448-1a8c68931d00",
   "metadata": {
    "tags": []
   },
   "outputs": [],
   "source": [
    "# créer un dataframe pour chaque nation pour afficher les statistique\n",
    "taille_delegUSA = taille_deleg[taille_deleg['NOC'] == 'USA']\n",
    "taille_delegGER = taille_deleg[taille_deleg['NOC'] == 'GER']\n",
    "taille_delegAUS = taille_deleg[taille_deleg['NOC'] == 'AUS']\n",
    "# Tracer les données avec matplotlib\n",
    "plt.figure(figsize=(12, 6))  # Définir la taille de la figure\n",
    "\n",
    "# Tracer USA\n",
    "plt.plot(taille_delegUSA.ANNEEHOTE, taille_delegUSA['NBATHLETE'], marker='o', linestyle='-', label='USA')\n",
    "# Tracer GER\n",
    "plt.plot(taille_delegGER.ANNEEHOTE, taille_delegGER['NBATHLETE'], marker='o', linestyle='-', label='GER')\n",
    "# Tracer AUS\n",
    "plt.plot(taille_delegAUS.ANNEEHOTE, taille_delegAUS['NBATHLETE'], marker='o', linestyle='-', label='AUS')\n",
    "\n",
    "# Ajouter des légendes, titre, étiquettes d'axe\n",
    "plt.xlabel('Année des JO')\n",
    "plt.ylabel(\"Nombre d'athlete envoyé\")\n",
    "display(HTML(f\"<b><font size='+2'>Évolution du nombre d'athlete envoyé par chaque délégation </font></b>\"))\n",
    "print(\" \")\n",
    "plt.legend()"
   ]
  },
  {
   "cell_type": "markdown",
   "id": "037c9310-8dbb-48a0-b94e-52774bcfda93",
   "metadata": {},
   "source": [
    "Interpréter et/ou expliquer ce qui est présenté : On vois que lors de l'édition de 1980, les États-Unis ont décider de boycotter l'édition se déroulant en URSS, en envoyant aucun athlete. On vois également qu'a partir de 1970 et jusqu'en 1990, l'allemgne n'a envoyé aucun athlete. Cause de la division du pays en deux délégation (RDA et RFA). Depuis, la réunification, la taille de la délégation se stabilise autour de 500 athlete, tout comme l'Australie."
   ]
  },
  {
   "cell_type": "markdown",
   "id": "1bd48574-ce60-42d6-8447-dd7f783218e5",
   "metadata": {},
   "source": [
    "### moyennes d'âge des athlètes (et tendances à long terme)."
   ]
  },
  {
   "cell_type": "code",
   "execution_count": null,
   "id": "cc917675-f3e0-481b-8948-6d95f6c92d26",
   "metadata": {
    "tags": []
   },
   "outputs": [],
   "source": [
    "# PAS FAIT TENDANCE A LONG TERME\n",
    "# initialisation de dataFrame\n",
    "moyenneAgeJOMen = pd.DataFrame(columns=['IDHOTE', 'ANNEEHOTE', 'AGEMOYEN'])\n",
    "moyenneAgeJOWomen = pd.DataFrame(columns=['IDHOTE', 'ANNEEHOTE', 'AGEMOYEN'])\n",
    "moyenneAgeJO = pd.DataFrame(columns=['IDHOTE', 'ANNEEHOTE', 'AGEMOYEN'])\n",
    "# pour chaque Jeux Olympique d'été :\n",
    "for i in range (len(hoteSummer)) :\n",
    "    # récupere l'année et l'idHote \n",
    "    idHote = hoteSummer.loc[i, 'IDHOTE']\n",
    "    anneeHote = hoteSummer.loc[i, 'ANNEEHOTE']\n",
    "    # requete pour récuperer l'age moyen des hommes au moment de leurs participations au JO\n",
    "    ageAthleteMen = requete_vers_dataframe(conn,f\"\"\"SELECT DISTINCT idAthlete,  \n",
    "    (ANNEEHOTE - EXTRACT(YEAR FROM DATENAISSANCE)) AS AGECOMPET FROM {SCHEMA}.ATHLETE \n",
    "    NATURAL JOIN {SCHEMA}.PARTICIPATION_INDIVIDUELLE PI\n",
    "    INNER JOIN {SCHEMA}.EVENEMENT E ON E.idEvenement = PI.idEvent\n",
    "    NATURAL JOIN {SCHEMA}.HOTE\n",
    "    WHERE DateDeces IS NULL AND DATENAISSANCE IS NOT NULL AND idHote = {idHote} AND genre = 'Male'\"\"\")\n",
    "    # requete pour récuperer l'age moyen des femmes au moment de leurs participations au JO\n",
    "    ageAthleteWomen = requete_vers_dataframe(conn,f\"\"\"SELECT DISTINCT idAthlete,  \n",
    "    (ANNEEHOTE - EXTRACT(YEAR FROM DATENAISSANCE)) AS AGECOMPET FROM {SCHEMA}.ATHLETE \n",
    "    NATURAL JOIN {SCHEMA}.PARTICIPATION_INDIVIDUELLE PI\n",
    "    INNER JOIN {SCHEMA}.EVENEMENT E ON E.idEvenement = PI.idEvent\n",
    "    NATURAL JOIN {SCHEMA}.HOTE\n",
    "    WHERE DateDeces IS NULL AND DATENAISSANCE IS NOT NULL AND idHote = {idHote} AND genre = 'Female'\"\"\")\n",
    "    # Supprimer les doublons\n",
    "    ageAthleteWomen = ageAthleteWomen.drop_duplicates(subset='IDATHLETE')\n",
    "    ageAthleteMen = ageAthleteMen.drop_duplicates(subset='IDATHLETE')\n",
    "    # calculer l'age moyen\n",
    "    ageMoyenMen = ageAthleteMen['AGECOMPET'].mean()\n",
    "    ageMoyenWomen = ageAthleteWomen['AGECOMPET'].mean()\n",
    "    # concatener (ajouter ligne à un dataFrame)\n",
    "    moyenneAgeJOMen = pd.concat([moyenneAgeJOMen, pd.DataFrame({'IDHOTE': [idHote], 'ANNEEHOTE': [anneeHote], 'AGEMOYEN': [ageMoyenMen]})], ignore_index=True)\n",
    "    moyenneAgeJOWomen = pd.concat([moyenneAgeJOWomen, pd.DataFrame({'IDHOTE': [idHote], 'ANNEEHOTE': [anneeHote], 'AGEMOYEN': [ageMoyenWomen]})], ignore_index=True)"
   ]
  },
  {
   "cell_type": "code",
   "execution_count": null,
   "id": "0a7cea0b-95d8-499a-a5f8-d2d68d32c8e3",
   "metadata": {
    "tags": []
   },
   "outputs": [],
   "source": [
    "# Définir la taille de la figure\n",
    "plt.figure(figsize=(12, 6))  \n",
    "\n",
    "# Tracer HOMME\n",
    "plt.plot(moyenneAgeJOMen.ANNEEHOTE, moyenneAgeJOMen['AGEMOYEN'], marker='o', linestyle='-', label='HOMME')\n",
    "# Tracer FEMME\n",
    "plt.plot(moyenneAgeJOWomen.ANNEEHOTE, moyenneAgeJOWomen['AGEMOYEN'], marker='o', linestyle='-', label='FEMME')\n",
    "\n",
    "# Ajouter des légendes et titre\n",
    "plt.xlabel('Année des JO')\n",
    "plt.ylabel('Age moyen')\n",
    "display(HTML(f\"<b><font size='+2'>Évolution de l'age moyen des athlete par genre </font></b>\"))\n",
    "print(\" \")\n",
    "plt.legend()"
   ]
  },
  {
   "cell_type": "markdown",
   "id": "61d5d3fd-fa4d-4974-8b2b-c6c22267f3a0",
   "metadata": {},
   "source": [
    "Interpréter et/ou expliquer ce qui est présenté : On vois que lors des JO de 1896, une femme de trente ans à participer, alors que les femmes y était interdite. Stamata Revithi est une femme qui as couru le marathon Homme. On vois également que depuis 196., l'age moyen ne cesse d'augmenter, problament due à la profesionnalisation du sport. La ou auparavant les athlete envoyé était amateur."
   ]
  },
  {
   "cell_type": "markdown",
   "id": "723085a5-70e9-45d5-80dc-44e754bf374c",
   "metadata": {},
   "source": [
    "### tailles des athlètes (et tendances à long terme). [Bonus]"
   ]
  },
  {
   "cell_type": "code",
   "execution_count": null,
   "id": "ed47312f-21c0-4873-9d7e-4025f5f88ca7",
   "metadata": {
    "tags": []
   },
   "outputs": [],
   "source": [
    "# requete renvoyant la taille des athletes fessant des sport collectif\n",
    "tailleMoyenSportCollectifGenre = requete_vers_dataframe(conn, f\"\"\"SELECT DISTINCT A.idAthlete, nomSport, taille, Genre FROM {SCHEMA}.ATHLETE A\n",
    "INNER JOIN {SCHEMA}.COMPOSITION_EQUIPE CE ON CE.idAthlete = A.idAthlete\n",
    "INNER JOIN {SCHEMA}.PARTICIPATION_EQUIPE PE ON PE.idEquipe = CE.idEquipe \n",
    "INNER JOIN {SCHEMA}.EVENEMENT E ON E.idEvenement = PE.idEvenement\n",
    "INNER JOIN {SCHEMA}.DISCIPLINE D ON D.CodeDiscipline = E.CodeDiscipline\n",
    "INNER JOIN {SCHEMA}.SPORT S ON S.CodeSport = D.CodeSport\"\"\")\n",
    "# requete renvoyant la taille des athletes fessant des sport individuel \n",
    "tailleMoyenSportIndividuelGenre = requete_vers_dataframe(conn, f\"\"\"SELECT DISTINCT A.idAthlete, nomSport, taille, Genre FROM {SCHEMA}.ATHLETE A\n",
    "INNER JOIN {SCHEMA}.PARTICIPATION_INDIVIDUELLE PI ON PI.idAthlete = A.idAthlete\n",
    "INNER JOIN {SCHEMA}.EVENEMENT E ON E.idEvenement = PI.idEvent\n",
    "INNER JOIN {SCHEMA}.DISCIPLINE D ON D.CodeDiscipline = E.CodeDiscipline\n",
    "INNER JOIN {SCHEMA}.SPORT S ON S.codeSport = D.CodeSport\"\"\")"
   ]
  },
  {
   "cell_type": "code",
   "execution_count": null,
   "id": "8cf6a095-37fc-46ea-a474-0b695e3379e2",
   "metadata": {
    "tags": []
   },
   "outputs": [],
   "source": [
    "# calculer la taille moyenne par sport et par genre\n",
    "taille_moyenneGenreIndividuelle = tailleMoyenSportIndividuelGenre.groupby(['GENRE', 'NOMSPORT'])['TAILLE'].mean().reset_index()\n",
    "taille_moyenneGenreEquipe = tailleMoyenSportCollectifGenre.groupby(['GENRE', 'NOMSPORT'])['TAILLE'].mean().reset_index()\n",
    "# trier par taille décroissante\n",
    "taille_moyenneGenreEquipe = taille_moyenneGenreEquipe.sort_values(by=['TAILLE'], ascending=False)\n",
    "taille_moyenneGenreIndividuelle = taille_moyenneGenreIndividuelle.sort_values(by=['TAILLE'], ascending=False)"
   ]
  },
  {
   "cell_type": "code",
   "execution_count": null,
   "id": "e779e5a3-5f2b-4efe-b499-4a5d76249981",
   "metadata": {
    "tags": []
   },
   "outputs": [],
   "source": [
    "# Création de la figure\n",
    "plt.figure(figsize=(14, 15))\n",
    "\n",
    "# Tracer les barres pour les sports collectifs\n",
    "for genre in taille_moyenneGenreEquipe['GENRE'].unique():\n",
    "    df = taille_moyenneGenreEquipe[taille_moyenneGenreEquipe['GENRE'] == genre]\n",
    "    # enlever les sport ou taille est null\n",
    "    df = df[~np.isnan(df['TAILLE'])]\n",
    "    # tracer la bare\n",
    "    plt.barh(df['NOMSPORT'], df['TAILLE'], label=f'{genre} Collectif')\n",
    "\n",
    "# Tracer les barres pour les sports individuels\n",
    "for genre in taille_moyenneGenreIndividuelle['GENRE'].unique():\n",
    "    df = taille_moyenneGenreIndividuelle[taille_moyenneGenreIndividuelle['GENRE'] == genre]\n",
    "    # enlever les sport ou taille est null\n",
    "    df = df[~np.isnan(df['TAILLE'])]\n",
    "    # tracer la bare\n",
    "    plt.barh(df['NOMSPORT'], df['TAILLE'], label=f'{genre} Individuel')\n",
    "    \n",
    "# Ajouter des légendes, titre, étiquettes d'axe\n",
    "plt.xlabel('Taille Moyenne (cm)')\n",
    "plt.ylabel('Sport')\n",
    "display(HTML(f\"<b><font size='+2'>Taille Moyenne des Athlètes par Sport et par Genre </font></b>\"))\n",
    "print(\" \")\n",
    "plt.legend()\n",
    "\n",
    "# Afficher le graphique\n",
    "plt.tight_layout()\n",
    "plt.show()"
   ]
  },
  {
   "cell_type": "markdown",
   "id": "5fb3b4c2-a538-4338-b789-ba17bb72f921",
   "metadata": {},
   "source": [
    "Interpréter et/ou expliquer ce qui est présenté : On vois que certain sport comme le polo, le Tug-Of-War ou la pelote basque, était des sport reservé au hommes, donc aucune femmes n'y a jamais participé. On vois également que les sport où les athletes sont les plus grands sont le basketball et le volleyBall, ce qui est cohérent car la taille représente un atout majeur dans ces sport."
   ]
  },
  {
   "cell_type": "markdown",
   "id": "f058a188-f89e-4398-913a-41dd48bebe2f",
   "metadata": {},
   "source": [
    "### féminisation : nombre d'événements féminins, nombre d'athlètes femme (et tendance à long terme)."
   ]
  },
  {
   "cell_type": "code",
   "execution_count": null,
   "id": "782c8928-63aa-4d7b-9049-f5482ea9456d",
   "metadata": {
    "tags": []
   },
   "outputs": [],
   "source": [
    "# Initialisation du DataFrame\n",
    "df_femme = pd.DataFrame(columns=['IDHOTE', 'ANNEEHOTE', 'NBEPREUVEFEMME', 'NBFEMME'])\n",
    "df_femme[['ANNEEHOTE', 'NBEPREUVEFEMME']] = df_resultats[['ANNEEHOTE', 'NBWOMEN']]\n",
    "\n",
    "# pour chaque Jeux Olympique d'été :\n",
    "for i in range (len(hoteSummer)) :\n",
    "    # récupere l'année et l'idHote \n",
    "    idHote = hoteSummer.loc[i, 'IDHOTE']\n",
    "    anneeHote = hoteSummer.loc[i, 'ANNEEHOTE']\n",
    "    # requete pour récuperer le nombre de femme participant aux épreuves individuelle\n",
    "    femmeIndividuelle = requete_vers_dataframe(conn, f\"\"\"SELECT DISTINCT A.idAthlete FROM {SCHEMA}.ATHLETE A\n",
    "        INNER JOIN {SCHEMA}.PARTICIPATION_INDIVIDUELLE PI ON PI.idAthlete = A.idAthlete\n",
    "        INNER JOIN {SCHEMA}.EVENEMENT E ON E.idEvenement = PI.idEvent\n",
    "        WHERE E.idHote = {idHote}  AND Genre = 'Female'\"\"\")\n",
    "    # requete pour récuperer le nombre de femme participant aux épreuves individuelle\n",
    "    femmeCollective = requete_vers_dataframe(conn, f\"\"\"SELECT A.idAthlete FROM {SCHEMA}.ATHLETE A\n",
    "        INNER JOIN {SCHEMA}.COMPOSITION_EQUIPE CE ON CE.idAthlete = A.idAthlete\n",
    "        INNER JOIN {SCHEMA}.PARTICIPATION_EQUIPE PE ON PE.idEquipe = CE.idEquipe\n",
    "        INNER JOIN {SCHEMA}.EVENEMENT E ON E.idEvenement = PE.idEvenement\n",
    "        WHERE E.idHote = {idHote} AND Genre = 'Female'\"\"\")\n",
    "    # combiner les deux résultats\n",
    "    nombreFemme = pd.concat([femmeIndividuelle,femmeCollective]).reset_index(drop=True)\n",
    "    # suppresion des doublons\n",
    "    nombreFemme = nombreFemme.drop_duplicates(subset='IDATHLETE')\n",
    "    nbFemmeCount = nombreFemme.shape[0]\n",
    "    df_femme.loc[df_femme['ANNEEHOTE'] == anneeHote, 'NBFEMME'] = nbFemmeCount\n",
    "    df_femme.loc[df_femme['ANNEEHOTE'] == anneeHote, 'IDHOTE'] = idHote"
   ]
  },
  {
   "cell_type": "code",
   "execution_count": null,
   "id": "36aee70e-cfca-436c-8ec6-c71e0f1b5b59",
   "metadata": {
    "tags": []
   },
   "outputs": [],
   "source": [
    "# taille de la figure\n",
    "plt.figure(figsize=(15, 6))\n",
    "# initalisation d'un nuage de point avec x: NBEPREUVEFEMME et y : NBFEMME\n",
    "plt.scatter(df_femme['NBEPREUVEFEMME'], df_femme['NBFEMME'], color='blue', alpha=0.6)\n",
    "# Ajouter des labels et un titre\n",
    "display(HTML(f\"<b><font size='+2'>Évolution du nombre d'épreuves féminines par rapport au nombre de femmes présentes</font></b>\"))\n",
    "print(\" \")\n",
    "plt.xlabel(\"Nombre d'épreuves féminines\")\n",
    "plt.ylabel(\"Nombre de femmes présentes\")\n",
    "# affichage des années des JO au déssus des points\n",
    "for i in range(len(df_femme)):\n",
    "    plt.annotate(df_femme['ANNEEHOTE'][i], (df_femme['NBEPREUVEFEMME'][i], df_femme['NBFEMME'][i]), textcoords=\"offset points\", xytext=(0,5), ha='center')\n",
    "\n",
    "\n",
    "# Afficher le nuage de points\n",
    "plt.show()"
   ]
  },
  {
   "cell_type": "markdown",
   "id": "14285a22-838e-4261-bc6d-95b7f9f96bcd",
   "metadata": {},
   "source": [
    "Interpréter et/ou expliquer ce qui est présenté : On vois que depuis l'édition de 1980, la corrélation nombre de femme présente, nombre d'événement Femme augmentent exponentiellement, ce qui montre qu'il y a de plus en plus de considération pour les femmes lors des Jeux Olympique. Ce graphique montre également que lors des prémières éditions, il y avait très peu d'épreuve pour les femmes, et donc très peu de femme participantes."
   ]
  },
  {
   "cell_type": "markdown",
   "id": "851d8c8c-7954-4346-8bd2-90a926952e27",
   "metadata": {},
   "source": [
    "# Performance de l'équipe de votre choix"
   ]
  },
  {
   "cell_type": "markdown",
   "id": "4437237e-0446-4913-9c1e-2fc8a54f8568",
   "metadata": {},
   "source": [
    "## Équipe choisie : États-Unis - USA"
   ]
  },
  {
   "cell_type": "markdown",
   "id": "2d3c2de9-5646-48ae-b0bb-d945c716f60d",
   "metadata": {
    "tags": []
   },
   "source": [
    "Nous avons choisi la délégation américaine pour plusieurs raisons :\n",
    "    ● la quantité de données :\n",
    "        ○ participation régulière et étendue aux Jeux Olympiques.\n",
    "        ○ grand nombre d'athlètes envoyés à chaque édition.\n",
    "    ● performance et variété des sports :\n",
    "         ○ performance élevée, souvent en tête du tableau des médailles.\n",
    "         ○ participation à une grande variété de disciplines sportives."
   ]
  },
  {
   "cell_type": "markdown",
   "id": "dfa2516b-ea9b-45b8-b483-3dd64b54e295",
   "metadata": {},
   "source": [
    "### Pour chaque édition des Jeux Olympiques d'été, le nombre d'athlètes américain(e)s participants"
   ]
  },
  {
   "cell_type": "code",
   "execution_count": null,
   "id": "91b7dd4e-3e65-4a0a-a7d2-8375629a2108",
   "metadata": {
    "tags": []
   },
   "outputs": [],
   "source": [
    "# Calculer pour chaque édition des Jeux Olympiques d’été, le nombre d’athlètes américain(e)s participants \n",
    "annee_saison_nbAthletes  = requete_vers_dataframe(conn, f\"\"\"SELECT H1.anneeHote, H1.Saison,\n",
    "(SELECT COUNT(DISTINCT PI.idAthlete)\n",
    " FROM {SCHEMA}.Participation_Individuelle PI\n",
    " WHERE PI.Resultat NOT LIKE ('%DNS%') AND PI.Noc = 'USA' AND  PI.idEvent IN (SELECT EV.idEvenement\n",
    "                                                                             FROM {SCHEMA}.Evenement EV\n",
    "                                                                             WHERE EV.statutEvenement = 'Olympic' AND EV.idHote = H1.idHote))\n",
    "                                             \n",
    "                                             +\n",
    "                                             \n",
    "(SELECT COUNT(DISTINCT CE.idAthlete)\n",
    " FROM {SCHEMA}.Participation_Equipe PE\n",
    " INNER JOIN {SCHEMA}.Equipe E ON PE.idEquipe = E.idEquipe\n",
    " INNER JOIN {SCHEMA}.Composition_Equipe CE ON E.idEquipe = CE.idEquipe\n",
    " WHERE PE.Resultat NOT LIKE('%DNS%') AND E.Noc = 'USA' AND PE.idEvenement IN (SELECT EV.idEvenement\n",
    "                                                                              FROM {SCHEMA}.Evenement EV\n",
    "                                                                              WHERE EV.statutEvenement = 'Olympic' AND EV.idHote = H1.idHote)\n",
    " AND CE.idAthlete NOT IN (SELECT PI.idAthlete\n",
    "                          FROM {SCHEMA}.Participation_Individuelle PI\n",
    "                          WHERE PI.Resultat NOT LIKE ('%DNS%') AND PI.Noc = 'USA' AND  PI.idEvent IN (SELECT EV.idEvenement\n",
    "                                                                                                      FROM {SCHEMA}.Evenement EV\n",
    "                                                                                                      WHERE EV.statutEvenement = 'Olympic' AND EV.idHote = H1.idHote))) AS \"Nb athlètes américains\"\n",
    "FROM {SCHEMA}.Hote H1\n",
    "WHERE H1.AnneeHote < 2024 AND H1.Saison = 'Summer'\n",
    "GROUP BY H1.idHote, H1.AnneeHote, H1.Saison\n",
    "ORDER BY H1.anneeHote\"\"\")\n",
    "resultats_annee_saison_nbAthletes = []\n",
    "\n",
    "for i in range (len(annee_saison_nbAthletes)) :\n",
    "    anneeJO = annee_saison_nbAthletes.loc[i, 'ANNEEHOTE']\n",
    "    saisonJO = annee_saison_nbAthletes.loc[i, 'SAISON']\n",
    "    nb_athletes = annee_saison_nbAthletes.loc[i, 'Nb athlètes américains']\n",
    "    # L'année 1956, les jeux olympiques se sont déroulés à deux endroits différents: Stockholm et Melbourne.\n",
    "    # Il faut rajouter 8 pour comptabiliser les athlètes américain(e)s participants aux JO d'équitation de Stockholm.\n",
    "    if annee_saison_nbAthletes.loc[i, 'ANNEEHOTE'] == 1956 :\n",
    "        nb_athletes += 8\n",
    "    \n",
    "    # Pendant les années 1916, 1940, 1944 et 1980, les Jeux Olympiques n'ont pas eu lieu en raison de conflits mondiaux ou de boycotts,...\n",
    "    # notamment lors des Jeux de la XXIIe olympiade de l'ère moderne à Moscou, URSS, du 19 juillet au 3 août 1980.\n",
    "    # Les États-Unis et une cinquantaine d'autres nations ont boycotté ces Jeux pour protester contre l'invasion de l'Afghanistan par l'Union soviétique en 1979.\n",
    "    if annee_saison_nbAthletes.loc[i, 'ANNEEHOTE'] not in [1916, 1940, 1944, 1980] :\n",
    "        resultats_annee_saison_nbAthletes.append({'anneeJO': anneeJO, 'saisonJO': saisonJO, 'nb_athletes': nb_athletes})\n",
    "\n",
    "# Créer un DataFrame à partir des résultats \n",
    "df_resultats_resultats_annee_saison_nbAthletes = pd.DataFrame(resultats_annee_saison_nbAthletes)\n",
    "\n",
    "# Tracer les données avec matplotlib\n",
    "plt.figure(figsize=(10, 7))  # Définir la taille de la figure\n",
    "\n",
    "# Tracer le nombres d'athlètes\n",
    "plt.plot(df_resultats_resultats_annee_saison_nbAthletes.anneeJO, df_resultats_resultats_annee_saison_nbAthletes['nb_athletes'], marker='o', linestyle='-', label='USA', color='black')\n",
    "\n",
    "# Ajouter des légendes, titre, étiquettes d'axe\n",
    "plt.xlabel('Année')\n",
    "plt.ylabel('Nombre d\\'athlètes')\n",
    "plt.title('Évolution du nombre d\\'athlètes américain(e)s aux Jeux Olympiques d\\'été par année')\n",
    "plt.legend()"
   ]
  },
  {
   "cell_type": "markdown",
   "id": "deac7d78-0cd5-4ef6-b294-098d4715a51b",
   "metadata": {},
   "source": [
    "#### Analyse de la requête"
   ]
  },
  {
   "cell_type": "markdown",
   "id": "d64939c4-169c-4916-994a-bdb54ebe9394",
   "metadata": {},
   "source": [
    "Nous comptons le nombre d'athlètes participant individuellement à un événement organisé par l'hôte, en utilisant une clause \"GROUP BY\". À cela, nous ajoutons le nombre d'athlètes qui participent uniquement en équipe et non individuellement à un événement organisé par cet hôte. Ainsi, nous comptons les athlètes participant individuellement, ceux participant à la fois individuellement et en équipe, ainsi que ceux participant uniquement en équipe.\n",
    "\n",
    "Nous excluons les athlètes qui ne se sont pas présentés (Participation_Individuelle.Resultat LIKE '%DNS%', DNS signifiant \"Did Not Start\"). Pour les participations individuelles, il est possible de déterminer les athlètes concernés. Cependant, pour les équipes, nous n'avons pas d'information sur la présence réelle de chaque membre de l'équipe (le résultat de l'équipe dépendant de l'ensemble de ses membres; quand \"DNS\" figure dans le résultat de l'équipe, cela signifie que toute l'équipe n'a pas participé). Nous comptons donc les athlètes comme présents lors d'une participation par équipe lorsqu'au moins un membre de l'équipe s'est présenté.\n",
    "\n",
    "Par ailleurs, il existe parfois des incohérences sur Olympedia, ce qui peut entraîner des différences entre nos résultats et ceux disponibles sur cette plateforme. Néanmoins, nos résultats sont très proches, avec un pourcentage moyen de concordance d'environ 98%."
   ]
  },
  {
   "cell_type": "markdown",
   "id": "2772e3e9-0fdd-4562-b6a3-48019b41a201",
   "metadata": {},
   "source": [
    "#### Analyse descriptive de l'évolution du nombre d'athlètes"
   ]
  },
  {
   "cell_type": "markdown",
   "id": "8d68154a-0f25-4402-b3f8-7ad926877863",
   "metadata": {},
   "source": [
    "Depuis les premiers Jeux Olympiques modernes en 1896, le nombre d'athlètes américains participant aux Jeux Olympiques d'été a connu une évolution significative.\n",
    "\n",
    "1896 - Les débuts\n",
    "Aux premiers Jeux Olympiques modernes à Athènes en 1896, l'équipe américaine était composée de seulement 13 athlètes. Malgré leur petit nombre, ces athlètes ont remporté 20 des 43 médailles décernées, démontrant dès le début la puissance sportive des États-Unis.\n",
    "\n",
    "1900 - 1920 : Croissance initiale\n",
    "Les Jeux de 1900 à Paris ont vu la délégation américaine augmenter à 75 athlètes. En 1904, les Jeux se sont tenus à St. Louis, aux États-Unis, et la participation américaine a explosé, avec 525 athlètes, ce qui reste une exception dans l'histoire en raison de la faible participation internationale. Après cela, les chiffres se sont stabilisés à environ 150 athlètes par édition.\n",
    "\n",
    "1924 - 1936 : Expansion continue\n",
    "Dans les années 1920 et 1930, la participation américaine a continué de croître. Aux Jeux de Paris en 1924, l'équipe américaine comptait 299 athlètes. Cette augmentation est attribuable à l'essor du sport aux États-Unis et à une meilleure organisation des équipes. En 1932, à Los Angeles, la participation a légèrement baissé à 332 athlètes en raison de la Grande Dépression, mais a rebondi à 359 athlètes à Berlin en 1936.\n",
    "\n",
    "1948 - 1964 : Après la guerre\n",
    "Après la Seconde Guerre mondiale, les Jeux ont repris en 1948 à Londres avec une délégation américaine de 300 athlètes. Dans les années 1950 et 1960, les chiffres ont continué de croître, atteignant 346 athlètes à Tokyo en 1964, grâce à l'expansion du programme olympique et à l'augmentation du nombre de disciplines sportives.\n",
    "\n",
    "1968 - 1984 : Période de fluctuation\n",
    "Les Jeux de 1968 à Mexico ont vu 357 athlètes américains participer. En 1972 à Munich et en 1976 à Montréal, les États-Unis ont envoyé respectivement 400 et 396 athlètes. Cependant, en 1980, les États-Unis ont boycotté les Jeux de Moscou en raison de l'invasion soviétique de l'Afghanistan, et aucun athlète américain n'a participé cette année-là. En 1984, à Los Angeles, les États-Unis ont accueilli les Jeux et ont aligné 522 athlètes, un des plus grands contingents de leur histoire.\n",
    "\n",
    "1988 - Maintenant : Équipes massives et diverses\n",
    "Depuis les années 1980, les États-Unis ont régulièrement envoyé des délégations importantes. En 1988 à Séoul, ils étaient 527 athlètes, et ce nombre a continué de croître, atteignant un sommet de 647 athlètes à Rio de Janeiro en 2016. Les Jeux de 2020 à Tokyo (tenus en 2021 en raison de la pandémie de COVID-19) ont vu 613 athlètes américains participer."
   ]
  },
  {
   "cell_type": "markdown",
   "id": "37bfe6b7-ea9e-4556-9fab-754a447a52d3",
   "metadata": {},
   "source": [
    "#### Analyse statistique de l'évolution du nombre d'athlètes"
   ]
  },
  {
   "cell_type": "markdown",
   "id": "25d73672-9933-40e2-8c2e-03e24aefb9ca",
   "metadata": {},
   "source": [
    "##### Moyenne"
   ]
  },
  {
   "cell_type": "code",
   "execution_count": null,
   "id": "6adf6b73-9a8a-4810-bd87-3204c99ecbc6",
   "metadata": {
    "tags": []
   },
   "outputs": [],
   "source": [
    "nb_participations = len(resultats_annee_saison_nbAthletes)\n",
    "nb_total_athletes = 0\n",
    "\n",
    "for edition in resultats_annee_saison_nbAthletes:\n",
    "    nb_total_athletes += edition['nb_athletes']\n",
    "    \n",
    "nb_moyen_athletes = nb_total_athletes / nb_participations\n",
    "\n",
    "# Création d'un DataFrame\n",
    "data = {'Statistique': ['Nombre de participations', 'Nombre total d\\'athlètes', 'Nombre moyen d\\'athlètes'],\n",
    "        'Valeur': [nb_participations, nb_total_athletes, f\"{nb_moyen_athletes:.1f}\"]}\n",
    "df = pd.DataFrame(data)\n",
    "\n",
    "# Affichage du DataFrame\n",
    "df"
   ]
  },
  {
   "cell_type": "markdown",
   "id": "8ca6a340-583c-403d-a44b-726dd54dfbac",
   "metadata": {},
   "source": [
    "##### Écart-Type"
   ]
  },
  {
   "cell_type": "code",
   "execution_count": null,
   "id": "7a4139ee-bc8b-4730-929b-9f97d5ff3e0e",
   "metadata": {
    "tags": []
   },
   "outputs": [],
   "source": [
    "# Première étape : Calcul de la variance\n",
    "somme_carre_ecarts = sum((edition['nb_athletes'] - nb_moyen_athletes) ** 2 for edition in resultats_annee_saison_nbAthletes)\n",
    "variance = somme_carre_ecarts / nb_participations\n",
    "\n",
    "# Deuxième étape : Calcul de l'écart-type\n",
    "ecart_type = math.sqrt(variance)\n",
    "\n",
    "# Création d'un DataFrame\n",
    "data = {'Statistique': ['Variance du nombre d\\'athlètes', 'Écart-type du nombre d\\'athlètes'],\n",
    "        'Valeur': [ f\"{variance:.1f}\",  f\"{ecart_type:.1f}\"]}\n",
    "df = pd.DataFrame(data)\n",
    "\n",
    "# Affichage du DataFrame\n",
    "df"
   ]
  },
  {
   "cell_type": "markdown",
   "id": "30b5be5e-15ad-45c4-8ef4-793ac19feef7",
   "metadata": {},
   "source": [
    "##### Minimum"
   ]
  },
  {
   "cell_type": "code",
   "execution_count": null,
   "id": "57b37eb6-f09c-4416-8761-abbde10e745e",
   "metadata": {
    "tags": []
   },
   "outputs": [],
   "source": [
    "minimum = resultats_annee_saison_nbAthletes[0]['nb_athletes']\n",
    "for nbre_athletes in resultats_annee_saison_nbAthletes:\n",
    "    if minimum > nbre_athletes['nb_athletes']:\n",
    "        minimum = nbre_athletes['nb_athletes']\n",
    "\n",
    "# Création d'un DataFrame\n",
    "data = {'Statistique': ['Nombre d\\'athlètes minimum'],\n",
    "        'Valeur': [minimum]}\n",
    "df = pd.DataFrame(data)\n",
    "\n",
    "# Affichage du DataFrame\n",
    "df"
   ]
  },
  {
   "cell_type": "markdown",
   "id": "5a09e514-b0bc-4e2f-8a16-39a667f35d63",
   "metadata": {},
   "source": [
    "##### Q1 : premier quartile"
   ]
  },
  {
   "cell_type": "code",
   "execution_count": null,
   "id": "f4b98a75-932e-44ce-9867-d590d357d853",
   "metadata": {
    "tags": []
   },
   "outputs": [],
   "source": [
    "# Extraction des nombres d'athlètes\n",
    "listes_nb_athletes = [edition['nb_athletes'] for edition in resultats_annee_saison_nbAthletes]\n",
    "\n",
    "# Tri des données dans l'ordre croissant\n",
    "listes_nb_athletes.sort()\n",
    "\n",
    "# Calcul du quartile\n",
    "def calcul_quartile(data, quartile):\n",
    "    n = len(data)\n",
    "    pos = (n + 1) * quartile\n",
    "    if pos.is_integer():\n",
    "        return data[int(pos) - 1]\n",
    "    else:\n",
    "        lower = int(pos) - 1\n",
    "        upper = lower + 1\n",
    "        return data[lower] + (pos - int(pos)) * (data[upper] - data[lower])\n",
    "\n",
    "# Calcul du 1er quartile\n",
    "premier_quartile = calcul_quartile(listes_nb_athletes, 0.25)\n",
    "\n",
    "# Création d'un DataFrame\n",
    "data = {'Statistique': ['1er quartile'],\n",
    "        'Valeur': [premier_quartile]}\n",
    "df = pd.DataFrame(data)\n",
    "\n",
    "# Affichage du DataFrame\n",
    "df"
   ]
  },
  {
   "cell_type": "markdown",
   "id": "146edca0-b889-4a38-b462-761203b405a7",
   "metadata": {},
   "source": [
    "##### Médiane"
   ]
  },
  {
   "cell_type": "code",
   "execution_count": null,
   "id": "0ca21cda-0ee7-48b8-b1b5-bf67ea37fb2c",
   "metadata": {
    "tags": []
   },
   "outputs": [],
   "source": [
    "# Calcul de la médiane\n",
    "def calcul_mediane(data):\n",
    "    n = len(data)\n",
    "    milieu = n // 2\n",
    "    if n % 2 == 0:\n",
    "        # Si le nombre d'éléments est pair, la médiane est la moyenne des deux valeurs centrales\n",
    "        mediane = (data[milieu - 1] + data[milieu]) / 2\n",
    "    else:\n",
    "        # Si le nombre d'éléments est impair, la médiane est la valeur centrale\n",
    "        mediane = data[milieu]\n",
    "    return mediane\n",
    "\n",
    "# Calcul de la médiane\n",
    "mediane = calcul_mediane(listes_nb_athletes)\n",
    "\n",
    "# Création d'un DataFrame\n",
    "data = {'Statistique': ['Médiane'],\n",
    "        'Valeur': [mediane]}\n",
    "df = pd.DataFrame(data)\n",
    "\n",
    "# Affichage du DataFrame\n",
    "df"
   ]
  },
  {
   "cell_type": "markdown",
   "id": "fd5615a5-62f9-4d7e-8bd2-e44b4d5884b5",
   "metadata": {},
   "source": [
    "##### Q3 : troisième quartile"
   ]
  },
  {
   "cell_type": "code",
   "execution_count": null,
   "id": "840f80c9-115d-46dc-9ddb-1f7ee252b9ee",
   "metadata": {
    "tags": []
   },
   "outputs": [],
   "source": [
    "# Calcul du 3ème quartile en reprenant la fonction calcul_quartile\n",
    "troisieme_quartile = calcul_quartile(listes_nb_athletes, 0.75)\n",
    "\n",
    "# Création d'un DataFrame\n",
    "data = {'Statistique': ['3ème quartile'],\n",
    "        'Valeur': [troisieme_quartile]}\n",
    "df = pd.DataFrame(data)\n",
    "\n",
    "# Affichage du DataFrame\n",
    "df"
   ]
  },
  {
   "cell_type": "markdown",
   "id": "38734b7b-7885-444d-abe2-996fc6925fd8",
   "metadata": {},
   "source": [
    "##### Maximum"
   ]
  },
  {
   "cell_type": "code",
   "execution_count": null,
   "id": "c99b7282-461e-4d10-b618-e444b0559d53",
   "metadata": {
    "tags": []
   },
   "outputs": [],
   "source": [
    "maximum = resultats_annee_saison_nbAthletes[0]['nb_athletes']\n",
    "for nbre_athletes in resultats_annee_saison_nbAthletes:\n",
    "    if maximum < nbre_athletes['nb_athletes']:\n",
    "        maximum = nbre_athletes['nb_athletes']\n",
    "\n",
    "# Création d'un DataFrame\n",
    "data = {'Statistique': ['Nombre d\\'athlètes maximum'],\n",
    "        'Valeur': [maximum]}\n",
    "df = pd.DataFrame(data)\n",
    "\n",
    "# Affichage du DataFrame\n",
    "df"
   ]
  },
  {
   "cell_type": "markdown",
   "id": "84bec1c0-1579-4369-9c6b-33b47b5ae982",
   "metadata": {},
   "source": [
    "#### Régression"
   ]
  },
  {
   "cell_type": "markdown",
   "id": "eb539a91-edde-42fa-b83f-a31dfce5483e",
   "metadata": {},
   "source": [
    "##### Point moyen"
   ]
  },
  {
   "cell_type": "code",
   "execution_count": null,
   "id": "c12dcdc0-588b-4d03-904c-5f42e9684438",
   "metadata": {
    "tags": []
   },
   "outputs": [],
   "source": [
    "point_moyen = sum(listes_nb_athletes) / len(listes_nb_athletes)\n",
    "\n",
    "# Création d'un DataFrame\n",
    "data = {'Statistique': ['Point moyen'],\n",
    "        'Valeur': [point_moyen]}\n",
    "df = pd.DataFrame(data)\n",
    "\n",
    "# Affichage du DataFrame\n",
    "df"
   ]
  },
  {
   "cell_type": "markdown",
   "id": "cc82c551-3866-460c-a0a7-03a49dac2275",
   "metadata": {},
   "source": [
    "##### Droite de régression des moindres carrés (régression linéaire)"
   ]
  },
  {
   "cell_type": "code",
   "execution_count": null,
   "id": "ed6a4587-45f9-4b0b-be11-63dea664a6be",
   "metadata": {
    "tags": []
   },
   "outputs": [],
   "source": [
    "# Extraction des données X (années) et Y (nombre d'athlètes)\n",
    "X = np.array([edition['anneeJO'] for edition in resultats_annee_saison_nbAthletes])\n",
    "Y = np.array([edition['nb_athletes'] for edition in resultats_annee_saison_nbAthletes])\n",
    "\n",
    "# Calcul des moyennes de X et Y\n",
    "moyenne_X = np.mean(X)\n",
    "moyenne_Y = np.mean(Y)\n",
    "\n",
    "# Calcul des écarts par rapport à la moyenne\n",
    "X_diff = X - moyenne_X\n",
    "Y_diff = Y - moyenne_Y\n",
    "\n",
    "# Calcul du coefficient de corrélation (r)\n",
    "r = np.sum(X_diff * Y_diff) / (np.sqrt(np.sum(X_diff**2)) * np.sqrt(np.sum(Y_diff**2)))\n",
    "\n",
    "# Calcul de la pente (b)\n",
    "b = r * (np.std(Y) / np.std(X))\n",
    "\n",
    "# Calcul de l'ordonnée à l'origine (a)\n",
    "a = moyenne_Y - b * moyenne_X\n",
    "\n",
    "# Équation de la droite de régression\n",
    "ligne_regression = a + b * X\n",
    "\n",
    "# Tracé de la droite de régression\n",
    "plt.figure(figsize=(10, 7))\n",
    "plt.scatter(X, Y, color='black', label='nb athlètes')\n",
    "plt.plot(X, ligne_regression, color='red', linewidth=2, label='Droite de régression')\n",
    "plt.title('Droite de régression des moindres carrés')\n",
    "plt.xlabel('Années')\n",
    "plt.ylabel('Nombre d\\'athlètes')\n",
    "plt.legend()\n",
    "plt.show()"
   ]
  },
  {
   "cell_type": "markdown",
   "id": "1a15b520-1626-447a-a599-7a130c657238",
   "metadata": {},
   "source": [
    "#### Prévision sur le nombre d'athlètes américain(e)s participant au Jeux Olympiques d'été de 2024"
   ]
  },
  {
   "cell_type": "code",
   "execution_count": null,
   "id": "c2a820ab-02a4-407d-a8be-ac78a8145737",
   "metadata": {
    "tags": []
   },
   "outputs": [],
   "source": [
    "#Nous utilisons l'équation de la droite de régression pour calculer le nombre d'athlètes américain(e)s participants au JO de 2024 en utilisant l'année 2024 comme valeur de X.\n",
    "# Année pour laquelle on veut faire la prévision\n",
    "annee_prevision = 2024\n",
    "\n",
    "# Calcul de la prévision pour 2024\n",
    "nb_athletes_2024 = a + b * annee_prevision\n",
    "\n",
    "# Création d'un DataFrame\n",
    "data = {'Statistique': ['Prévision du nombre d\\'athlètes pour 2024'],\n",
    "        'Valeur': f\"{nb_athletes_2024:.0f}\"}\n",
    "df = pd.DataFrame(data)\n",
    "\n",
    "# Affichage du DataFrame\n",
    "df"
   ]
  },
  {
   "cell_type": "code",
   "execution_count": null,
   "id": "fc52fb48-e45c-4d71-afee-83f89501ed1a",
   "metadata": {
    "tags": []
   },
   "outputs": [],
   "source": [
    "# Extraction des années et nombre d'athlètes\n",
    "annees = [edition['anneeJO'] for edition in resultats_annee_saison_nbAthletes]\n",
    "nb_athletes = [edition['nb_athletes'] for edition in resultats_annee_saison_nbAthletes]\n",
    "\n",
    "# Calcul des statistiques\n",
    "mediane = np.median(nb_athletes)\n",
    "q1 = np.percentile(nb_athletes, 25)\n",
    "q3 = np.percentile(nb_athletes, 75)\n",
    "minimum = np.min(nb_athletes)\n",
    "maximum = np.max(nb_athletes)\n",
    "\n",
    "# Tracé des droites et des points min/max\n",
    "plt.figure(figsize=(10, 7))\n",
    "\n",
    "# Tracer le nombres d'athlètes\n",
    "plt.plot(df_resultats_resultats_annee_saison_nbAthletes.anneeJO, df_resultats_resultats_annee_saison_nbAthletes['nb_athletes'], marker='o', linestyle='-', label='USA', color='black')\n",
    "\n",
    "# Tracé des lignes pour médiane, Q1 et Q3\n",
    "plt.axhline(y=mediane, color='green', linestyle='--', label='Médiane')\n",
    "plt.axhline(y=q1, color='blue', linestyle='--', label='Premier quartile (Q1)')\n",
    "plt.axhline(y=q3, color='red', linestyle='--', label='Troisième quartile (Q3)')\n",
    "\n",
    "# Configuration du graphique\n",
    "plt.title('Évolution du nombre d\\'athlètes américain(e)s aux Jeux Olympiques d\\'été par année')\n",
    "plt.xlabel('Année')\n",
    "plt.ylabel('Nombre d\\'athlètes')\n",
    "plt.legend()\n",
    "plt.show()"
   ]
  },
  {
   "cell_type": "markdown",
   "id": "8cd6eac1-865a-4a62-bf66-6c9311011c81",
   "metadata": {},
   "source": [
    "### Pour chaque édition des Jeux Olympiques d'été, la répartition d'athlètes américains par genre"
   ]
  },
  {
   "cell_type": "markdown",
   "id": "fc052736-0dcc-4704-90f3-821b22b603f8",
   "metadata": {},
   "source": [
    "#### Pour chaque édition des Jeux Olympiques d’été, le nombre d’athlètes féminines américaines participants"
   ]
  },
  {
   "cell_type": "code",
   "execution_count": null,
   "id": "0985d0ca-4a74-4766-b5d8-f19c37ef626d",
   "metadata": {
    "tags": []
   },
   "outputs": [],
   "source": [
    "# Calculer pour chaque édition des Jeux Olympiques d’été, le nombre d'athlètes américaines\n",
    "annee_saison_nbAthletesFeminins  = requete_vers_dataframe(conn, f\"\"\"SELECT H1.anneeHote, H1.Saison,\n",
    "(SELECT COUNT(DISTINCT PI.idAthlete)\n",
    " FROM {SCHEMA}.Participation_Individuelle PI\n",
    " INNER JOIN {SCHEMA}.Athlete A ON PI.idAthlete = A.idAthlete\n",
    " WHERE A.Genre = 'Female' AND PI.Resultat NOT LIKE ('%DNS%') AND PI.Noc = 'USA' AND  PI.idEvent IN (SELECT EV.idEvenement\n",
    "                                                                                                    FROM {SCHEMA}.Evenement EV\n",
    "                                                                                                    WHERE EV.statutEvenement = 'Olympic' AND EV.idHote = H1.idHote))\n",
    "                                             \n",
    "                                             +\n",
    "                                             \n",
    "(SELECT COUNT(DISTINCT CE.idAthlete)\n",
    " FROM {SCHEMA}.Participation_Equipe PE\n",
    " INNER JOIN {SCHEMA}.Equipe E ON PE.idEquipe = E.idEquipe\n",
    " INNER JOIN {SCHEMA}.Composition_Equipe CE ON E.idEquipe = CE.idEquipe\n",
    " INNER JOIN {SCHEMA}.Athlete A ON CE.idAthlete = A.idAthlete\n",
    " WHERE A.Genre = 'Female' AND PE.Resultat NOT LIKE('%DNS%') AND E.Noc = 'USA' AND PE.idEvenement IN (SELECT EV.idEvenement\n",
    "                                                                                                     FROM {SCHEMA}.Evenement EV\n",
    "                                                                                                     WHERE EV.statutEvenement = 'Olympic' AND EV.idHote = H1.idHote)\n",
    " AND CE.idAthlete NOT IN (SELECT PI.idAthlete\n",
    "                          FROM {SCHEMA}.Participation_Individuelle PI\n",
    "                          INNER JOIN {SCHEMA}.Athlete A ON PI.idAthlete = A.idAthlete\n",
    "                          WHERE A.Genre = 'Female' AND PI.Resultat NOT LIKE ('%DNS%') AND PI.Noc = 'USA' AND  PI.idEvent IN (SELECT EV.idEvenement\n",
    "                                                                                                                             FROM {SCHEMA}.Evenement EV\n",
    "                                                                                                                             WHERE EV.statutEvenement = 'Olympic' AND EV.idHote = H1.idHote))) AS \"Nombre d'athlètes américaines\"\n",
    "FROM {SCHEMA}.Hote H1\n",
    "WHERE H1.AnneeHote < 2024 AND H1.Saison = 'Summer'\n",
    "GROUP BY H1.idHote, H1.AnneeHote, H1.Saison\n",
    "ORDER BY H1.anneeHote\"\"\")\n",
    "resultats_annee_saison_nbAthletesFeminins = []\n",
    "\n",
    "for i in range (len(annee_saison_nbAthletesFeminins)) :\n",
    "    anneeJO = annee_saison_nbAthletesFeminins.loc[i, 'ANNEEHOTE']\n",
    "    saisonJO = annee_saison_nbAthletesFeminins.loc[i, 'SAISON']\n",
    "    nb_athletes_feminins = annee_saison_nbAthletesFeminins.loc[i, 'Nombre d\\'athlètes américaines']\n",
    "    # En l'an 1956 les jeux olympiques se sont déroulés à deux endroits différents: Stockholm et Melbourne.\n",
    "    #Il faut rajouter 1 pour comptabiliser l'athlète américaine participant au JO d'équitation de Stockholm.\n",
    "    if annee_saison_nbAthletesFeminins.loc[i, 'ANNEEHOTE'] == 1956 :\n",
    "        nb_athletes_feminins += 1\n",
    "    \n",
    "    # Pendant les années 1916, 1940, 1944 et 1980, les Jeux Olympiques n'ont pas eu lieu en raison de conflits mondiaux ou de boycotts,...\n",
    "    # notamment lors des Jeux de la XXIIe olympiade de l'ère moderne à Moscou, URSS, du 19 juillet au 3 août 1980.\n",
    "    # Les États-Unis et une cinquantaine d'autres nations ont boycotté ces Jeux pour protester contre l'invasion de l'Afghanistan par l'Union soviétique en 1979.\n",
    "    if annee_saison_nbAthletes.loc[i, 'ANNEEHOTE'] not in [1916, 1940, 1944, 1980] :\n",
    "        resultats_annee_saison_nbAthletesFeminins.append({'anneeJO': anneeJO, 'saisonJO': saisonJO, 'Nombre d\\'athlètes américaines': nb_athletes_feminins})\n",
    "\n",
    "# Créer un DataFrame à partir des résultats \n",
    "df_resultats_resultats_annee_saison_nbAthletesFeminins = pd.DataFrame(resultats_annee_saison_nbAthletesFeminins)\n",
    "\n",
    "# Tracer les données avec matplotlib\n",
    "plt.figure(figsize=(10, 7))  # Définir la taille de la figure\n",
    "\n",
    "# Tracer le nombres d'athlètes\n",
    "plt.plot(df_resultats_resultats_annee_saison_nbAthletesFeminins.anneeJO, df_resultats_resultats_annee_saison_nbAthletesFeminins['Nombre d\\'athlètes américaines'], marker='o', linestyle='-', label='Femme', color='magenta')\n",
    "\n",
    "# Ajouter des légendes, titre, étiquettes d'axe\n",
    "plt.xlabel('Année')\n",
    "plt.ylabel('Nombre d\\'athlètes')\n",
    "plt.title('Évolution du nombre d\\'athlètes américaines aux Jeux Olympiques d\\'été par année')\n",
    "plt.legend()"
   ]
  },
  {
   "cell_type": "markdown",
   "id": "a6126f10-af4a-46c6-931b-d80c9d840660",
   "metadata": {},
   "source": [
    "##### Droite de régression linéaire nb athlètes féminines"
   ]
  },
  {
   "cell_type": "code",
   "execution_count": null,
   "id": "c774e34d-3a37-4b2d-b05c-1467f82fde5b",
   "metadata": {
    "tags": []
   },
   "outputs": [],
   "source": [
    "# Extraction des données X (années) et Y (nombre d'athlètes)\n",
    "X = np.array([edition['anneeJO'] for edition in resultats_annee_saison_nbAthletesFeminins])\n",
    "Y = np.array([edition['Nombre d\\'athlètes américaines'] for edition in resultats_annee_saison_nbAthletesFeminins])\n",
    "\n",
    "# Calcul des moyennes de X et Y\n",
    "moyenne_X = np.mean(X)\n",
    "moyenne_Y = np.mean(Y)\n",
    "\n",
    "# Calcul des écarts par rapport à la moyenne\n",
    "X_diff = X - moyenne_X\n",
    "Y_diff = Y - moyenne_Y\n",
    "\n",
    "# Calcul du coefficient de corrélation (r)\n",
    "r = np.sum(X_diff * Y_diff) / (np.sqrt(np.sum(X_diff**2)) * np.sqrt(np.sum(Y_diff**2)))\n",
    "\n",
    "# Calcul de la pente (b)\n",
    "b = r * (np.std(Y) / np.std(X))\n",
    "\n",
    "# Calcul de l'ordonnée à l'origine (a)\n",
    "a = moyenne_Y - b * moyenne_X\n",
    "\n",
    "# Équation de la droite de régression\n",
    "ligne_regression = a + b * X\n",
    "\n",
    "# Tracé de la droite de régression\n",
    "plt.figure(figsize=(10, 7))\n",
    "plt.scatter(X, Y, color='magenta', label='nb athlètes féminines')\n",
    "plt.plot(X, ligne_regression, color='black', linewidth=2, label='Droite de régression')\n",
    "plt.title('Droite de régression des moindres carrés')\n",
    "plt.xlabel('Années')\n",
    "plt.ylabel('Nombre d\\'athlètes féminines')\n",
    "plt.legend()\n",
    "plt.show()"
   ]
  },
  {
   "cell_type": "markdown",
   "id": "a360d326-6f02-4ea1-9a3d-5a6602bebf29",
   "metadata": {},
   "source": [
    "#### Prévision sur le nombre d'athlètes américaines participant au Jeux Olympiques d'été de 2024"
   ]
  },
  {
   "cell_type": "code",
   "execution_count": null,
   "id": "ba6ad275-64be-41bf-bf9c-ef8b6f79ee78",
   "metadata": {
    "tags": []
   },
   "outputs": [],
   "source": [
    "#Nous utilisons l'équation de la droite de régression pour calculer le nombre d'athlètes américain(e)s participants au JO de 2024 en utilisant l'année 2024 comme valeur de X.\n",
    "# Année pour laquelle on veut faire la prévision\n",
    "annee_prevision = 2024\n",
    "\n",
    "# Calcul de la prévision pour 2024\n",
    "nb_athletes_2024 = a + b * annee_prevision\n",
    "\n",
    "# Création d'un DataFrame\n",
    "data = {'Statistique': ['Prévision du nombre d\\'athlètes féminines en 2024'],\n",
    "        'Valeur': f\"{nb_athletes_2024:.0f}\"}\n",
    "df = pd.DataFrame(data)\n",
    "\n",
    "# Affichage du DataFrame\n",
    "df"
   ]
  },
  {
   "cell_type": "markdown",
   "id": "7f57ef8d-4c05-4b6c-b100-d2cbf390b435",
   "metadata": {},
   "source": [
    "#### Pour chaque édition des Jeux Olympiques d’été, le nombre d’athlètes masculins américains participants"
   ]
  },
  {
   "cell_type": "code",
   "execution_count": null,
   "id": "6bcc75d2-b76f-4579-b7d9-6285f443ed46",
   "metadata": {
    "tags": []
   },
   "outputs": [],
   "source": [
    "# Calculer pour chaque édition des Jeux Olympiques d’été, le nombre d'athlètes américains\n",
    "annee_saison_nbAthletesMasculins  = requete_vers_dataframe(conn, f\"\"\"SELECT H1.anneeHote, H1.Saison,\n",
    "(SELECT COUNT(DISTINCT PI.idAthlete)\n",
    " FROM {SCHEMA}.Participation_Individuelle PI\n",
    " INNER JOIN {SCHEMA}.Athlete A ON PI.idAthlete = A.idAthlete\n",
    " WHERE A.Genre = 'Male' AND PI.Resultat NOT LIKE ('%DNS%') AND PI.Noc = 'USA' AND  PI.idEvent IN (SELECT EV.idEvenement\n",
    "                                                                                                    FROM {SCHEMA}.Evenement EV\n",
    "                                                                                                    WHERE EV.statutEvenement = 'Olympic' AND EV.idHote = H1.idHote))\n",
    "                                             \n",
    "                                             +\n",
    "                                             \n",
    "(SELECT COUNT(DISTINCT CE.idAthlete)\n",
    " FROM {SCHEMA}.Participation_Equipe PE\n",
    " INNER JOIN {SCHEMA}.Equipe E ON PE.idEquipe = E.idEquipe\n",
    " INNER JOIN {SCHEMA}.Composition_Equipe CE ON E.idEquipe = CE.idEquipe\n",
    " INNER JOIN {SCHEMA}.Athlete A ON CE.idAthlete = A.idAthlete\n",
    " WHERE A.Genre = 'Male' AND PE.Resultat NOT LIKE('%DNS%') AND E.Noc = 'USA' AND PE.idEvenement IN (SELECT EV.idEvenement\n",
    "                                                                                                     FROM {SCHEMA}.Evenement EV\n",
    "                                                                                                     WHERE EV.statutEvenement = 'Olympic' AND EV.idHote = H1.idHote)\n",
    " AND CE.idAthlete NOT IN (SELECT PI.idAthlete\n",
    "                          FROM {SCHEMA}.Participation_Individuelle PI\n",
    "                          INNER JOIN {SCHEMA}.Athlete A ON PI.idAthlete = A.idAthlete\n",
    "                          WHERE A.Genre = 'Male' AND PI.Resultat NOT LIKE ('%DNS%') AND PI.Noc = 'USA' AND  PI.idEvent IN (SELECT EV.idEvenement\n",
    "                                                                                                                             FROM {SCHEMA}.Evenement EV\n",
    "                                                                                                                             WHERE EV.statutEvenement = 'Olympic' AND EV.idHote = H1.idHote))) AS \"Nombre d'athlètes américains\"\n",
    "FROM {SCHEMA}.Hote H1\n",
    "WHERE H1.AnneeHote < 2024 AND H1.Saison = 'Summer'\n",
    "GROUP BY H1.idHote, H1.AnneeHote, H1.Saison\n",
    "ORDER BY H1.anneeHote\"\"\")\n",
    "resultats_annee_saison_nbAthletesMasculins = []\n",
    "\n",
    "for i in range (len(annee_saison_nbAthletesMasculins)) :\n",
    "    anneeJO = annee_saison_nbAthletesMasculins.loc[i, 'ANNEEHOTE']\n",
    "    saisonJO = annee_saison_nbAthletesMasculins.loc[i, 'SAISON']\n",
    "    nb_athletes_masculins = annee_saison_nbAthletesMasculins.loc[i, 'Nombre d\\'athlètes américains']\n",
    "    # En l'an 1956 les jeux olympiques se sont déroulés à deux endroits différents: Stockholm et Melbourne.\n",
    "    #Il faut rajouter 7 pour comptabiliser les athlètes américains participants aux JO d'équitation de Stockholm.\n",
    "    if annee_saison_nbAthletesMasculins.loc[i, 'ANNEEHOTE'] == 1956 :\n",
    "        nb_athletes_masculins += 7\n",
    "    \n",
    "    # Pendant les années 1916, 1940, 1944 et 1980, les Jeux Olympiques n'ont pas eu lieu en raison de conflits mondiaux ou de boycotts,...\n",
    "    # notamment lors des Jeux de la XXIIe olympiade de l'ère moderne à Moscou, URSS, du 19 juillet au 3 août 1980.\n",
    "    # Les États-Unis et une cinquantaine d'autres nations ont boycotté ces Jeux pour protester contre l'invasion de l'Afghanistan par l'Union soviétique en 1979.\n",
    "    if annee_saison_nbAthletes.loc[i, 'ANNEEHOTE'] not in [1916, 1940, 1944, 1980] :\n",
    "        resultats_annee_saison_nbAthletesMasculins.append({'anneeJO': anneeJO, 'saisonJO': saisonJO, 'Nombre d\\'athlètes américains': nb_athletes_masculins})\n",
    "        \n",
    "# Créer un DataFrame à partir des résultats \n",
    "df_resultats_resultats_annee_saison_nbAthletesMasculins = pd.DataFrame(resultats_annee_saison_nbAthletesMasculins)\n",
    "\n",
    "# Tracer les données avec matplotlib\n",
    "plt.figure(figsize=(10, 7))  # Définir la taille de la figure\n",
    "\n",
    "# Tracer le nombres d'athlètes\n",
    "plt.plot(df_resultats_resultats_annee_saison_nbAthletesMasculins.anneeJO, df_resultats_resultats_annee_saison_nbAthletesMasculins['Nombre d\\'athlètes américains'], marker='o', linestyle='-', label='Homme', color='blue')\n",
    "\n",
    "# Ajouter des légendes, titre, étiquettes d'axe\n",
    "plt.xlabel('Année')\n",
    "plt.ylabel('Nombre d\\'athlètes')\n",
    "plt.title('Évolution du nombre d\\'athlètes américains aux Jeux Olympiques d\\'été par année')\n",
    "plt.legend()"
   ]
  },
  {
   "cell_type": "markdown",
   "id": "253270ed-e482-456e-bb4c-c1018bceed51",
   "metadata": {},
   "source": [
    "##### Droite de régression linéaire nb athlètes masculins"
   ]
  },
  {
   "cell_type": "code",
   "execution_count": null,
   "id": "2210a79b-a763-42d4-9e8c-85e573743deb",
   "metadata": {
    "tags": []
   },
   "outputs": [],
   "source": [
    "# Extraction des données X (années) et Y (nombre d'athlètes)\n",
    "X = np.array([edition['anneeJO'] for edition in resultats_annee_saison_nbAthletesMasculins])\n",
    "Y = np.array([edition['Nombre d\\'athlètes américains'] for edition in resultats_annee_saison_nbAthletesMasculins])\n",
    "\n",
    "# Calcul des moyennes de X et Y\n",
    "moyenne_X = np.mean(X)\n",
    "moyenne_Y = np.mean(Y)\n",
    "\n",
    "# Calcul des écarts par rapport à la moyenne\n",
    "X_diff = X - moyenne_X\n",
    "Y_diff = Y - moyenne_Y\n",
    "\n",
    "# Calcul du coefficient de corrélation (r)\n",
    "r = np.sum(X_diff * Y_diff) / (np.sqrt(np.sum(X_diff**2)) * np.sqrt(np.sum(Y_diff**2)))\n",
    "\n",
    "# Calcul de la pente (b)\n",
    "b = r * (np.std(Y) / np.std(X))\n",
    "\n",
    "# Calcul de l'ordonnée à l'origine (a)\n",
    "a = moyenne_Y - b * moyenne_X\n",
    "\n",
    "# Équation de la droite de régression\n",
    "ligne_regression = a + b * X\n",
    "\n",
    "# Tracé de la droite de régression\n",
    "plt.figure(figsize=(10, 7))\n",
    "plt.scatter(X, Y, color='blue', label='nb athlètes masculins')\n",
    "plt.plot(X, ligne_regression, color='black', linewidth=2, label='Droite de régression')\n",
    "plt.title('Droite de régression des moindres carrés')\n",
    "plt.xlabel('Années')\n",
    "plt.ylabel('Nombre d\\'athlètes masculins')\n",
    "plt.legend()\n",
    "plt.show()"
   ]
  },
  {
   "cell_type": "markdown",
   "id": "8cf16166-25df-4b2e-be44-2bf8f34f2e46",
   "metadata": {},
   "source": [
    "#### Prévision sur le nombre d'athlètes américains participant au Jeux Olympiques d'été de 2024"
   ]
  },
  {
   "cell_type": "code",
   "execution_count": null,
   "id": "69bbe24e-9526-4d39-a967-a8c38543c0d3",
   "metadata": {
    "tags": []
   },
   "outputs": [],
   "source": [
    "#Nous utilisons l'équation de la droite de régression pour calculer le nombre d'athlètes américains participants au JO de 2024 en utilisant l'année 2024 comme valeur de X.\n",
    "# Année pour laquelle on veut faire la prévision\n",
    "annee_prevision = 2024\n",
    "\n",
    "# Calcul de la prévision pour 2024\n",
    "nb_athletes_2024 = a + b * annee_prevision\n",
    "\n",
    "# Création d'un DataFrame\n",
    "data = {'Statistique': ['Prévision du nombre d\\'athlètes masculins en 2024'],\n",
    "        'Valeur': f\"{nb_athletes_2024:.0f}\"}\n",
    "df = pd.DataFrame(data)\n",
    "\n",
    "# Affichage du DataFrame\n",
    "df"
   ]
  },
  {
   "cell_type": "markdown",
   "id": "903f76ab-6f22-48e9-999b-baf6594f1da3",
   "metadata": {},
   "source": [
    "#### Pour chaque édition des Jeux Olympiques d’été, la répartition par genre d'athlètes américain(e)s"
   ]
  },
  {
   "cell_type": "code",
   "execution_count": null,
   "id": "41d952d3-1421-4850-b437-3e38f3b011a5",
   "metadata": {
    "tags": []
   },
   "outputs": [],
   "source": [
    "resultat_repartition_athletesFeminins_masculins = []\n",
    "for i in range (len(resultats_annee_saison_nbAthletesFeminins)):\n",
    "    resultat_repartition_athletesFeminins_masculins.append({'anneeJO': resultats_annee_saison_nbAthletesFeminins[i]['anneeJO'], 'pourcent': (resultats_annee_saison_nbAthletesFeminins[i]['Nombre d\\'athlètes américaines'] / resultats_annee_saison_nbAthletes[i]['nb_athletes'] * 100)})\n",
    "    \n",
    "# Créer un DataFrame à partir des résultats \n",
    "df_resultat_repartition_athletesFeminins_masculins = pd.DataFrame(resultat_repartition_athletesFeminins_masculins)\n",
    "\n",
    "# Tracer les données avec matplotlib\n",
    "plt.figure(figsize=(10, 7))  # Définir la taille de la figure\n",
    "\n",
    "# Tracer le pourcentage d'athlètes américains\n",
    "plt.plot(df_resultat_repartition_athletesFeminins_masculins.anneeJO, 100 - df_resultat_repartition_athletesFeminins_masculins.pourcent, marker='o', linestyle='-', label='Homme', color='blue')\n",
    "# Tracer le pourcentage d'athlètes américaines\n",
    "plt.plot(df_resultat_repartition_athletesFeminins_masculins.anneeJO, df_resultat_repartition_athletesFeminins_masculins.pourcent, marker='o', linestyle='-', label='Femme', color='magenta')\n",
    "\n",
    "# Ajouter des légendes, titre, étiquettes d'axe\n",
    "plt.xlabel('Année')\n",
    "plt.ylabel('Répartition en %')\n",
    "plt.title('Evolution de la répartition par genre d\\'athlètes américain(e)s en %')\n",
    "plt.legend()"
   ]
  },
  {
   "cell_type": "markdown",
   "id": "a0b5d3f9-2fbc-45ca-9d71-e21e97e58a24",
   "metadata": {},
   "source": [
    "##### Description de l'évolution de la place des athlètes féminines américaines aux Jeux Olympiques d'été"
   ]
  },
  {
   "cell_type": "markdown",
   "id": "9232d838-cea2-404d-868a-b663c3267c2b",
   "metadata": {},
   "source": [
    "Depuis les Jeux Olympiques d'été de 2012, nous pouvons constater que le pourcentage d'athlètes américaines a dépassé la barre des 50%, marquant un tournant significatif dans la représentation et l'inclusion des femmes dans le sport au niveau olympique. Cette évolution témoigne d'un progrès continu vers l'égalité des sexes et la reconnaissance accrue du talent et de la performance des athlètes féminines américaines."
   ]
  },
  {
   "cell_type": "markdown",
   "id": "f4875ee8-2854-437f-9e85-53563319ca31",
   "metadata": {},
   "source": [
    "### Pour chaque édition des Jeux Olympiques d’été, le nombre de médailles obtenues par la délégation américaine "
   ]
  },
  {
   "cell_type": "code",
   "execution_count": null,
   "id": "0ac00c4e-90d9-4966-af15-af048a81a187",
   "metadata": {
    "jp-MarkdownHeadingCollapsed": true,
    "tags": []
   },
   "outputs": [],
   "source": [
    "# Calculer pour chaque édition des Jeux Olympiques d’été, le nombre de médailles obtenues par la délégation américaine \n",
    "annee_saison_nbGold_nb_Silver_nbBronze  = requete_vers_dataframe(conn, f\"\"\"SELECT anneeHote, Saison, \n",
    "     (SELECT  COUNT(CASE WHEN medaille = 'Gold' THEN 1 END)\n",
    "      FROM (SELECT PI.medaille\n",
    "      FROM {SCHEMA}.Participation_Individuelle PI\n",
    "      WHERE Noc = 'USA' AND PI.idEvent IN (SELECT EV.idEvenement\n",
    "                                           FROM {SCHEMA}.Evenement EV\n",
    "                                           WHERE EV.idHote = H1.idHote)\n",
    "      UNION ALL\n",
    "      SELECT PE.medaille\n",
    "      FROM {SCHEMA}.Equipe E\n",
    "      INNER JOIN {SCHEMA}.Participation_Equipe PE ON PE.idEquipe = E.idEquipe\n",
    "      WHERE E.Noc = 'USA' AND PE.idEvenement IN (SELECT EV.idEvenement\n",
    "                                                 FROM {SCHEMA}.Evenement EV\n",
    "                                                 WHERE EV.idHote = H1.idHote)))  AS nbGold,\n",
    "                                                 \n",
    "     (SELECT  COUNT(CASE WHEN medaille = 'Silver' THEN 1 END) \n",
    "      FROM (SELECT PI.medaille\n",
    "      FROM {SCHEMA}.Participation_Individuelle PI\n",
    "      WHERE Noc = 'USA' AND PI.idEvent IN (SELECT EV.idEvenement\n",
    "                                           FROM {SCHEMA}.Evenement EV\n",
    "                                           WHERE EV.idHote = H1.idHote)\n",
    "      UNION ALL\n",
    "      SELECT PE.medaille\n",
    "      FROM {SCHEMA}.Equipe E\n",
    "      INNER JOIN {SCHEMA}.Participation_Equipe PE ON PE.idEquipe = E.idEquipe\n",
    "      WHERE E.Noc = 'USA' AND PE.idEvenement IN (SELECT EV.idEvenement\n",
    "                                                 FROM {SCHEMA}.Evenement EV\n",
    "                                                 WHERE EV.idHote = H1.idHote))) AS nbSilver,\n",
    "                                                 \n",
    "     (SELECT COUNT(CASE WHEN medaille = 'Bronze' THEN 1 END)\n",
    "      FROM (SELECT PI.medaille\n",
    "      FROM {SCHEMA}.Participation_Individuelle PI\n",
    "      WHERE Noc = 'USA' AND PI.idEvent IN (SELECT EV.idEvenement\n",
    "                                           FROM {SCHEMA}.Evenement EV\n",
    "                                           WHERE EV.idHote = H1.idHote)\n",
    "      UNION ALL\n",
    "      SELECT PE.medaille\n",
    "      FROM {SCHEMA}.Equipe E\n",
    "      INNER JOIN {SCHEMA}.Participation_Equipe PE ON PE.idEquipe = E.idEquipe\n",
    "      WHERE E.Noc = 'USA' AND PE.idEvenement IN (SELECT EV.idEvenement\n",
    "                                                 FROM {SCHEMA}.Evenement EV\n",
    "                                                 WHERE EV.idHote = H1.idHote)))  AS nbBronze\n",
    "    FROM {SCHEMA}.Hote H1\n",
    "    WHERE H1.anneeHote < 2024 AND H1.Saison = 'Summer'\n",
    "    GROUP BY H1.idHote, H1.AnneeHote, H1.Saison\n",
    "    ORDER BY H1.anneeHote\n",
    "\"\"\")\n",
    "resultats_annee_saison_nbGold_nb_Silver_nbBronze = []\n",
    "\n",
    "for i in range (len(annee_saison_nbGold_nb_Silver_nbBronze)) :\n",
    "    anneeJO = annee_saison_nbGold_nb_Silver_nbBronze.loc[i, 'ANNEEHOTE']\n",
    "    nbGold = annee_saison_nbGold_nb_Silver_nbBronze.loc[i, 'NBGOLD']\n",
    "    nbSilver = annee_saison_nbGold_nb_Silver_nbBronze.loc[i, 'NBSILVER']\n",
    "    nbBronze = annee_saison_nbGold_nb_Silver_nbBronze.loc[i, 'NBBRONZE']\n",
    "    \n",
    "    # Pendant les années 1916, 1940, 1944 et 1980, les Jeux Olympiques n'ont pas eu lieu en raison de conflits mondiaux ou de boycotts,...\n",
    "    # notamment lors des Jeux de la XXIIe olympiade de l'ère moderne à Moscou, URSS, du 19 juillet au 3 août 1980.\n",
    "    # Les États-Unis et une cinquantaine d'autres nations ont boycotté ces Jeux pour protester contre l'invasion de l'Afghanistan par l'Union soviétique en 1979.\n",
    "    if annee_saison_nbGold_nb_Silver_nbBronze.loc[i, 'ANNEEHOTE'] not in [1916, 1940, 1944, 1980] :\n",
    "        resultats_annee_saison_nbGold_nb_Silver_nbBronze.append({'anneeJO': anneeJO, 'nbGold': nbGold, 'nbSilver': nbSilver, 'nbBronze': nbBronze})\n",
    "\n",
    "# Créer un DataFrame à partir des résultats \n",
    "df_resultats_annee_saison_nbGold_nb_Silver_nbBronze = pd.DataFrame(resultats_annee_saison_nbGold_nb_Silver_nbBronze)\n",
    "\n",
    "# Tracer les données avec matplotlib\n",
    "plt.figure(figsize=(10, 7))  # Définir la taille de la figure\n",
    "\n",
    "# Tracer le nombres de médailles totales\n",
    "plt.plot(df_resultats_annee_saison_nbGold_nb_Silver_nbBronze.anneeJO, sum([df_resultats_annee_saison_nbGold_nb_Silver_nbBronze['nbGold'],df_resultats_annee_saison_nbGold_nb_Silver_nbBronze['nbSilver'], df_resultats_annee_saison_nbGold_nb_Silver_nbBronze['nbBronze']]), marker='o', linestyle='-', label='Total', color='black')\n",
    "# Tracer le nombres de médailles d'or\n",
    "plt.plot(df_resultats_annee_saison_nbGold_nb_Silver_nbBronze.anneeJO, df_resultats_annee_saison_nbGold_nb_Silver_nbBronze['nbGold'], marker='o', linestyle='-', label='Or', color='gold')\n",
    "# Tracer le nombres de médailles d'argent\n",
    "plt.plot(df_resultats_annee_saison_nbGold_nb_Silver_nbBronze.anneeJO, df_resultats_annee_saison_nbGold_nb_Silver_nbBronze['nbSilver'], marker='o', linestyle='-', label='Argent', color='silver')\n",
    "# Tracer le nombres de médailles de bronze\n",
    "plt.plot(df_resultats_annee_saison_nbGold_nb_Silver_nbBronze.anneeJO, df_resultats_annee_saison_nbGold_nb_Silver_nbBronze['nbBronze'], marker='o', linestyle='-', label='Bronze', color='#CD7F32')\n",
    "\n",
    "# Ajouter des légendes, titre, étiquettes d'axe\n",
    "plt.xlabel('Année')\n",
    "plt.ylabel('Nombre de médailles')\n",
    "plt.title('Évolution du nombre de médailles par année de la délégation américaine')\n",
    "plt.legend()"
   ]
  },
  {
   "cell_type": "markdown",
   "id": "8a297b5c-34e5-4a00-99c7-99e8e207b306",
   "metadata": {},
   "source": [
    "#### Statistiques sur l'volution du nombre de médailles par année de la délégation américaine"
   ]
  },
  {
   "cell_type": "markdown",
   "id": "93f5edcc-7743-4de5-ae11-7c54c29ec3c2",
   "metadata": {},
   "source": [
    "##### L'évolution du nombre de médailles d'or"
   ]
  },
  {
   "cell_type": "code",
   "execution_count": null,
   "id": "9a985ed9-444d-461f-93c5-038f7d464321",
   "metadata": {
    "tags": []
   },
   "outputs": [],
   "source": [
    "# Extraction des années et médailles d'or\n",
    "annees = [edition['anneeJO'] for edition in resultats_annee_saison_nbGold_nb_Silver_nbBronze]\n",
    "nbGold = [edition['nbGold'] for edition in resultats_annee_saison_nbGold_nb_Silver_nbBronze]\n",
    "\n",
    "# Calcul des statistiques\n",
    "mediane = np.median(nbGold)\n",
    "q1 = np.percentile(nbGold, 25)\n",
    "q3 = np.percentile(nbGold, 75)\n",
    "minimum = np.min(nbGold)\n",
    "maximum = np.max(nbGold)\n",
    "\n",
    "# Tracé des droites et des points min/max\n",
    "plt.figure(figsize=(10, 8))\n",
    "\n",
    "# Tracer le nombres de médailles d'or\n",
    "plt.plot(df_resultats_annee_saison_nbGold_nb_Silver_nbBronze.anneeJO, df_resultats_annee_saison_nbGold_nb_Silver_nbBronze['nbGold'], marker='o', linestyle='-', label='Or', color='gold')\n",
    "\n",
    "# Tracé des lignes pour médiane, Q1 et Q3\n",
    "plt.axhline(y=mediane, color='green', linestyle='--', label='Médiane')\n",
    "plt.axhline(y=q1, color='blue', linestyle='--', label='Premier quartile (Q1)')\n",
    "plt.axhline(y=q3, color='red', linestyle='--', label='Troisième quartile (Q3)')\n",
    "\n",
    "# Configuration du graphique\n",
    "plt.title('Évolution du nombre de médailles d\\'or par année de la délégation américaine')\n",
    "plt.xlabel('Année')\n",
    "plt.ylabel('Nombre d\\'athlètes')\n",
    "plt.legend()\n",
    "plt.show()"
   ]
  },
  {
   "cell_type": "markdown",
   "id": "dd64b74f-82fb-4d89-959d-ceea10d9ba6f",
   "metadata": {},
   "source": [
    "##### Droite de régression linéaire du nombre de médailles d'or"
   ]
  },
  {
   "cell_type": "code",
   "execution_count": null,
   "id": "4bbe4695-bdb4-4882-a681-74a924ef0b83",
   "metadata": {
    "tags": []
   },
   "outputs": [],
   "source": [
    "# Extraction des données X (années) et Y (nombre d'athlètes)\n",
    "X = np.array([edition['anneeJO'] for edition in resultats_annee_saison_nbGold_nb_Silver_nbBronze])\n",
    "Y = np.array([edition['nbGold'] for edition in resultats_annee_saison_nbGold_nb_Silver_nbBronze])\n",
    "\n",
    "# Calcul des moyennes de X et Y\n",
    "moyenne_X = np.mean(X)\n",
    "moyenne_Y = np.mean(Y)\n",
    "\n",
    "# Calcul des écarts par rapport à la moyenne\n",
    "X_diff = X - moyenne_X\n",
    "Y_diff = Y - moyenne_Y\n",
    "\n",
    "# Calcul du coefficient de corrélation (r)\n",
    "r = np.sum(X_diff * Y_diff) / (np.sqrt(np.sum(X_diff**2)) * np.sqrt(np.sum(Y_diff**2)))\n",
    "\n",
    "# Calcul de la pente (b)\n",
    "b = r * (np.std(Y) / np.std(X))\n",
    "\n",
    "# Calcul de l'ordonnée à l'origine (a)\n",
    "a = moyenne_Y - b * moyenne_X\n",
    "\n",
    "# Équation de la droite de régression\n",
    "ligne_regression = a + b * X\n",
    "\n",
    "# Tracé de la droite de régression\n",
    "plt.figure(figsize=(10, 7))\n",
    "plt.scatter(X, Y, color='gold', label='nb médailles d\\'or')\n",
    "plt.plot(X, ligne_regression, color='black', linewidth=2, label='Droite de régression')\n",
    "plt.title('Droite de régression des moindres carrés')\n",
    "plt.xlabel('Années')\n",
    "plt.ylabel('Nombre de médailles d\\'or')\n",
    "plt.legend()\n",
    "plt.show()"
   ]
  },
  {
   "cell_type": "markdown",
   "id": "7c133f5e-09ad-4c98-9c43-15539eb91449",
   "metadata": {},
   "source": [
    "#### Prévision sur le nombre de médailles d'or au JO 2024"
   ]
  },
  {
   "cell_type": "code",
   "execution_count": null,
   "id": "eef07fcd-5270-429a-9de5-13fc9fa5308f",
   "metadata": {
    "tags": []
   },
   "outputs": [],
   "source": [
    "#Nous utilisons l'équation de la droite de régression pour calculer le nombre d'athlètes américains participants au JO de 2024 en utilisant l'année 2024 comme valeur de X.\n",
    "# Année pour laquelle on veut faire la prévision\n",
    "annee_prevision = 2024\n",
    "\n",
    "# Calcul de la prévision pour 2024\n",
    "nb_athletes_2024 = a + b * annee_prevision\n",
    "\n",
    "# Création d'un DataFrame\n",
    "data = {'Statistique': ['Prévision du nombre de médailles d\\'or en 2024'],\n",
    "        'Valeur': f\"{nb_athletes_2024:.0f}\"}\n",
    "df = pd.DataFrame(data)\n",
    "\n",
    "# Affichage du DataFrame\n",
    "df"
   ]
  },
  {
   "cell_type": "markdown",
   "id": "a69a2dbb-783f-4d2a-b029-87b5a5f1e5b0",
   "metadata": {},
   "source": [
    "##### L'évolution du nombre de médailles d'argent"
   ]
  },
  {
   "cell_type": "code",
   "execution_count": null,
   "id": "4e995d65-2695-4edb-b47d-71fcb8c9c6fc",
   "metadata": {
    "tags": []
   },
   "outputs": [],
   "source": [
    "# Extraction des années et des médailles d'argent\n",
    "annees = [edition['anneeJO'] for edition in resultats_annee_saison_nbGold_nb_Silver_nbBronze]\n",
    "nbSilver = [edition['nbSilver'] for edition in resultats_annee_saison_nbGold_nb_Silver_nbBronze]\n",
    "\n",
    "# Calcul des statistiques\n",
    "mediane = np.median(nbSilver)\n",
    "q1 = np.percentile(nbSilver, 25)\n",
    "q3 = np.percentile(nbSilver, 75)\n",
    "minimum = np.min(nbSilver)\n",
    "maximum = np.max(nbSilver)\n",
    "\n",
    "# Tracé des droites et des points min/max\n",
    "plt.figure(figsize=(10, 8))\n",
    "\n",
    "# Tracer le nombres de médailles d'or\n",
    "plt.plot(df_resultats_annee_saison_nbGold_nb_Silver_nbBronze.anneeJO, df_resultats_annee_saison_nbGold_nb_Silver_nbBronze['nbSilver'], marker='o', linestyle='-', label='Argent', color='silver')\n",
    "\n",
    "# Tracé des lignes pour médiane, Q1 et Q3\n",
    "plt.axhline(y=mediane, color='green', linestyle='--', label='Médiane')\n",
    "plt.axhline(y=q1, color='blue', linestyle='--', label='Premier quartile (Q1)')\n",
    "plt.axhline(y=q3, color='red', linestyle='--', label='Troisième quartile (Q3)')\n",
    "\n",
    "# Configuration du graphique\n",
    "plt.title('Évolution du nombre de médailles d\\'argent par année de la délégation américaine')\n",
    "plt.xlabel('Année')\n",
    "plt.ylabel('Nombre d\\'athlètes')\n",
    "plt.legend()\n",
    "plt.show()"
   ]
  },
  {
   "cell_type": "markdown",
   "id": "606bed66-b4eb-4568-be52-f8bc80eb0379",
   "metadata": {},
   "source": [
    "##### Droite de régression linéaire du nombre de médailles d’argent"
   ]
  },
  {
   "cell_type": "code",
   "execution_count": null,
   "id": "5b38c66a-4987-49f3-bef4-45a9fa6c5ea1",
   "metadata": {
    "tags": []
   },
   "outputs": [],
   "source": [
    "# Extraction des données X (années) et Y (nombre d'athlètes)\n",
    "X = np.array([edition['anneeJO'] for edition in resultats_annee_saison_nbGold_nb_Silver_nbBronze])\n",
    "Y = np.array([edition['nbSilver'] for edition in resultats_annee_saison_nbGold_nb_Silver_nbBronze])\n",
    "\n",
    "# Calcul des moyennes de X et Y\n",
    "moyenne_X = np.mean(X)\n",
    "moyenne_Y = np.mean(Y)\n",
    "\n",
    "# Calcul des écarts par rapport à la moyenne\n",
    "X_diff = X - moyenne_X\n",
    "Y_diff = Y - moyenne_Y\n",
    "\n",
    "# Calcul du coefficient de corrélation (r)\n",
    "r = np.sum(X_diff * Y_diff) / (np.sqrt(np.sum(X_diff**2)) * np.sqrt(np.sum(Y_diff**2)))\n",
    "\n",
    "# Calcul de la pente (b)\n",
    "b = r * (np.std(Y) / np.std(X))\n",
    "\n",
    "# Calcul de l'ordonnée à l'origine (a)\n",
    "a = moyenne_Y - b * moyenne_X\n",
    "\n",
    "# Équation de la droite de régression\n",
    "ligne_regression = a + b * X\n",
    "\n",
    "# Tracé de la droite de régression\n",
    "plt.figure(figsize=(10, 7))\n",
    "plt.scatter(X, Y, color='silver', label='nb médailles d\\'argent')\n",
    "plt.plot(X, ligne_regression, color='black', linewidth=2, label='Droite de régression')\n",
    "plt.title('Droite de régression des moindres carrés')\n",
    "plt.xlabel('Années')\n",
    "plt.ylabel('Nombre de médailles d\\'argent')\n",
    "plt.legend()\n",
    "plt.show()"
   ]
  },
  {
   "cell_type": "markdown",
   "id": "79a10fd7-d769-43dd-b1f7-c71703f208da",
   "metadata": {},
   "source": [
    "#### Prévision sur le nombre de médailles d'argent au JO 2024"
   ]
  },
  {
   "cell_type": "code",
   "execution_count": null,
   "id": "cebe2371-499d-42f3-bdc4-3b9be4f07fc6",
   "metadata": {
    "tags": []
   },
   "outputs": [],
   "source": [
    "#Nous utilisons l'équation de la droite de régression pour calculer le nombre d'athlètes américains participants au JO de 2024 en utilisant l'année 2024 comme valeur de X.\n",
    "# Année pour laquelle on veut faire la prévision\n",
    "annee_prevision = 2024\n",
    "\n",
    "# Calcul de la prévision pour 2024\n",
    "nb_athletes_2024 = a + b * annee_prevision\n",
    "\n",
    "# Création d'un DataFrame\n",
    "data = {'Statistique': ['Prévision du nombre de médailles d\\'argent en 2024'],\n",
    "        'Valeur': f\"{nb_athletes_2024:.0f}\"}\n",
    "df = pd.DataFrame(data)\n",
    "\n",
    "# Affichage du DataFrame\n",
    "df"
   ]
  },
  {
   "cell_type": "markdown",
   "id": "2f5310b0-563e-4676-b162-9be850cffebd",
   "metadata": {},
   "source": [
    "##### L'évolution du nombre de médailles de bronze"
   ]
  },
  {
   "cell_type": "code",
   "execution_count": null,
   "id": "6f945e72-b6c9-44b7-9e42-ef7ec3efd092",
   "metadata": {
    "tags": []
   },
   "outputs": [],
   "source": [
    "# Extraction des années et des médailles de bronze\n",
    "annees = [edition['anneeJO'] for edition in resultats_annee_saison_nbGold_nb_Silver_nbBronze]\n",
    "nbBronze = [edition['nbBronze'] for edition in resultats_annee_saison_nbGold_nb_Silver_nbBronze]\n",
    "\n",
    "# Calcul des statistiques\n",
    "mediane = np.median(nbBronze)\n",
    "q1 = np.percentile(nbBronze, 25)\n",
    "q3 = np.percentile(nbBronze, 75)\n",
    "minimum = np.min(nbBronze)\n",
    "maximum = np.max(nbBronze)\n",
    "\n",
    "# Tracé des droites et des points min/max\n",
    "plt.figure(figsize=(10, 8))\n",
    "\n",
    "# Tracer le nombres de médailles d'or\n",
    "plt.plot(df_resultats_annee_saison_nbGold_nb_Silver_nbBronze.anneeJO, df_resultats_annee_saison_nbGold_nb_Silver_nbBronze['nbBronze'], marker='o', linestyle='-', label='Bronze', color='#CD7F32')\n",
    "\n",
    "# Tracé des lignes pour médiane, Q1 et Q3\n",
    "plt.axhline(y=mediane, color='green', linestyle='--', label='Médiane')\n",
    "plt.axhline(y=q1, color='blue', linestyle='--', label='Premier quartile (Q1)')\n",
    "plt.axhline(y=q3, color='red', linestyle='--', label='Troisième quartile (Q3)')\n",
    "\n",
    "# Configuration du graphique\n",
    "plt.title('Évolution du nombre de médailles de bronze par année de la délégation américaine')\n",
    "plt.xlabel('Année')\n",
    "plt.ylabel('Nombre d\\'athlètes')\n",
    "plt.legend()\n",
    "plt.show()"
   ]
  },
  {
   "cell_type": "markdown",
   "id": "ef25a5a5-c2e3-4f81-8308-0fd71682db10",
   "metadata": {},
   "source": [
    "##### Droite de régression linéaire du nombre de médailles de bronze"
   ]
  },
  {
   "cell_type": "code",
   "execution_count": null,
   "id": "728cc3c5-006b-4040-bf79-6882d2b1048e",
   "metadata": {
    "tags": []
   },
   "outputs": [],
   "source": [
    "# Extraction des données X (années) et Y (nombre d'athlètes)\n",
    "X = np.array([edition['anneeJO'] for edition in resultats_annee_saison_nbGold_nb_Silver_nbBronze])\n",
    "Y = np.array([edition['nbBronze'] for edition in resultats_annee_saison_nbGold_nb_Silver_nbBronze])\n",
    "\n",
    "# Calcul des moyennes de X et Y\n",
    "moyenne_X = np.mean(X)\n",
    "moyenne_Y = np.mean(Y)\n",
    "\n",
    "# Calcul des écarts par rapport à la moyenne\n",
    "X_diff = X - moyenne_X\n",
    "Y_diff = Y - moyenne_Y\n",
    "\n",
    "# Calcul du coefficient de corrélation (r)\n",
    "r = np.sum(X_diff * Y_diff) / (np.sqrt(np.sum(X_diff**2)) * np.sqrt(np.sum(Y_diff**2)))\n",
    "\n",
    "# Calcul de la pente (b)\n",
    "b = r * (np.std(Y) / np.std(X))\n",
    "\n",
    "# Calcul de l'ordonnée à l'origine (a)\n",
    "a = moyenne_Y - b * moyenne_X\n",
    "\n",
    "# Équation de la droite de régression\n",
    "ligne_regression = a + b * X\n",
    "\n",
    "# Tracé de la droite de régression\n",
    "plt.figure(figsize=(10, 7))\n",
    "plt.scatter(X, Y, color='#CD7F32', label='nb médailles de bronze')\n",
    "plt.plot(X, ligne_regression, color='black', linewidth=2, label='Droite de régression')\n",
    "plt.title('Droite de régression des moindres carrés')\n",
    "plt.xlabel('Années')\n",
    "plt.ylabel('Nombre de médailles de bronze')\n",
    "plt.legend()\n",
    "plt.show()"
   ]
  },
  {
   "cell_type": "markdown",
   "id": "5ea17c25-f57a-4c58-b188-fa3dc1053ccb",
   "metadata": {},
   "source": [
    "#### Prévision sur le nombre de médailles de bronze au JO 2024"
   ]
  },
  {
   "cell_type": "code",
   "execution_count": null,
   "id": "22afa6a4-f02e-481f-b599-656d397ba117",
   "metadata": {
    "tags": []
   },
   "outputs": [],
   "source": [
    "#Nous utilisons l'équation de la droite de régression pour calculer le nombre d'athlètes américains participants au JO de 2024 en utilisant l'année 2024 comme valeur de X.\n",
    "# Année pour laquelle on veut faire la prévision\n",
    "annee_prevision = 2024\n",
    "\n",
    "# Calcul de la prévision pour 2024\n",
    "nb_athletes_2024 = a + b * annee_prevision\n",
    "\n",
    "# Création d'un DataFrame\n",
    "data = {'Statistique': ['Prévision du nbre de médailles de bronze en 2024'],\n",
    "        'Valeur': f\"{nb_athletes_2024:.0f}\"}\n",
    "df = pd.DataFrame(data)\n",
    "\n",
    "# Affichage du DataFrame\n",
    "df"
   ]
  },
  {
   "cell_type": "markdown",
   "id": "ae7188bf-8894-4fdf-b3f1-c905004356c2",
   "metadata": {},
   "source": [
    "##### L'évolution du nombre total de médailles"
   ]
  },
  {
   "cell_type": "code",
   "execution_count": null,
   "id": "20c86f45-1334-446c-9423-60cd045541b1",
   "metadata": {
    "tags": []
   },
   "outputs": [],
   "source": [
    "# Extraction des années et des médailles\n",
    "annees = [edition['anneeJO'] for edition in resultats_annee_saison_nbGold_nb_Silver_nbBronze]\n",
    "nbTotal = [sum([edition['nbGold'],edition['nbSilver'],edition['nbBronze']]) for edition in resultats_annee_saison_nbGold_nb_Silver_nbBronze]\n",
    "\n",
    "# Calcul des statistiques\n",
    "mediane = np.median(nbTotal)\n",
    "q1 = np.percentile(nbTotal, 25)\n",
    "q3 = np.percentile(nbTotal, 75)\n",
    "minimum = np.min(nbTotal)\n",
    "maximum = np.max(nbTotal)\n",
    "\n",
    "# Tracé des droites et des points min/max\n",
    "plt.figure(figsize=(10, 8))\n",
    "\n",
    "# Tracer le nombres de médailles d'or\n",
    "plt.plot(df_resultats_annee_saison_nbGold_nb_Silver_nbBronze.anneeJO, sum([df_resultats_annee_saison_nbGold_nb_Silver_nbBronze['nbGold'],df_resultats_annee_saison_nbGold_nb_Silver_nbBronze['nbSilver'], df_resultats_annee_saison_nbGold_nb_Silver_nbBronze['nbBronze']]), marker='o', linestyle='-', label='Total', color='black')\n",
    "\n",
    "# Tracé des lignes pour médiane, Q1 et Q3\n",
    "plt.axhline(y=mediane, color='green', linestyle='--', label='Médiane')\n",
    "plt.axhline(y=q1, color='blue', linestyle='--', label='Premier quartile (Q1)')\n",
    "plt.axhline(y=q3, color='red', linestyle='--', label='Troisième quartile (Q3)')\n",
    "\n",
    "# Configuration du graphique\n",
    "plt.title('Évolution du nombre de médailles total par année de la délégation américaine')\n",
    "plt.xlabel('Année')\n",
    "plt.ylabel('Nombre d\\'athlètes')\n",
    "plt.legend()\n",
    "plt.show()"
   ]
  },
  {
   "cell_type": "markdown",
   "id": "4b9dc2dc-9206-4432-9376-b4e6031c555b",
   "metadata": {},
   "source": [
    "##### Droite de régression linéaire du nombre total de médailles"
   ]
  },
  {
   "cell_type": "code",
   "execution_count": null,
   "id": "2148fc8f-1767-4903-a250-db34cb905251",
   "metadata": {
    "tags": []
   },
   "outputs": [],
   "source": [
    "# Extraction des données X (années) et Y (nombre d'athlètes)\n",
    "X = np.array([edition['anneeJO'] for edition in resultats_annee_saison_nbGold_nb_Silver_nbBronze])\n",
    "Y = np.array([sum([edition['nbGold'],edition['nbSilver'],edition['nbBronze']])  for edition in resultats_annee_saison_nbGold_nb_Silver_nbBronze])\n",
    "\n",
    "# Calcul des moyennes de X et Y\n",
    "moyenne_X = np.mean(X)\n",
    "moyenne_Y = np.mean(Y)\n",
    "\n",
    "# Calcul des écarts par rapport à la moyenne\n",
    "X_diff = X - moyenne_X\n",
    "Y_diff = Y - moyenne_Y\n",
    "\n",
    "# Calcul du coefficient de corrélation (r)\n",
    "r = np.sum(X_diff * Y_diff) / (np.sqrt(np.sum(X_diff**2)) * np.sqrt(np.sum(Y_diff**2)))\n",
    "\n",
    "# Calcul de la pente (b)\n",
    "b = r * (np.std(Y) / np.std(X))\n",
    "\n",
    "# Calcul de l'ordonnée à l'origine (a)\n",
    "a = moyenne_Y - b * moyenne_X\n",
    "\n",
    "# Équation de la droite de régression\n",
    "ligne_regression = a + b * X\n",
    "\n",
    "# Tracé de la droite de régression\n",
    "plt.figure(figsize=(10, 7))\n",
    "plt.scatter(X, Y, color='red', label='nb médaillés')\n",
    "plt.plot(X, ligne_regression, color='black', linewidth=2, label='Droite de régression')\n",
    "plt.title('Droite de régression des moindres carrés')\n",
    "plt.xlabel('Années')\n",
    "plt.ylabel('Nombre total de médaillés')\n",
    "plt.legend()\n",
    "plt.show()"
   ]
  },
  {
   "cell_type": "markdown",
   "id": "af8b143a-1f95-4265-9518-4b1551fc10fd",
   "metadata": {},
   "source": [
    "#### Prévision sur le nombre total de médailles au JO 2024"
   ]
  },
  {
   "cell_type": "code",
   "execution_count": null,
   "id": "1b9cb506-c842-4d05-8898-ace7a395be8e",
   "metadata": {
    "tags": []
   },
   "outputs": [],
   "source": [
    "#Nous utilisons l'équation de la droite de régression pour calculer le nombre d'athlètes américains participants au JO de 2024 en utilisant l'année 2024 comme valeur de X.\n",
    "# Année pour laquelle on veut faire la prévision\n",
    "annee_prevision = 2024\n",
    "\n",
    "# Calcul de la prévision pour 2024\n",
    "nb_athletes_2024 = a + b * annee_prevision\n",
    "\n",
    "# Création d'un DataFrame\n",
    "data = {'Statistique': ['Prévision du nbre total de médailles en 2024'],\n",
    "        'Valeur': f\"{nb_athletes_2024:.0f}\"}\n",
    "df = pd.DataFrame(data)\n",
    "\n",
    "# Affichage du DataFrame\n",
    "df"
   ]
  },
  {
   "cell_type": "markdown",
   "id": "86f1dbd1-5bd2-4c2b-b478-8ecbac3134a2",
   "metadata": {},
   "source": [
    "### Pour chaque édition des Jeux Olympiques d’été, le nombre de médaillés de la délégation américaine "
   ]
  },
  {
   "cell_type": "code",
   "execution_count": null,
   "id": "b4a620ce-126b-4a82-9cf7-a47c5030e1a7",
   "metadata": {
    "tags": []
   },
   "outputs": [],
   "source": [
    "# Calculer pour chaque édition des Jeux Olympiques d’été, le nombre de médaillés de la délégation américaine\n",
    "annee_saison_nbTotal  = requete_vers_dataframe(conn, f\"\"\"SELECT H1.anneeHote, H1.Saison,\n",
    "(SELECT COUNT(DISTINCT PI.idAthlete)\n",
    " FROM kricha2.Participation_Individuelle PI\n",
    " WHERE PI.medaille IS NOT NULL AND PI.Resultat NOT LIKE ('%DNS%') AND PI.Noc = 'USA' AND  PI.idEvent IN (SELECT EV.idEvenement\n",
    "                                                                                                         FROM kricha2.Evenement EV\n",
    "                                                                                                         WHERE EV.statutEvenement = 'Olympic' AND EV.idHote = H1.idHote))\n",
    "                                             \n",
    "                                             +\n",
    "                                             \n",
    "(SELECT COUNT(DISTINCT CE.idAthlete)\n",
    " FROM kricha2.Participation_Equipe PE\n",
    " INNER JOIN kricha2.Equipe E ON PE.idEquipe = E.idEquipe\n",
    " INNER JOIN kricha2.Composition_Equipe CE ON E.idEquipe = CE.idEquipe\n",
    " WHERE PE.medaille IS NOT NULL AND PE.Resultat NOT LIKE('%DNS%') AND E.Noc = 'USA' AND PE.idEvenement IN (SELECT EV.idEvenement\n",
    "                                                                                                          FROM kricha2.Evenement EV\n",
    "                                                                                                          WHERE EV.statutEvenement = 'Olympic' AND EV.idHote = H1.idHote)\n",
    " AND CE.idAthlete NOT IN (SELECT PI.idAthlete\n",
    "                          FROM kricha2.Participation_Individuelle PI\n",
    "                          WHERE PI.medaille IS NOT NULL AND PI.Resultat NOT LIKE ('%DNS%') AND PI.Noc = 'USA' AND  PI.idEvent IN (SELECT EV.idEvenement\n",
    "                                                                                                                                  FROM kricha2.Evenement EV\n",
    "                                                                                                                                  WHERE EV.statutEvenement = 'Olympic' AND EV.idHote = H1.idHote))) AS NbMedailles\n",
    "FROM kricha2.Hote H1\n",
    "WHERE H1.AnneeHote < 2024 AND H1.Saison = 'Summer'\n",
    "GROUP BY H1.idHote, H1.AnneeHote, H1.Saison\n",
    "ORDER BY H1.anneeHote\"\"\")\n",
    "resultats_annee_saison_nbTotal = []\n",
    "\n",
    "for i in range (len(annee_saison_nbTotal)) :\n",
    "    anneeJO = annee_saison_nbTotal.loc[i, 'ANNEEHOTE']\n",
    "    nbMedailles = annee_saison_nbTotal.loc[i, 'NBMEDAILLES']\n",
    "    \n",
    "    # Pendant les années 1916, 1940, 1944 et 1980, les Jeux Olympiques n'ont pas eu lieu en raison de conflits mondiaux ou de boycotts,...\n",
    "    # notamment lors des Jeux de la XXIIe olympiade de l'ère moderne à Moscou, URSS, du 19 juillet au 3 août 1980.\n",
    "    # Les États-Unis et une cinquantaine d'autres nations ont boycotté ces Jeux pour protester contre l'invasion de l'Afghanistan par l'Union soviétique en 1979.\n",
    "    if annee_saison_nbTotal.loc[i, 'ANNEEHOTE'] not in [1916, 1940, 1944, 1980] :\n",
    "        resultats_annee_saison_nbTotal.append({'anneeJO': anneeJO, 'nbMedailles': nbMedailles})\n",
    "\n",
    "# Créer un DataFrame à partir des résultats \n",
    "df_resultats_annee_saison_nbTotal = pd.DataFrame(resultats_annee_saison_nbTotal)\n",
    "\n",
    "###########################################################################################################################################################################################\n",
    "\n",
    "# Calculer pour chaque édition des Jeux Olympiques d’été, le nombre de médaillés d'or de la délégation américaine\n",
    "annee_saison_nbMedaillesGold  = requete_vers_dataframe(conn, f\"\"\"SELECT H1.anneeHote, H1.Saison,\n",
    "(SELECT COUNT(DISTINCT PI.idAthlete)\n",
    " FROM kricha2.Participation_Individuelle PI\n",
    " WHERE PI.medaille = 'Gold' AND PI.Resultat NOT LIKE ('%DNS%') AND PI.Noc = 'USA' AND  PI.idEvent IN (SELECT EV.idEvenement\n",
    "                                                                                                         FROM kricha2.Evenement EV\n",
    "                                                                                                         WHERE EV.statutEvenement = 'Olympic' AND EV.idHote = H1.idHote))\n",
    "                                             \n",
    "                                             +\n",
    "                                             \n",
    "(SELECT COUNT(DISTINCT CE.idAthlete)\n",
    " FROM kricha2.Participation_Equipe PE\n",
    " INNER JOIN kricha2.Equipe E ON PE.idEquipe = E.idEquipe\n",
    " INNER JOIN kricha2.Composition_Equipe CE ON E.idEquipe = CE.idEquipe\n",
    " WHERE PE.medaille = 'Gold' AND PE.Resultat NOT LIKE('%DNS%') AND E.Noc = 'USA' AND PE.idEvenement IN (SELECT EV.idEvenement\n",
    "                                                                                                          FROM kricha2.Evenement EV\n",
    "                                                                                                          WHERE EV.statutEvenement = 'Olympic' AND EV.idHote = H1.idHote)\n",
    " AND CE.idAthlete NOT IN (SELECT PI.idAthlete\n",
    "                          FROM kricha2.Participation_Individuelle PI\n",
    "                          WHERE PI.medaille = 'Gold' AND PI.Resultat NOT LIKE ('%DNS%') AND PI.Noc = 'USA' AND  PI.idEvent IN (SELECT EV.idEvenement\n",
    "                                                                                                                                  FROM kricha2.Evenement EV\n",
    "                                                                                                                                  WHERE EV.statutEvenement = 'Olympic' AND EV.idHote = H1.idHote))) AS NbMedailles\n",
    "FROM kricha2.Hote H1\n",
    "WHERE H1.AnneeHote < 2024 AND H1.Saison = 'Summer'\n",
    "GROUP BY H1.idHote, H1.AnneeHote, H1.Saison\n",
    "ORDER BY H1.anneeHote\"\"\")\n",
    "resultats_annee_saison_nbMedaillesGold = []\n",
    "\n",
    "for i in range (len(annee_saison_nbMedaillesGold)) :\n",
    "    anneeJO = annee_saison_nbMedaillesGold.loc[i, 'ANNEEHOTE']\n",
    "    nbMedailles = annee_saison_nbMedaillesGold.loc[i, 'NBMEDAILLES']\n",
    "    \n",
    "    # Pendant les années 1916, 1940, 1944 et 1980, les Jeux Olympiques n'ont pas eu lieu en raison de conflits mondiaux ou de boycotts,...\n",
    "    # notamment lors des Jeux de la XXIIe olympiade de l'ère moderne à Moscou, URSS, du 19 juillet au 3 août 1980.\n",
    "    # Les États-Unis et une cinquantaine d'autres nations ont boycotté ces Jeux pour protester contre l'invasion de l'Afghanistan par l'Union soviétique en 1979.\n",
    "    if annee_saison_nbMedaillesGold.loc[i, 'ANNEEHOTE'] not in [1916, 1940, 1944, 1980] :\n",
    "        resultats_annee_saison_nbMedaillesGold.append({'anneeJO': anneeJO, 'nbMedailles': nbMedailles})\n",
    "\n",
    "# Créer un DataFrame à partir des résultats \n",
    "df_resultats_annee_saison_nbMedaillesGold = pd.DataFrame(resultats_annee_saison_nbMedaillesGold)\n",
    "\n",
    "#####################################################################################################################################################################################\n",
    "\n",
    "# Calculer pour chaque édition des Jeux Olympiques d’été, le nombre de médaillés d'or de la délégation américaine\n",
    "annee_saison_nbMedaillesSilver  = requete_vers_dataframe(conn, f\"\"\"SELECT H1.anneeHote, H1.Saison,\n",
    "(SELECT COUNT(DISTINCT PI.idAthlete)\n",
    " FROM kricha2.Participation_Individuelle PI\n",
    " WHERE PI.medaille = 'Silver' AND PI.Resultat NOT LIKE ('%DNS%') AND PI.Noc = 'USA' AND  PI.idEvent IN (SELECT EV.idEvenement\n",
    "                                                                                                         FROM kricha2.Evenement EV\n",
    "                                                                                                         WHERE EV.statutEvenement = 'Olympic' AND EV.idHote = H1.idHote))\n",
    "                                             \n",
    "                                             +\n",
    "                                             \n",
    "(SELECT COUNT(DISTINCT CE.idAthlete)\n",
    " FROM kricha2.Participation_Equipe PE\n",
    " INNER JOIN kricha2.Equipe E ON PE.idEquipe = E.idEquipe\n",
    " INNER JOIN kricha2.Composition_Equipe CE ON E.idEquipe = CE.idEquipe\n",
    " WHERE PE.medaille = 'Silver' AND PE.Resultat NOT LIKE('%DNS%') AND E.Noc = 'USA' AND PE.idEvenement IN (SELECT EV.idEvenement\n",
    "                                                                                                          FROM kricha2.Evenement EV\n",
    "                                                                                                          WHERE EV.statutEvenement = 'Olympic' AND EV.idHote = H1.idHote)\n",
    " AND CE.idAthlete NOT IN (SELECT PI.idAthlete\n",
    "                          FROM kricha2.Participation_Individuelle PI\n",
    "                          WHERE PI.medaille = 'Silver' AND PI.Resultat NOT LIKE ('%DNS%') AND PI.Noc = 'USA' AND  PI.idEvent IN (SELECT EV.idEvenement\n",
    "                                                                                                                                  FROM kricha2.Evenement EV\n",
    "                                                                                                                                  WHERE EV.statutEvenement = 'Olympic' AND EV.idHote = H1.idHote))) AS NbMedailles\n",
    "FROM kricha2.Hote H1\n",
    "WHERE H1.AnneeHote < 2024 AND H1.Saison = 'Summer'\n",
    "GROUP BY H1.idHote, H1.AnneeHote, H1.Saison\n",
    "ORDER BY H1.anneeHote\"\"\")\n",
    "resultats_annee_saison_nbMedaillesSilver = []\n",
    "\n",
    "for i in range (len(annee_saison_nbMedaillesSilver)) :\n",
    "    anneeJO = annee_saison_nbMedaillesSilver.loc[i, 'ANNEEHOTE']\n",
    "    nbMedailles = annee_saison_nbMedaillesSilver.loc[i, 'NBMEDAILLES']\n",
    "    \n",
    "    # Pendant les années 1916, 1940, 1944 et 1980, les Jeux Olympiques n'ont pas eu lieu en raison de conflits mondiaux ou de boycotts,...\n",
    "    # notamment lors des Jeux de la XXIIe olympiade de l'ère moderne à Moscou, URSS, du 19 juillet au 3 août 1980.\n",
    "    # Les États-Unis et une cinquantaine d'autres nations ont boycotté ces Jeux pour protester contre l'invasion de l'Afghanistan par l'Union soviétique en 1979.\n",
    "    if annee_saison_nbMedaillesSilver.loc[i, 'ANNEEHOTE'] not in [1916, 1940, 1944, 1980] :\n",
    "        resultats_annee_saison_nbMedaillesSilver.append({'anneeJO': anneeJO, 'nbMedailles': nbMedailles})\n",
    "\n",
    "# Créer un DataFrame à partir des résultats \n",
    "df_resultats_annee_saison_nbMedaillesSilver = pd.DataFrame(resultats_annee_saison_nbMedaillesSilver)\n",
    "\n",
    "#####################################################################################################################################################################################\n",
    "\n",
    "# Calculer pour chaque édition des Jeux Olympiques d’été, le nombre de médaillés d'or de la délégation américaine\n",
    "annee_saison_nbMedaillesBronze  = requete_vers_dataframe(conn, f\"\"\"SELECT H1.anneeHote, H1.Saison,\n",
    "(SELECT COUNT(DISTINCT PI.idAthlete)\n",
    " FROM kricha2.Participation_Individuelle PI\n",
    " WHERE PI.medaille = 'Bronze' AND PI.Resultat NOT LIKE ('%DNS%') AND PI.Noc = 'USA' AND  PI.idEvent IN (SELECT EV.idEvenement\n",
    "                                                                                                         FROM kricha2.Evenement EV\n",
    "                                                                                                         WHERE EV.statutEvenement = 'Olympic' AND EV.idHote = H1.idHote))\n",
    "                                             \n",
    "                                             +\n",
    "                                             \n",
    "(SELECT COUNT(DISTINCT CE.idAthlete)\n",
    " FROM kricha2.Participation_Equipe PE\n",
    " INNER JOIN kricha2.Equipe E ON PE.idEquipe = E.idEquipe\n",
    " INNER JOIN kricha2.Composition_Equipe CE ON E.idEquipe = CE.idEquipe\n",
    " WHERE PE.medaille = 'Bronze' AND PE.Resultat NOT LIKE('%DNS%') AND E.Noc = 'USA' AND PE.idEvenement IN (SELECT EV.idEvenement\n",
    "                                                                                                          FROM kricha2.Evenement EV\n",
    "                                                                                                          WHERE EV.statutEvenement = 'Olympic' AND EV.idHote = H1.idHote)\n",
    " AND CE.idAthlete NOT IN (SELECT PI.idAthlete\n",
    "                          FROM kricha2.Participation_Individuelle PI\n",
    "                          WHERE PI.medaille = 'Bronze' AND PI.Resultat NOT LIKE ('%DNS%') AND PI.Noc = 'USA' AND  PI.idEvent IN (SELECT EV.idEvenement\n",
    "                                                                                                                                  FROM kricha2.Evenement EV\n",
    "                                                                                                                                  WHERE EV.statutEvenement = 'Olympic' AND EV.idHote = H1.idHote))) AS NbMedailles\n",
    "FROM kricha2.Hote H1\n",
    "WHERE H1.AnneeHote < 2024 AND H1.Saison = 'Summer'\n",
    "GROUP BY H1.idHote, H1.AnneeHote, H1.Saison\n",
    "ORDER BY H1.anneeHote\"\"\")\n",
    "resultats_annee_saison_nbMedaillesBronze = []\n",
    "\n",
    "for i in range (len(annee_saison_nbMedaillesBronze)) :\n",
    "    anneeJO = annee_saison_nbMedaillesBronze.loc[i, 'ANNEEHOTE']\n",
    "    nbMedailles = annee_saison_nbMedaillesBronze.loc[i, 'NBMEDAILLES']\n",
    "    \n",
    "    # Pendant les années 1916, 1940, 1944 et 1980, les Jeux Olympiques n'ont pas eu lieu en raison de conflits mondiaux ou de boycotts,...\n",
    "    # notamment lors des Jeux de la XXIIe olympiade de l'ère moderne à Moscou, URSS, du 19 juillet au 3 août 1980.\n",
    "    # Les États-Unis et une cinquantaine d'autres nations ont boycotté ces Jeux pour protester contre l'invasion de l'Afghanistan par l'Union soviétique en 1979.\n",
    "    if annee_saison_nbMedaillesBronze.loc[i, 'ANNEEHOTE'] not in [1916, 1940, 1944, 1980] :\n",
    "        resultats_annee_saison_nbMedaillesBronze.append({'anneeJO': anneeJO, 'nbMedailles': nbMedailles})\n",
    "\n",
    "# Créer un DataFrame à partir des résultats \n",
    "df_resultats_annee_saison_nbMedaillesBronze = pd.DataFrame(resultats_annee_saison_nbMedaillesBronze)\n",
    "\n",
    "\n",
    "# Tracer les données avec matplotlib\n",
    "plt.figure(figsize=(10, 7))  # Définir la taille de la figure\n",
    "\n",
    "# Tracer le nombres total de médaillés\n",
    "plt.plot(df_resultats_annee_saison_nbTotal.anneeJO, df_resultats_annee_saison_nbTotal['nbMedailles'], marker='o', linestyle='-', label='Total', color='black')\n",
    "# Tracer le nombres de médaillés d'or\n",
    "plt.plot(df_resultats_annee_saison_nbMedaillesGold.anneeJO, df_resultats_annee_saison_nbMedaillesGold['nbMedailles'], marker='o', linestyle='-', label='Or', color='gold')\n",
    "# Tracer le nombres de médaillés d'argent\n",
    "plt.plot(df_resultats_annee_saison_nbMedaillesSilver.anneeJO, df_resultats_annee_saison_nbMedaillesSilver['nbMedailles'], marker='o', linestyle='-', label='Argent', color='silver')\n",
    "# Tracer le nombres de médaillés de bronze\n",
    "plt.plot(df_resultats_annee_saison_nbMedaillesBronze.anneeJO, df_resultats_annee_saison_nbMedaillesBronze['nbMedailles'], marker='o', linestyle='-', label='Bronze', color='#CD7F32')\n",
    "\n",
    "# Ajouter des légendes, titre, étiquettes d'axe\n",
    "plt.xlabel('Année')\n",
    "plt.ylabel('Nombre de médaillé(e)s')\n",
    "plt.title('Évolution du nombre d\\'athlètes américain(e)s médaillé(e)s par année')\n",
    "plt.legend()"
   ]
  },
  {
   "cell_type": "markdown",
   "id": "3a9903d5-1fa0-48fe-8b14-fd36765b3e39",
   "metadata": {},
   "source": [
    "##### L'évolution du nombre de médaillés d'or"
   ]
  },
  {
   "cell_type": "code",
   "execution_count": null,
   "id": "d3bef995-5178-4be2-8108-a48539144025",
   "metadata": {
    "tags": []
   },
   "outputs": [],
   "source": [
    "# Extraction des années et médaillés d'or\n",
    "annees = [edition['anneeJO'] for edition in resultats_annee_saison_nbMedaillesGold]\n",
    "nbGold = [edition['nbMedailles'] for edition in resultats_annee_saison_nbMedaillesGold]\n",
    "\n",
    "# Calcul des statistiques\n",
    "mediane = np.median(nbGold)\n",
    "q1 = np.percentile(nbGold, 25)\n",
    "q3 = np.percentile(nbGold, 75)\n",
    "minimum = np.min(nbGold)\n",
    "maximum = np.max(nbGold)\n",
    "\n",
    "# Tracé des droites et des points min/max\n",
    "plt.figure(figsize=(10, 8))\n",
    "\n",
    "# Tracer le nombres de médailles d'or\n",
    "plt.plot(df_resultats_annee_saison_nbMedaillesGold.anneeJO, df_resultats_annee_saison_nbMedaillesGold['nbMedailles'], marker='o', linestyle='-', label='Or', color='gold')\n",
    "\n",
    "# Tracé des lignes pour médiane, Q1 et Q3\n",
    "plt.axhline(y=mediane, color='green', linestyle='--', label='Médiane')\n",
    "plt.axhline(y=q1, color='blue', linestyle='--', label='Premier quartile (Q1)')\n",
    "plt.axhline(y=q3, color='red', linestyle='--', label='Troisième quartile (Q3)')\n",
    "\n",
    "# Configuration du graphique\n",
    "plt.title('Évolution du nombre de médaillé(e)s d\\'or par année de la délégation américaine')\n",
    "plt.xlabel('Année')\n",
    "plt.ylabel('Nombre de médaillé(e)s')\n",
    "plt.legend()\n",
    "plt.show()"
   ]
  },
  {
   "cell_type": "markdown",
   "id": "476757e9-8e10-4836-829c-40c7a39f6a70",
   "metadata": {},
   "source": [
    "##### Droite de régression linéaire des médaillés d'or"
   ]
  },
  {
   "cell_type": "code",
   "execution_count": null,
   "id": "e9017c31-e24f-4405-90d9-168aea0ecd1a",
   "metadata": {
    "tags": []
   },
   "outputs": [],
   "source": [
    "# Extraction des données X (années) et Y (nombre d'athlètes)\n",
    "X = np.array([edition['anneeJO'] for edition in resultats_annee_saison_nbMedaillesGold])\n",
    "Y = np.array([edition['nbMedailles'] for edition in resultats_annee_saison_nbMedaillesGold])\n",
    "\n",
    "# Calcul des moyennes de X et Y\n",
    "moyenne_X = np.mean(X)\n",
    "moyenne_Y = np.mean(Y)\n",
    "\n",
    "# Calcul des écarts par rapport à la moyenne\n",
    "X_diff = X - moyenne_X\n",
    "Y_diff = Y - moyenne_Y\n",
    "\n",
    "# Calcul du coefficient de corrélation (r)\n",
    "r = np.sum(X_diff * Y_diff) / (np.sqrt(np.sum(X_diff**2)) * np.sqrt(np.sum(Y_diff**2)))\n",
    "\n",
    "# Calcul de la pente (b)\n",
    "b = r * (np.std(Y) / np.std(X))\n",
    "\n",
    "# Calcul de l'ordonnée à l'origine (a)\n",
    "a = moyenne_Y - b * moyenne_X\n",
    "\n",
    "# Équation de la droite de régression\n",
    "ligne_regression = a + b * X\n",
    "\n",
    "# Tracé de la droite de régression\n",
    "plt.figure(figsize=(10, 7))\n",
    "plt.scatter(X, Y, color='gold', label='nb médaillés d\\'or')\n",
    "plt.plot(X, ligne_regression, color='black', linewidth=2, label='Droite de régression')\n",
    "plt.title('Droite de régression des moindres carrés')\n",
    "plt.xlabel('Années')\n",
    "plt.ylabel('Nombre de médaillés d\\'or')\n",
    "plt.legend()\n",
    "plt.show()"
   ]
  },
  {
   "cell_type": "markdown",
   "id": "b3a600a7-5e53-43e5-945c-32675dcede13",
   "metadata": {},
   "source": [
    "#### Prévision sur le nombre de médaillés d'or au JO 2024"
   ]
  },
  {
   "cell_type": "code",
   "execution_count": null,
   "id": "a15df9ba-37fe-4db8-ad0c-6ce7219edbb1",
   "metadata": {
    "tags": []
   },
   "outputs": [],
   "source": [
    "#Nous utilisons l'équation de la droite de régression pour calculer le nombre d'athlètes américains participants au JO de 2024 en utilisant l'année 2024 comme valeur de X.\n",
    "# Année pour laquelle on veut faire la prévision\n",
    "annee_prevision = 2024\n",
    "\n",
    "# Calcul de la prévision pour 2024\n",
    "nb_athletes_2024 = a + b * annee_prevision\n",
    "\n",
    "# Création d'un DataFrame\n",
    "data = {'Statistique': ['Prévision du nbre de médaillés d\\'or en 2024'],\n",
    "        'Valeur': f\"{nb_athletes_2024:.0f}\"}\n",
    "df = pd.DataFrame(data)\n",
    "\n",
    "# Affichage du DataFrame\n",
    "df"
   ]
  },
  {
   "cell_type": "markdown",
   "id": "c7d91324-d593-4b03-95b5-5012ea83efb0",
   "metadata": {},
   "source": [
    "##### L'évolution du nombre de médaillés d'argent"
   ]
  },
  {
   "cell_type": "code",
   "execution_count": null,
   "id": "3ebd0ecb-3087-417e-91c0-52d15bb14789",
   "metadata": {
    "tags": []
   },
   "outputs": [],
   "source": [
    "# Extraction des années et médaillés d'argent\n",
    "annees = [edition['anneeJO'] for edition in resultats_annee_saison_nbMedaillesSilver]\n",
    "nbSilver = [edition['nbMedailles'] for edition in resultats_annee_saison_nbMedaillesSilver]\n",
    "\n",
    "# Calcul des statistiques\n",
    "mediane = np.median(nbSilver)\n",
    "q1 = np.percentile(nbSilver, 25)\n",
    "q3 = np.percentile(nbSilver, 75)\n",
    "minimum = np.min(nbSilver)\n",
    "maximum = np.max(nbSilver)\n",
    "\n",
    "# Tracé des droites et des points min/max\n",
    "plt.figure(figsize=(10, 8))\n",
    "\n",
    "# Tracer le nombres de médailles d'or\n",
    "plt.plot(df_resultats_annee_saison_nbMedaillesSilver.anneeJO, df_resultats_annee_saison_nbMedaillesSilver['nbMedailles'], marker='o', linestyle='-', label='Argent', color='silver')\n",
    "\n",
    "# Tracé des lignes pour médiane, Q1 et Q3\n",
    "plt.axhline(y=mediane, color='green', linestyle='--', label='Médiane')\n",
    "plt.axhline(y=q1, color='blue', linestyle='--', label='Premier quartile (Q1)')\n",
    "plt.axhline(y=q3, color='red', linestyle='--', label='Troisième quartile (Q3)')\n",
    "\n",
    "# Configuration du graphique\n",
    "plt.title('Évolution du nombre de médaillé(e)s d\\'argent par année de la délégation américaine')\n",
    "plt.xlabel('Année')\n",
    "plt.ylabel('Nombre de médaillé(e)s')\n",
    "plt.legend()\n",
    "plt.show()"
   ]
  },
  {
   "cell_type": "markdown",
   "id": "28f13bb9-925d-4882-95b1-62e7b33f0abf",
   "metadata": {},
   "source": [
    "##### Droite de régression linéaire des médaillés d’argent"
   ]
  },
  {
   "cell_type": "code",
   "execution_count": null,
   "id": "0416054c-ac32-4e54-9f9e-60a47352bd7d",
   "metadata": {
    "tags": []
   },
   "outputs": [],
   "source": [
    "# Extraction des données X (années) et Y (nombre d'athlètes)\n",
    "X = np.array([edition['anneeJO'] for edition in resultats_annee_saison_nbMedaillesSilver])\n",
    "Y = np.array([edition['nbMedailles'] for edition in resultats_annee_saison_nbMedaillesSilver])\n",
    "\n",
    "# Calcul des moyennes de X et Y\n",
    "moyenne_X = np.mean(X)\n",
    "moyenne_Y = np.mean(Y)\n",
    "\n",
    "# Calcul des écarts par rapport à la moyenne\n",
    "X_diff = X - moyenne_X\n",
    "Y_diff = Y - moyenne_Y\n",
    "\n",
    "# Calcul du coefficient de corrélation (r)\n",
    "r = np.sum(X_diff * Y_diff) / (np.sqrt(np.sum(X_diff**2)) * np.sqrt(np.sum(Y_diff**2)))\n",
    "\n",
    "# Calcul de la pente (b)\n",
    "b = r * (np.std(Y) / np.std(X))\n",
    "\n",
    "# Calcul de l'ordonnée à l'origine (a)\n",
    "a = moyenne_Y - b * moyenne_X\n",
    "\n",
    "# Équation de la droite de régression\n",
    "ligne_regression = a + b * X\n",
    "\n",
    "# Tracé de la droite de régression\n",
    "plt.figure(figsize=(10, 7))\n",
    "plt.scatter(X, Y, color='silver', label='nb médaillés d\\'argent')\n",
    "plt.plot(X, ligne_regression, color='black', linewidth=2, label='Droite de régression')\n",
    "plt.title('Droite de régression des moindres carrés')\n",
    "plt.xlabel('Années')\n",
    "plt.ylabel('Nombre de médaillés d\\'argent')\n",
    "plt.legend()\n",
    "plt.show()"
   ]
  },
  {
   "cell_type": "markdown",
   "id": "55a40cff-618e-4a16-9ce7-f73693c1c051",
   "metadata": {
    "tags": []
   },
   "source": [
    "#### Prévision sur le nombre de médaillés d'argent au JO 2024"
   ]
  },
  {
   "cell_type": "code",
   "execution_count": null,
   "id": "7c22de41-cadf-4442-8f09-3fc395efe523",
   "metadata": {
    "tags": []
   },
   "outputs": [],
   "source": [
    "#Nous utilisons l'équation de la droite de régression pour calculer le nombre d'athlètes américains participants au JO de 2024 en utilisant l'année 2024 comme valeur de X.\n",
    "# Année pour laquelle on veut faire la prévision\n",
    "annee_prevision = 2024\n",
    "\n",
    "# Calcul de la prévision pour 2024\n",
    "nb_athletes_2024 = a + b * annee_prevision\n",
    "\n",
    "# Création d'un DataFrame\n",
    "data = {'Statistique': ['Prévision du nbre de médaillés d\\'argent en 2024'],\n",
    "        'Valeur': f\"{nb_athletes_2024:.0f}\"}\n",
    "df = pd.DataFrame(data)\n",
    "\n",
    "# Affichage du DataFrame\n",
    "df"
   ]
  },
  {
   "cell_type": "markdown",
   "id": "cfe74f1d-ee90-41d9-90a5-4479f23996b9",
   "metadata": {},
   "source": [
    "##### L'évolution du nombre de médaillés de bronze"
   ]
  },
  {
   "cell_type": "code",
   "execution_count": null,
   "id": "87eeeb29-1290-48a7-8f69-eb83ac079dd6",
   "metadata": {
    "tags": []
   },
   "outputs": [],
   "source": [
    "# Extraction des années et médaillés de bronze\n",
    "annees = [edition['anneeJO'] for edition in resultats_annee_saison_nbMedaillesBronze]\n",
    "nbBronze = [edition['nbMedailles'] for edition in resultats_annee_saison_nbMedaillesBronze]\n",
    "\n",
    "# Calcul des statistiques\n",
    "mediane = np.median(nbBronze)\n",
    "q1 = np.percentile(nbBronze, 25)\n",
    "q3 = np.percentile(nbBronze, 75)\n",
    "minimum = np.min(nbBronze)\n",
    "maximum = np.max(nbBronze)\n",
    "\n",
    "# Tracé des droites et des points min/max\n",
    "plt.figure(figsize=(10, 8))\n",
    "\n",
    "# Tracer le nombres de médailles d'or\n",
    "plt.plot(df_resultats_annee_saison_nbMedaillesBronze.anneeJO, df_resultats_annee_saison_nbMedaillesBronze['nbMedailles'], marker='o', linestyle='-', label='Bronze', color='#CD7F32')\n",
    "\n",
    "# Tracé des lignes pour médiane, Q1 et Q3\n",
    "plt.axhline(y=mediane, color='green', linestyle='--', label='Médiane')\n",
    "plt.axhline(y=q1, color='blue', linestyle='--', label='Premier quartile (Q1)')\n",
    "plt.axhline(y=q3, color='red', linestyle='--', label='Troisième quartile (Q3)')\n",
    "\n",
    "# Configuration du graphique\n",
    "plt.title('Évolution du nombre de médaillé(e)s de bronze par année de la délégation américaine')\n",
    "plt.xlabel('Année')\n",
    "plt.ylabel('Nombre de médaillé(e)s')\n",
    "plt.legend()\n",
    "plt.show()"
   ]
  },
  {
   "cell_type": "markdown",
   "id": "249c1f11-1409-4021-b140-4fb3fbd70296",
   "metadata": {},
   "source": [
    "##### Droite de régression linéaire des médaillés de bronze"
   ]
  },
  {
   "cell_type": "code",
   "execution_count": null,
   "id": "0d08772a-064e-42ee-b1af-d842b8aa982f",
   "metadata": {
    "tags": []
   },
   "outputs": [],
   "source": [
    "# Extraction des données X (années) et Y (nombre d'athlètes)\n",
    "X = np.array([edition['anneeJO'] for edition in resultats_annee_saison_nbMedaillesBronze])\n",
    "Y = np.array([edition['nbMedailles'] for edition in resultats_annee_saison_nbMedaillesBronze])\n",
    "\n",
    "# Calcul des moyennes de X et Y\n",
    "moyenne_X = np.mean(X)\n",
    "moyenne_Y = np.mean(Y)\n",
    "\n",
    "# Calcul des écarts par rapport à la moyenne\n",
    "X_diff = X - moyenne_X\n",
    "Y_diff = Y - moyenne_Y\n",
    "\n",
    "# Calcul du coefficient de corrélation (r)\n",
    "r = np.sum(X_diff * Y_diff) / (np.sqrt(np.sum(X_diff**2)) * np.sqrt(np.sum(Y_diff**2)))\n",
    "\n",
    "# Calcul de la pente (b)\n",
    "b = r * (np.std(Y) / np.std(X))\n",
    "\n",
    "# Calcul de l'ordonnée à l'origine (a)\n",
    "a = moyenne_Y - b * moyenne_X\n",
    "\n",
    "# Équation de la droite de régression\n",
    "ligne_regression = a + b * X\n",
    "\n",
    "# Tracé de la droite de régression\n",
    "plt.figure(figsize=(10, 7))\n",
    "plt.scatter(X, Y, color='#CD7F32', label='nb médaillés de bronze')\n",
    "plt.plot(X, ligne_regression, color='black', linewidth=2, label='Droite de régression')\n",
    "plt.title('Droite de régression des moindres carrés')\n",
    "plt.xlabel('Années')\n",
    "plt.ylabel('Nombre de médaillés de bronze')\n",
    "plt.legend()\n",
    "plt.show()"
   ]
  },
  {
   "cell_type": "markdown",
   "id": "86f65240-c2c4-4849-8613-467f48d2f1b9",
   "metadata": {},
   "source": [
    "#### Prévision sur le nombre de médaillés de bronze au JO 2024"
   ]
  },
  {
   "cell_type": "code",
   "execution_count": null,
   "id": "c19e8f83-c5c0-4114-8c26-0cfb61632f5b",
   "metadata": {
    "tags": []
   },
   "outputs": [],
   "source": [
    "#Nous utilisons l'équation de la droite de régression pour calculer le nombre d'athlètes américains participants au JO de 2024 en utilisant l'année 2024 comme valeur de X.\n",
    "# Année pour laquelle on veut faire la prévision\n",
    "annee_prevision = 2024\n",
    "\n",
    "# Calcul de la prévision pour 2024\n",
    "nb_athletes_2024 = a + b * annee_prevision\n",
    "\n",
    "# Création d'un DataFrame\n",
    "data = {'Statistique': ['Prévision du nbre de médaillés de bronze en 2024'],\n",
    "        'Valeur': f\"{nb_athletes_2024:.0f}\"}\n",
    "df = pd.DataFrame(data)\n",
    "\n",
    "# Affichage du DataFrame\n",
    "df"
   ]
  },
  {
   "cell_type": "markdown",
   "id": "a104770b-8caa-48b5-81e7-a686bc8cd398",
   "metadata": {},
   "source": [
    "##### L'évolution du nombre total de médaillés"
   ]
  },
  {
   "cell_type": "code",
   "execution_count": null,
   "id": "60f1a9d6-2866-4f69-9fa9-91a1d35de413",
   "metadata": {
    "tags": []
   },
   "outputs": [],
   "source": [
    "# Extraction des années et total de médaillés\n",
    "annees = [edition['anneeJO'] for edition in resultats_annee_saison_nbTotal]\n",
    "nbTotal = [edition['nbMedailles'] for edition in resultats_annee_saison_nbTotal]\n",
    "\n",
    "# Calcul des statistiques\n",
    "mediane = np.median(nbTotal)\n",
    "q1 = np.percentile(nbTotal, 25)\n",
    "q3 = np.percentile(nbTotal, 75)\n",
    "minimum = np.min(nbTotal)\n",
    "maximum = np.max(nbTotal)\n",
    "\n",
    "# Tracé des droites et des points min/max\n",
    "plt.figure(figsize=(10, 8))\n",
    "\n",
    "# Tracer le nombres de médailles d'or\n",
    "plt.plot(df_resultats_annee_saison_nbTotal.anneeJO, df_resultats_annee_saison_nbTotal['nbMedailles'], marker='o', linestyle='-', label='Total', color='black')\n",
    "\n",
    "# Tracé des lignes pour médiane, Q1 et Q3\n",
    "plt.axhline(y=mediane, color='green', linestyle='--', label='Médiane')\n",
    "plt.axhline(y=q1, color='blue', linestyle='--', label='Premier quartile (Q1)')\n",
    "plt.axhline(y=q3, color='red', linestyle='--', label='Troisième quartile (Q3)')\n",
    "\n",
    "# Configuration du graphique\n",
    "plt.title('Évolution du nombre total de médaillé(e)s par année de la délégation américaine')\n",
    "plt.xlabel('Année')\n",
    "plt.ylabel('Nombre de médaillé(e)s')\n",
    "plt.legend()\n",
    "plt.show()"
   ]
  },
  {
   "cell_type": "markdown",
   "id": "7a578d72-4467-4a87-b2e7-0175c19f94d8",
   "metadata": {},
   "source": [
    "##### Droite de régression linéaire du nombre total de médaillés"
   ]
  },
  {
   "cell_type": "code",
   "execution_count": null,
   "id": "e63bbe5f-e72a-4a2d-b7dc-249dbfacbd2b",
   "metadata": {
    "tags": []
   },
   "outputs": [],
   "source": [
    "# Extraction des données X (années) et Y (nombre d'athlètes)\n",
    "X = np.array([edition['anneeJO'] for edition in resultats_annee_saison_nbTotal])\n",
    "Y = np.array([edition['nbMedailles'] for edition in resultats_annee_saison_nbTotal])\n",
    "\n",
    "# Calcul des moyennes de X et Y\n",
    "moyenne_X = np.mean(X)\n",
    "moyenne_Y = np.mean(Y)\n",
    "\n",
    "# Calcul des écarts par rapport à la moyenne\n",
    "X_diff = X - moyenne_X\n",
    "Y_diff = Y - moyenne_Y\n",
    "\n",
    "# Calcul du coefficient de corrélation (r)\n",
    "r = np.sum(X_diff * Y_diff) / (np.sqrt(np.sum(X_diff**2)) * np.sqrt(np.sum(Y_diff**2)))\n",
    "\n",
    "# Calcul de la pente (b)\n",
    "b = r * (np.std(Y) / np.std(X))\n",
    "\n",
    "# Calcul de l'ordonnée à l'origine (a)\n",
    "a = moyenne_Y - b * moyenne_X\n",
    "\n",
    "# Équation de la droite de régression\n",
    "ligne_regression = a + b * X\n",
    "\n",
    "# Tracé de la droite de régression\n",
    "plt.figure(figsize=(10, 7))\n",
    "plt.scatter(X, Y, color='red', label='nb médaillés')\n",
    "plt.plot(X, ligne_regression, color='black', linewidth=2, label='Droite de régression')\n",
    "plt.title('Droite de régression des moindres carrés')\n",
    "plt.xlabel('Années')\n",
    "plt.ylabel('Nombre total  de médaillés')\n",
    "plt.legend()\n",
    "plt.show()"
   ]
  },
  {
   "cell_type": "markdown",
   "id": "ded17099-0588-428a-afcb-17802bb36066",
   "metadata": {},
   "source": [
    "#### Prévision sur le nombre total de médaillés au JO 2024"
   ]
  },
  {
   "cell_type": "code",
   "execution_count": null,
   "id": "1a764584-bb39-4422-8e98-07c4b0239831",
   "metadata": {
    "tags": []
   },
   "outputs": [],
   "source": [
    "#Nous utilisons l'équation de la droite de régression pour calculer le nombre d'athlètes américains participants au JO de 2024 en utilisant l'année 2024 comme valeur de X.\n",
    "# Année pour laquelle on veut faire la prévision\n",
    "annee_prevision = 2024\n",
    "\n",
    "# Calcul de la prévision pour 2024\n",
    "nb_athletes_2024 = a + b * annee_prevision\n",
    "\n",
    "# Création d'un DataFrame\n",
    "data = {'Statistique': ['Prévision du nbre total de médaillés en 2024'],\n",
    "        'Valeur': f\"{nb_athletes_2024:.0f}\"}\n",
    "df = pd.DataFrame(data)\n",
    "\n",
    "# Affichage du DataFrame\n",
    "df"
   ]
  }
 ],
 "metadata": {
  "kernelspec": {
   "display_name": "Python 3 (ipykernel)",
   "language": "python",
   "name": "python3"
  },
  "language_info": {
   "codemirror_mode": {
    "name": "ipython",
    "version": 3
   },
   "file_extension": ".py",
   "mimetype": "text/x-python",
   "name": "python",
   "nbconvert_exporter": "python",
   "pygments_lexer": "ipython3",
   "version": "3.10.8"
  }
 },
 "nbformat": 4,
 "nbformat_minor": 5
}
