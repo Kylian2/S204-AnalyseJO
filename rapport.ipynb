{
 "cells": [
  {
   "cell_type": "code",
   "execution_count": 1,
   "id": "770bedf2-b316-48b6-81cf-e5599a0fcedc",
   "metadata": {
    "tags": []
   },
   "outputs": [],
   "source": [
    "# A décommenter à la première exécution si jupyter se plaint de ne pas trouver oracledb\n",
    "#!pip install --upgrade oracledb\n",
    "#!pip install --upgrade folium"
   ]
  },
  {
   "cell_type": "code",
   "execution_count": 2,
   "id": "5f5b12ba-6a09-43e2-b1ad-847ec617e465",
   "metadata": {
    "tags": []
   },
   "outputs": [],
   "source": [
    "# Compléter ici les imports dont vous avez besoin, ne pas modifier ceux déjà présents\n",
    "import getpass\n",
    "from os import getenv\n",
    "import pandas as pd\n",
    "import oracledb\n",
    "import warnings\n",
    "import matplotlib.pyplot as plt\n",
    "import folium\n",
    "import requests\n",
    "from bs4 import BeautifulSoup\n",
    "import re"
   ]
  },
  {
   "cell_type": "markdown",
   "id": "db452347-ce17-4a02-92d0-6c625b217d57",
   "metadata": {},
   "source": [
    "# Présentation générale de l'édition des JO qui vous a été assignée"
   ]
  },
  {
   "cell_type": "raw",
   "id": "258800e5-8b2d-4862-802e-0c1f3c161185",
   "metadata": {
    "tags": []
   },
   "source": [
    "Les Jeux Olympiques d'été 2000 se sont déroulés à Sydney, en Australie. Ils ont eu lieu du 15 septembre au 1er octobre 2000. \n",
    "\n",
    "Pour l'Australie, c'était la deuxième fois qu'elle accueillait les Jeux Olympiques d'été. La première édition avait eu lieu à Melbourne en 1956. Donc, les Jeux de 2000 à Sydney étaient une nouvelle occasion pour l'Australie de se mettre en avant sur la scène sportive mondiale, 44 ans après les Jeux de Melbourne."
   ]
  },
  {
   "cell_type": "markdown",
   "id": "ad072673-759e-4d3d-b020-00b158599382",
   "metadata": {
    "tags": []
   },
   "source": [
    "### Récupérer les coordonnées des lieux et les mettres sur une carte"
   ]
  },
  {
   "cell_type": "code",
   "execution_count": 3,
   "id": "36ce1649-8821-4a32-b5e3-377bb36d1609",
   "metadata": {
    "tags": []
   },
   "outputs": [
    {
     "data": {
      "text/html": [
       "<div style=\"width:100%;\"><div style=\"position:relative;width:100%;height:0;padding-bottom:60%;\"><span style=\"color:#565656\">Make this Notebook Trusted to load map: File -> Trust Notebook</span><iframe srcdoc=\"&lt;!DOCTYPE html&gt;\n",
       "&lt;html&gt;\n",
       "&lt;head&gt;\n",
       "    \n",
       "    &lt;meta http-equiv=&quot;content-type&quot; content=&quot;text/html; charset=UTF-8&quot; /&gt;\n",
       "    \n",
       "        &lt;script&gt;\n",
       "            L_NO_TOUCH = false;\n",
       "            L_DISABLE_3D = false;\n",
       "        &lt;/script&gt;\n",
       "    \n",
       "    &lt;style&gt;html, body {width: 100%;height: 100%;margin: 0;padding: 0;}&lt;/style&gt;\n",
       "    &lt;style&gt;#map {position:absolute;top:0;bottom:0;right:0;left:0;}&lt;/style&gt;\n",
       "    &lt;script src=&quot;https://cdn.jsdelivr.net/npm/leaflet@1.9.3/dist/leaflet.js&quot;&gt;&lt;/script&gt;\n",
       "    &lt;script src=&quot;https://code.jquery.com/jquery-3.7.1.min.js&quot;&gt;&lt;/script&gt;\n",
       "    &lt;script src=&quot;https://cdn.jsdelivr.net/npm/bootstrap@5.2.2/dist/js/bootstrap.bundle.min.js&quot;&gt;&lt;/script&gt;\n",
       "    &lt;script src=&quot;https://cdnjs.cloudflare.com/ajax/libs/Leaflet.awesome-markers/2.0.2/leaflet.awesome-markers.js&quot;&gt;&lt;/script&gt;\n",
       "    &lt;link rel=&quot;stylesheet&quot; href=&quot;https://cdn.jsdelivr.net/npm/leaflet@1.9.3/dist/leaflet.css&quot;/&gt;\n",
       "    &lt;link rel=&quot;stylesheet&quot; href=&quot;https://cdn.jsdelivr.net/npm/bootstrap@5.2.2/dist/css/bootstrap.min.css&quot;/&gt;\n",
       "    &lt;link rel=&quot;stylesheet&quot; href=&quot;https://netdna.bootstrapcdn.com/bootstrap/3.0.0/css/bootstrap.min.css&quot;/&gt;\n",
       "    &lt;link rel=&quot;stylesheet&quot; href=&quot;https://cdn.jsdelivr.net/npm/@fortawesome/fontawesome-free@6.2.0/css/all.min.css&quot;/&gt;\n",
       "    &lt;link rel=&quot;stylesheet&quot; href=&quot;https://cdnjs.cloudflare.com/ajax/libs/Leaflet.awesome-markers/2.0.2/leaflet.awesome-markers.css&quot;/&gt;\n",
       "    &lt;link rel=&quot;stylesheet&quot; href=&quot;https://cdn.jsdelivr.net/gh/python-visualization/folium/folium/templates/leaflet.awesome.rotate.min.css&quot;/&gt;\n",
       "    \n",
       "            &lt;meta name=&quot;viewport&quot; content=&quot;width=device-width,\n",
       "                initial-scale=1.0, maximum-scale=1.0, user-scalable=no&quot; /&gt;\n",
       "            &lt;style&gt;\n",
       "                #map_320c43c1ad606120d739fb62b5bdf9cc {\n",
       "                    position: relative;\n",
       "                    width: 1200.0px;\n",
       "                    height: 250.0px;\n",
       "                    left: 0.0%;\n",
       "                    top: 0.0%;\n",
       "                }\n",
       "                .leaflet-container { font-size: 1rem; }\n",
       "            &lt;/style&gt;\n",
       "        \n",
       "&lt;/head&gt;\n",
       "&lt;body&gt;\n",
       "    \n",
       "    \n",
       "            &lt;div class=&quot;folium-map&quot; id=&quot;map_320c43c1ad606120d739fb62b5bdf9cc&quot; &gt;&lt;/div&gt;\n",
       "        \n",
       "&lt;/body&gt;\n",
       "&lt;script&gt;\n",
       "    \n",
       "    \n",
       "            var map_320c43c1ad606120d739fb62b5bdf9cc = L.map(\n",
       "                &quot;map_320c43c1ad606120d739fb62b5bdf9cc&quot;,\n",
       "                {\n",
       "                    center: [-33.8688, 151.2093],\n",
       "                    crs: L.CRS.EPSG3857,\n",
       "                    zoom: 5,\n",
       "                    zoomControl: true,\n",
       "                    preferCanvas: false,\n",
       "                }\n",
       "            );\n",
       "\n",
       "            \n",
       "\n",
       "        \n",
       "    \n",
       "            var tile_layer_1ca80bc560a7e437705a58dd0e7ef623 = L.tileLayer(\n",
       "                &quot;https://tile.openstreetmap.org/{z}/{x}/{y}.png&quot;,\n",
       "                {&quot;attribution&quot;: &quot;\\u0026copy; \\u003ca href=\\&quot;https://www.openstreetmap.org/copyright\\&quot;\\u003eOpenStreetMap\\u003c/a\\u003e contributors&quot;, &quot;detectRetina&quot;: false, &quot;maxNativeZoom&quot;: 19, &quot;maxZoom&quot;: 19, &quot;minZoom&quot;: 0, &quot;noWrap&quot;: false, &quot;opacity&quot;: 1, &quot;subdomains&quot;: &quot;abc&quot;, &quot;tms&quot;: false}\n",
       "            );\n",
       "        \n",
       "    \n",
       "            tile_layer_1ca80bc560a7e437705a58dd0e7ef623.addTo(map_320c43c1ad606120d739fb62b5bdf9cc);\n",
       "        \n",
       "    \n",
       "            var marker_bf7f71f76186836ac78c7c61b53730d0 = L.marker(\n",
       "                [-33.8688, 151.2093],\n",
       "                {}\n",
       "            ).addTo(map_320c43c1ad606120d739fb62b5bdf9cc);\n",
       "        \n",
       "    \n",
       "        var popup_2e38a998bc5dd4070c8b118189f81de5 = L.popup({&quot;maxWidth&quot;: &quot;100%&quot;});\n",
       "\n",
       "        \n",
       "            \n",
       "                var html_16c88a9b8a08020a6356e7f0e29862c0 = $(`&lt;div id=&quot;html_16c88a9b8a08020a6356e7f0e29862c0&quot; style=&quot;width: 100.0%; height: 100.0%;&quot;&gt;Sydney&lt;/div&gt;`)[0];\n",
       "                popup_2e38a998bc5dd4070c8b118189f81de5.setContent(html_16c88a9b8a08020a6356e7f0e29862c0);\n",
       "            \n",
       "        \n",
       "\n",
       "        marker_bf7f71f76186836ac78c7c61b53730d0.bindPopup(popup_2e38a998bc5dd4070c8b118189f81de5)\n",
       "        ;\n",
       "\n",
       "        \n",
       "    \n",
       "    \n",
       "            var marker_0ba562013cda9784e793d0643b04a4c1 = L.marker(\n",
       "                [-33.77046, 150.85535],\n",
       "                {}\n",
       "            ).addTo(map_320c43c1ad606120d739fb62b5bdf9cc);\n",
       "        \n",
       "    \n",
       "            var marker_ad73032b29404d3c598a06af5b4ca147 = L.marker(\n",
       "                [-33.89102, 151.277726],\n",
       "                {}\n",
       "            ).addTo(map_320c43c1ad606120d739fb62b5bdf9cc);\n",
       "        \n",
       "    \n",
       "            var marker_cc617d9ddb0a7ab887d8b0a3a1fa34d1 = L.marker(\n",
       "                [-27.485833, 153.038056],\n",
       "                {}\n",
       "            ).addTo(map_320c43c1ad606120d739fb62b5bdf9cc);\n",
       "        \n",
       "    \n",
       "            var marker_2edd139a65fd9ab957197b3b3f11e0cb = L.marker(\n",
       "                [-35.25, 149.102778],\n",
       "                {}\n",
       "            ).addTo(map_320c43c1ad606120d739fb62b5bdf9cc);\n",
       "        \n",
       "    \n",
       "            var marker_e803017e6a351644f88474eb61eba5bc = L.marker(\n",
       "                [-33.890367, 151.223449],\n",
       "                {}\n",
       "            ).addTo(map_320c43c1ad606120d739fb62b5bdf9cc);\n",
       "        \n",
       "    \n",
       "            var marker_e9a585d8db01986331ac17ebd3c086ab = L.marker(\n",
       "                [-33.9075, 150.998611],\n",
       "                {}\n",
       "            ).addTo(map_320c43c1ad606120d739fb62b5bdf9cc);\n",
       "        \n",
       "    \n",
       "            var marker_3ce4005c58974a334c06b3c718137d34 = L.marker(\n",
       "                [-33.868981, 150.858266],\n",
       "                {}\n",
       "            ).addTo(map_320c43c1ad606120d739fb62b5bdf9cc);\n",
       "        \n",
       "    \n",
       "            var marker_2844ab997359057b3104d015b4ca1dec = L.marker(\n",
       "                [-34.9075, 138.568889],\n",
       "                {}\n",
       "            ).addTo(map_320c43c1ad606120d739fb62b5bdf9cc);\n",
       "        \n",
       "    \n",
       "            var marker_1833c16bba2cc15d00ae6722751801bc = L.marker(\n",
       "                [-33.855, 151.072222],\n",
       "                {}\n",
       "            ).addTo(map_320c43c1ad606120d739fb62b5bdf9cc);\n",
       "        \n",
       "    \n",
       "            var marker_9972532d1f1fd0ff9d173e0bf0b9006f = L.marker(\n",
       "                [-33.847222, 151.063333],\n",
       "                {}\n",
       "            ).addTo(map_320c43c1ad606120d739fb62b5bdf9cc);\n",
       "        \n",
       "    \n",
       "            var marker_d73a55eb27d4b04dac455201ee3d5a47 = L.marker(\n",
       "                [-33.7205, 150.6835],\n",
       "                {}\n",
       "            ).addTo(map_320c43c1ad606120d739fb62b5bdf9cc);\n",
       "        \n",
       "    \n",
       "            var marker_a30e34995071d99d7fd76d0c1a7159a7 = L.marker(\n",
       "                [-33.870268, 151.233777],\n",
       "                {}\n",
       "            ).addTo(map_320c43c1ad606120d739fb62b5bdf9cc);\n",
       "        \n",
       "    \n",
       "            var marker_84e3945dc2e78bdaf7f7bea29dd7f3f6 = L.marker(\n",
       "                [-33.821533, 151.119239],\n",
       "                {}\n",
       "            ).addTo(map_320c43c1ad606120d739fb62b5bdf9cc);\n",
       "        \n",
       "    \n",
       "            var marker_dddc1cfbd8206a0f24702dcda19e3f4b = L.marker(\n",
       "                [-33.772651, 150.854267],\n",
       "                {}\n",
       "            ).addTo(map_320c43c1ad606120d739fb62b5bdf9cc);\n",
       "        \n",
       "    \n",
       "            var marker_bc5e0992a2f28278acd7bd89bd40694c = L.marker(\n",
       "                [-33.855, 151.068056],\n",
       "                {}\n",
       "            ).addTo(map_320c43c1ad606120d739fb62b5bdf9cc);\n",
       "        \n",
       "    \n",
       "            var marker_c1309037a15abc985d8d79b8fb8d4214 = L.marker(\n",
       "                [-33.853384, 151.069436],\n",
       "                {}\n",
       "            ).addTo(map_320c43c1ad606120d739fb62b5bdf9cc);\n",
       "        \n",
       "    \n",
       "            var marker_37ee0b4f4c6537ba80ba66d16e27aa6c = L.marker(\n",
       "                [-33.843056, 151.067778],\n",
       "                {}\n",
       "            ).addTo(map_320c43c1ad606120d739fb62b5bdf9cc);\n",
       "        \n",
       "    \n",
       "            var marker_b2dd4a45f81c0b51aa4bc853ad4dc37a = L.marker(\n",
       "                [-33.873391, 151.199181],\n",
       "                {}\n",
       "            ).addTo(map_320c43c1ad606120d739fb62b5bdf9cc);\n",
       "        \n",
       "    \n",
       "            var marker_2e1ebd5168278e698fdc1affa90825c8 = L.marker(\n",
       "                [-33.878333, 151.202778],\n",
       "                {}\n",
       "            ).addTo(map_320c43c1ad606120d739fb62b5bdf9cc);\n",
       "        \n",
       "    \n",
       "            var marker_e53ca610eed8a0e44b505f3921bcfbad = L.marker(\n",
       "                [-33.87585, 151.20015],\n",
       "                {}\n",
       "            ).addTo(map_320c43c1ad606120d739fb62b5bdf9cc);\n",
       "        \n",
       "    \n",
       "            var marker_6bcd5b9e196ca4a0c4872445f9cdeb8a = L.marker(\n",
       "                [-33.889167, 151.225278],\n",
       "                {}\n",
       "            ).addTo(map_320c43c1ad606120d739fb62b5bdf9cc);\n",
       "        \n",
       "    \n",
       "            var marker_afeec7befdd18ceedad779c0aaf130ca = L.marker(\n",
       "                [-33.850833, 151.067154],\n",
       "                {}\n",
       "            ).addTo(map_320c43c1ad606120d739fb62b5bdf9cc);\n",
       "        \n",
       "    \n",
       "            var marker_9b662fe5b4d9ae5fc6c48fd5563a9e1e = L.marker(\n",
       "                [-33.834472, 151.073037],\n",
       "                {}\n",
       "            ).addTo(map_320c43c1ad606120d739fb62b5bdf9cc);\n",
       "        \n",
       "    \n",
       "            var marker_07446179f2b49e0536cd8d0f693f0b25 = L.marker(\n",
       "                [-33.848713, 150.854194],\n",
       "                {}\n",
       "            ).addTo(map_320c43c1ad606120d739fb62b5bdf9cc);\n",
       "        \n",
       "    \n",
       "            var marker_dac42f4cdd57261f8a51330245df7b03 = L.marker(\n",
       "                [-33.724335, 150.671219],\n",
       "                {}\n",
       "            ).addTo(map_320c43c1ad606120d739fb62b5bdf9cc);\n",
       "        \n",
       "    \n",
       "            var marker_3843846a1e82fe5337017c0a8ad10d49 = L.marker(\n",
       "                [-33.888889, 150.818611],\n",
       "                {}\n",
       "            ).addTo(map_320c43c1ad606120d739fb62b5bdf9cc);\n",
       "        \n",
       "    \n",
       "            var marker_b19902a54ad252065b39dc69c292cf6f = L.marker(\n",
       "                [-33.858222, 151.215281],\n",
       "                {}\n",
       "            ).addTo(map_320c43c1ad606120d739fb62b5bdf9cc);\n",
       "        \n",
       "    \n",
       "            var marker_82debc94c1ab0c573285abc92fe123a3 = L.marker(\n",
       "                [-33.844444, 151.061944],\n",
       "                {}\n",
       "            ).addTo(map_320c43c1ad606120d739fb62b5bdf9cc);\n",
       "        \n",
       "    \n",
       "            var marker_7ae2441fc9bb017272ef82c94999d36a = L.marker(\n",
       "                [-33.845556, 151.068056],\n",
       "                {}\n",
       "            ).addTo(map_320c43c1ad606120d739fb62b5bdf9cc);\n",
       "        \n",
       "&lt;/script&gt;\n",
       "&lt;/html&gt;\" style=\"position:absolute;width:100%;height:100%;left:0;top:0;border:none !important;\" allowfullscreen webkitallowfullscreen mozallowfullscreen></iframe></div></div>"
      ],
      "text/plain": [
       "<folium.folium.Map at 0x7fec0ed403a0>"
      ]
     },
     "execution_count": 3,
     "metadata": {},
     "output_type": "execute_result"
    }
   ],
   "source": [
    "sydney_coords = [-33.8688, 151.2093]\n",
    "# Créer une carte centrée sur l'australie \n",
    "australia_map = folium.Map(location=sydney_coords, zoom_start=5, width=1200, height=250)\n",
    "\n",
    "# Ajouter un marqueur pour Sydney\n",
    "folium.Marker(location=sydney_coords, popup='Sydney').add_to(australia_map)\n",
    "# Définir l'URL pour les épreuves olympiques\n",
    "url = 'https://www.olympedia.org/venues/editions/25'\n",
    "\n",
    "# Récupérer le contenu de la page\n",
    "request = requests.get(url)    \n",
    "# récupérer le code HTML de la page\n",
    "codeHTML = BeautifulSoup(request.text, 'html')  \n",
    "# rechercher la table contenant les épreuve\n",
    "codeHTML = codeHTML.find('table', class_='table table-striped')   \n",
    "# ne garder que les lignes contenant un lien vers un lieu\n",
    "table = codeHTML.find_all('a', href=lambda href: href and '/venues/7' in href)    \n",
    "# Extraire le href et le nom du lieu\n",
    "table = [{'href': lien['href'], 'nom': lien.text} for lien in table]\n",
    "\n",
    "url_lieu = \"https://www.olympedia.org\"\n",
    "marker_table = []\n",
    "for lien in table :\n",
    "    url_lieu_modif = url_lieu + lien['href']\n",
    "    request = requests.get(url_lieu_modif)    \n",
    "    codeHTML = BeautifulSoup(request.text, 'html')  # récupérer le code HTML de la page\n",
    "    coordonnee = codeHTML.find(string=re.compile(\"(Definitely here)\"))\n",
    "    pattern = r'(-?\\d+\\.\\d+),\\s*(-?\\d+\\.\\d+)'\n",
    "    matches = re.search(pattern, coordonnee)\n",
    "    latitude = matches.group(1)\n",
    "    longitude = matches.group(2)\n",
    "    coords = [latitude, longitude]\n",
    "    folium.Marker(location=coords).add_to(australia_map)\n",
    "# afficher la carte des épreuves \n",
    "australia_map"
   ]
  },
  {
   "cell_type": "code",
   "execution_count": null,
   "id": "4ff9a5d3-e17e-438c-9d5d-7a4e4d0eef03",
   "metadata": {},
   "outputs": [],
   "source": []
  },
  {
   "cell_type": "markdown",
   "id": "615c79a0-31c7-4f85-8046-7771d88d401b",
   "metadata": {
    "tags": []
   },
   "source": [
    "### Importation de la base de donnnées"
   ]
  },
  {
   "cell_type": "code",
   "execution_count": 4,
   "id": "f1e39a0b-df1c-442e-954a-b5e8ab1bbd68",
   "metadata": {
    "tags": []
   },
   "outputs": [],
   "source": [
    "# La fonction ci-dessous est à utiliser pour exécuter une requête et stocker les résultats dans un dataframe Pandas sans afficher d’alerte.\n",
    "# Vous pouvez vous en inspirer pour créer vos propres fonctions.\n",
    "def requete_vers_dataframe(connexion, requete, valeurs = None):\n",
    "    warnings.simplefilter(action='ignore', category=UserWarning)\n",
    "    if valeurs is not None:\n",
    "        df = pd.read_sql(requete, connexion, params=valeurs)\n",
    "    else:\n",
    "        df = pd.read_sql(requete, connexion)\n",
    "    warnings.simplefilter(\"always\") \n",
    "    return df"
   ]
  },
  {
   "cell_type": "code",
   "execution_count": 5,
   "id": "3c11aef7-44dc-4092-b6b6-3bf79295a163",
   "metadata": {
    "tags": []
   },
   "outputs": [],
   "source": [
    "# Saisir ci-dessous l'édition des JO qui vous a été attribuée. Cela correspond au LibelleHote dans la table HOTE de la base de données\n",
    "# Par exemple EDITION_JO = \"2020 Summer Olympics\"\n",
    "EDITION_JO = \"2000 Summer Olympics\"\n",
    "# Saisir ci-dessous le login court de la base utilisée pour votre carnet\n",
    "SCHEMA = \"KLENTZ\""
   ]
  },
  {
   "cell_type": "code",
   "execution_count": 6,
   "id": "52fbde7e-2ae4-4fd4-bc0d-067a36adc127",
   "metadata": {
    "tags": []
   },
   "outputs": [
    {
     "name": "stdin",
     "output_type": "stream",
     "text": [
      "Login :  KLENTZ\n",
      "Mot de passe :  ········\n"
     ]
    }
   ],
   "source": [
    "# On demande à l'utilisateur son login et mot de passe pour pouvoir accéder à la base de données\n",
    "if getenv(\"DB_LOGIN\") is None:\n",
    "    login = input(\"Login : \")\n",
    "else:\n",
    "    login = getenv(\"DB_LOGIN\")\n",
    "if getenv(\"DB_PASS\") is None:\n",
    "    password = getpass.getpass(\"Mot de passe : \")\n",
    "else:\n",
    "    password = getenv(\"DB_PASS_PASS\")\n",
    "conn = oracledb.connect(user=login, password=password, host=\"oracle.iut-orsay.fr\", port=1521, sid=\"etudom\")\n",
    "conn.autocommit = False"
   ]
  },
  {
   "cell_type": "code",
   "execution_count": 7,
   "id": "b364b997-2eef-4056-837e-385def9fb483",
   "metadata": {
    "tags": []
   },
   "outputs": [
    {
     "name": "stdout",
     "output_type": "stream",
     "text": [
      "Identifiant de l’hôte : 25\n"
     ]
    }
   ],
   "source": [
    "# On vérifie que l'utilisateur est bien connecté à la base de données, que le schéma est bon, et qu'on trouve la bonne édition des JO\n",
    "data = requete_vers_dataframe(conn, f\"SELECT * FROM {SCHEMA}.HOTE WHERE LibelleHote LIKE (:libelle)\",{\"libelle\":EDITION_JO})\n",
    "id_hote = int(data.IDHOTE.iloc[0])\n",
    "print(f\"Identifiant de l’hôte : {id_hote}\")"
   ]
  },
  {
   "cell_type": "code",
   "execution_count": 8,
   "id": "35c6f89f-9e97-4479-ab89-6ff0b801e0e9",
   "metadata": {
    "tags": []
   },
   "outputs": [
    {
     "data": {
      "text/html": [
       "<div>\n",
       "<style scoped>\n",
       "    .dataframe tbody tr th:only-of-type {\n",
       "        vertical-align: middle;\n",
       "    }\n",
       "\n",
       "    .dataframe tbody tr th {\n",
       "        vertical-align: top;\n",
       "    }\n",
       "\n",
       "    .dataframe thead th {\n",
       "        text-align: right;\n",
       "    }\n",
       "</style>\n",
       "<table border=\"1\" class=\"dataframe\">\n",
       "  <thead>\n",
       "    <tr style=\"text-align: right;\">\n",
       "      <th></th>\n",
       "      <th>NOMDISCIPLINE</th>\n",
       "    </tr>\n",
       "  </thead>\n",
       "  <tbody>\n",
       "    <tr>\n",
       "      <th>0</th>\n",
       "      <td>Triathlon</td>\n",
       "    </tr>\n",
       "    <tr>\n",
       "      <th>1</th>\n",
       "      <td>Trampolining</td>\n",
       "    </tr>\n",
       "    <tr>\n",
       "      <th>2</th>\n",
       "      <td>Taekwondo</td>\n",
       "    </tr>\n",
       "  </tbody>\n",
       "</table>\n",
       "</div>"
      ],
      "text/plain": [
       "  NOMDISCIPLINE\n",
       "0     Triathlon\n",
       "1  Trampolining\n",
       "2     Taekwondo"
      ]
     },
     "execution_count": 8,
     "metadata": {},
     "output_type": "execute_result"
    }
   ],
   "source": [
    "# Calculer avec une requête et afficher les épreuves nouvellement ajoutée à cette édition\n",
    "nvlleEpreuve  = requete_vers_dataframe(conn, f\"\"\"SELECT DISTINCT nomDiscipline FROM {SCHEMA}.DISCIPLINE\n",
    "NATURAL JOIN {SCHEMA}.EVENEMENT\n",
    "WHERE idHote = {id_hote} AND nomDiscipline NOT IN (SELECT nomDiscipline FROM {SCHEMA}.DISCIPLINE\n",
    "                                            NATURAL JOIN {SCHEMA}.EVENEMENT\n",
    "                                            WHERE idHote = {id_hote}-1)\"\"\")\n",
    "\n",
    "nvlleEpreuve"
   ]
  },
  {
   "cell_type": "code",
   "execution_count": 23,
   "id": "d384b72a-ad2b-4d6f-b466-7962a8767f21",
   "metadata": {
    "tags": []
   },
   "outputs": [],
   "source": [
    "# Calculer avec une requête et afficher le nombre d'épreuve de chaque genre\n",
    "hoteSummer  = requete_vers_dataframe(conn, f\"\"\"SELECT idHote, anneeHote FROM {SCHEMA}.HOTE\n",
    "WHERE Saison ='Summer'\"\"\")\n",
    "resultats = []\n",
    "\n",
    "for i in range (len(hoteSummer)) :\n",
    "    idHoteSummer = hoteSummer.loc[i, 'IDHOTE']\n",
    "    anneeHoteSummer = hoteSummer.loc[i, 'ANNEEHOTE']\n",
    "    genreEpreuveWomen  = requete_vers_dataframe(conn, f\"\"\"SELECT DISTINCT NomDiscipline, nomEvenement FROM {SCHEMA}.EVENEMENT E\n",
    "    NATURAL JOIN {SCHEMA}.DISCIPLINE\n",
    "    INNER JOIN {SCHEMA}.PARTICIPATION_INDIVIDUELLE PI ON PI.idEvent = E.idEvenement\n",
    "    NATURAL JOIN {SCHEMA}.ATHLETE\n",
    "    WHERE idHote = {idHoteSummer} AND nomEvenement LIKE '%Women%'\"\"\")\n",
    "\n",
    "    genreEpreuveMen  = requete_vers_dataframe(conn, f\"\"\"SELECT DISTINCT NomDiscipline, nomEvenement FROM {SCHEMA}.EVENEMENT E\n",
    "    NATURAL JOIN {SCHEMA}.DISCIPLINE\n",
    "    INNER JOIN {SCHEMA}.PARTICIPATION_INDIVIDUELLE PI ON PI.idEvent = E.idEvenement\n",
    "    NATURAL JOIN {SCHEMA}.ATHLETE\n",
    "    WHERE idHote = {idHoteSummer} AND nomEvenement LIKE '%Men%'\"\"\")\n",
    "\n",
    "    nbWomen = genreEpreuveWomen['NOMDISCIPLINE'].count()\n",
    "    nbMen = genreEpreuveMen['NOMDISCIPLINE'].count()\n",
    "     # Ajouter les résultats à la liste\n",
    "    resultats.append({'anneeHoteSummer': anneeHoteSummer, 'nbMen': nbMen, 'nbWomen': nbWomen})\n",
    "\n",
    "# Créer un DataFrame à partir des résultats\n",
    "df_resultats = pd.DataFrame(resultats)\n",
    "    "
   ]
  },
  {
   "cell_type": "code",
   "execution_count": 28,
   "id": "77064980-f06c-46ae-ac74-91990db5abf8",
   "metadata": {
    "tags": []
   },
   "outputs": [],
   "source": [
    "df_resultats = df_resultats.loc[(df_resultats['nbMen'] != 0) | (df_resultats['nbWomen'] != 0)]"
   ]
  },
  {
   "cell_type": "code",
   "execution_count": 29,
   "id": "00d1458b-1892-4d90-aee6-2a3ca4a87bd3",
   "metadata": {
    "tags": []
   },
   "outputs": [
    {
     "data": {
      "text/plain": [
       "<matplotlib.legend.Legend at 0x7fec0c5a79d0>"
      ]
     },
     "execution_count": 29,
     "metadata": {},
     "output_type": "execute_result"
    },
    {
     "data": {
      "image/png": "[encoded data removed]",
      "text/plain": [
       "<Figure size 1200x600 with 1 Axes>"
      ]
     },
     "metadata": {},
     "output_type": "display_data"
    }
   ],
   "source": [
    "# Tracer les données avec matplotlib\n",
    "plt.figure(figsize=(12, 6))  # Définir la taille de la figure\n",
    "\n",
    "# Tracer nbMen\n",
    "plt.plot(df_resultats.anneeHoteSummer, df_resultats['nbMen'], marker='o', linestyle='-', label='Men')\n",
    "\n",
    "# Tracer nbWomen\n",
    "plt.plot(df_resultats.anneeHoteSummer, df_resultats['nbWomen'], marker='o', linestyle='-', label='Women')\n",
    "\n",
    "# Ajouter des légendes, titre, étiquettes d'axe\n",
    "plt.xlabel('anneeHote')\n",
    "plt.ylabel('Nombre d\\'épreuves')\n",
    "plt.title('Évolution du nombre d\\'épreuves par genre')\n",
    "plt.legend()"
   ]
  },
  {
   "cell_type": "markdown",
   "id": "1912ed1c-48ba-4216-9bf0-6400b7b4f306",
   "metadata": {
    "tags": []
   },
   "source": [
    "# Comparaison de cette édition avec les éditions qui l'ont précédée"
   ]
  },
  {
   "cell_type": "markdown",
   "id": "0c961f5c-ae0c-4752-b4a5-2dfb5f5f4d52",
   "metadata": {
    "tags": []
   },
   "source": [
    "### classement des nations (tableau de classement pour les trois couleurs de médailles et pour le total) + répartition des médailles par couleur et par pays."
   ]
  },
  {
   "cell_type": "code",
   "execution_count": null,
   "id": "1ad25683-a893-4974-a099-63ff1a9cc618",
   "metadata": {},
   "outputs": [],
   "source": []
  },
  {
   "cell_type": "raw",
   "id": "1062e9e6-d3d0-4163-9aa3-b09f01ef64e8",
   "metadata": {},
   "source": [
    "Interpréter et/ou expliquer ce qui est présenté : "
   ]
  },
  {
   "cell_type": "markdown",
   "id": "d14ef3f4-2013-4320-98b2-83f2a556ca84",
   "metadata": {
    "tags": []
   },
   "source": [
    "### répartition des médailles par genre et par pays, comparaison à l'aide de la moyenne/écart-type et min/max/quartiles/médiane."
   ]
  },
  {
   "cell_type": "code",
   "execution_count": null,
   "id": "f9d293fd-e313-44fc-b553-ac8e34de73a0",
   "metadata": {},
   "outputs": [],
   "source": []
  },
  {
   "cell_type": "raw",
   "id": "a7b55165-f916-462a-bf1c-0e8a200f1456",
   "metadata": {},
   "source": [
    "Interpréter et/ou expliquer ce qui est présenté : "
   ]
  },
  {
   "cell_type": "markdown",
   "id": "c62f61c5-83b3-4c2b-9f13-58ad89acd515",
   "metadata": {},
   "source": [
    "### répartition des médailles par continent (Amérique, Europe, Asie, Afrique, Océanie), comparaison là aussi avec les outils vus en statistiques. [Bonus]"
   ]
  },
  {
   "cell_type": "code",
   "execution_count": null,
   "id": "366cd41a-9f0a-4a33-b6c7-4c2092ef0f7a",
   "metadata": {},
   "outputs": [],
   "source": []
  },
  {
   "cell_type": "raw",
   "id": "4a42bde4-1b66-4beb-a0dc-3ce3861c0334",
   "metadata": {},
   "source": [
    "Interpréter et/ou expliquer ce qui est présenté : "
   ]
  },
  {
   "cell_type": "markdown",
   "id": "7f8cbc90-c2a9-4951-8f93-4d0c6728e3fb",
   "metadata": {},
   "source": [
    "### autres idées de répartitions pertinentes [Bonus]"
   ]
  },
  {
   "cell_type": "code",
   "execution_count": null,
   "id": "d1f84655-5d18-4b18-9f93-a2d61419c581",
   "metadata": {},
   "outputs": [],
   "source": []
  },
  {
   "cell_type": "raw",
   "id": "e1a17bc1-3015-4ab3-81ef-e32fb432fd92",
   "metadata": {},
   "source": [
    "Interpréter et/ou expliquer ce qui est présenté : "
   ]
  },
  {
   "cell_type": "markdown",
   "id": "f1b50b52-8193-4e03-9890-3e5b2fe4d213",
   "metadata": {},
   "source": [
    "### évolution de ces classements par rapport à l'édition précédente [Bonus]"
   ]
  },
  {
   "cell_type": "code",
   "execution_count": null,
   "id": "a965966d-001b-4f22-a698-32e7c09c43de",
   "metadata": {},
   "outputs": [],
   "source": []
  },
  {
   "cell_type": "raw",
   "id": "6967cc80-ff8c-4300-83a1-fa4136edea6d",
   "metadata": {},
   "source": [
    "Interpréter et/ou expliquer ce qui est présenté : "
   ]
  },
  {
   "cell_type": "markdown",
   "id": "02528109-ab9b-4ae8-81c7-8edd3a262700",
   "metadata": {
    "tags": []
   },
   "source": [
    "### évolution à long terme pour le top 3 de cette édition (c'est-à-dire que pour les trois meilleurs pays de cette édition, on veut savoir quelle était leur performance sur les jeux de même type (jeux d'été ou jeux d'hiver) lors des éditions qui ont précédé)."
   ]
  },
  {
   "cell_type": "code",
   "execution_count": null,
   "id": "cffb0a08-86c6-4471-a2aa-692a71e4b9bb",
   "metadata": {},
   "outputs": [],
   "source": []
  },
  {
   "cell_type": "raw",
   "id": "3a653715-e0ce-4364-94d7-17b571beada5",
   "metadata": {},
   "source": [
    "Interpréter et/ou expliquer ce qui est présenté : "
   ]
  },
  {
   "cell_type": "markdown",
   "id": "7d328e63-59f7-4247-86a4-2f4a5c696d4e",
   "metadata": {
    "tags": []
   },
   "source": [
    "### tailles des délégations (et tendances à long terme). [Bonus]"
   ]
  },
  {
   "cell_type": "code",
   "execution_count": null,
   "id": "9b22d4eb-4745-4c97-a45f-e4719ec27230",
   "metadata": {},
   "outputs": [],
   "source": []
  },
  {
   "cell_type": "raw",
   "id": "f372445e-fa75-4597-abfd-51575ff30709",
   "metadata": {},
   "source": [
    "Interpréter et/ou expliquer ce qui est présenté : "
   ]
  },
  {
   "cell_type": "markdown",
   "id": "1bd48574-ce60-42d6-8447-dd7f783218e5",
   "metadata": {},
   "source": [
    "### moyennes d'âge des athlètes (et tendances à long terme)."
   ]
  },
  {
   "cell_type": "code",
   "execution_count": null,
   "id": "99cf9a9b-654d-4703-990d-9fc60e423e1a",
   "metadata": {},
   "outputs": [],
   "source": []
  },
  {
   "cell_type": "raw",
   "id": "61d5d3fd-fa4d-4974-8b2b-c6c22267f3a0",
   "metadata": {},
   "source": [
    "Interpréter et/ou expliquer ce qui est présenté : "
   ]
  },
  {
   "cell_type": "markdown",
   "id": "723085a5-70e9-45d5-80dc-44e754bf374c",
   "metadata": {},
   "source": [
    "### tailles des athlètes (et tendances à long terme). [Bonus]"
   ]
  },
  {
   "cell_type": "code",
   "execution_count": null,
   "id": "96546b32-f8ef-4774-8aff-2c270d80b653",
   "metadata": {},
   "outputs": [],
   "source": []
  },
  {
   "cell_type": "raw",
   "id": "5fb3b4c2-a538-4338-b789-ba17bb72f921",
   "metadata": {},
   "source": [
    "Interpréter et/ou expliquer ce qui est présenté : "
   ]
  },
  {
   "cell_type": "markdown",
   "id": "f058a188-f89e-4398-913a-41dd48bebe2f",
   "metadata": {},
   "source": [
    "### féminisation : nombre d'événements féminins, nombre d'athlètes femme (et tendance à long terme)."
   ]
  },
  {
   "cell_type": "code",
   "execution_count": null,
   "id": "2c6d6cf8-0818-4815-9ee1-e76ff16e51a0",
   "metadata": {},
   "outputs": [],
   "source": []
  },
  {
   "cell_type": "raw",
   "id": "14285a22-838e-4261-bc6d-95b7f9f96bcd",
   "metadata": {},
   "source": [
    "Interpréter et/ou expliquer ce qui est présenté : "
   ]
  },
  {
   "cell_type": "markdown",
   "id": "851d8c8c-7954-4346-8bd2-90a926952e27",
   "metadata": {},
   "source": [
    "# Performance de l'équipe de votre choix"
   ]
  },
  {
   "cell_type": "code",
   "execution_count": null,
   "id": "31d1becf-5df3-4227-93ec-6f3fd83a1b5e",
   "metadata": {},
   "outputs": [],
   "source": []
  }
 ],
 "metadata": {
  "kernelspec": {
   "display_name": "Python 3 (ipykernel)",
   "language": "python",
   "name": "python3"
  },
  "language_info": {
   "codemirror_mode": {
    "name": "ipython",
    "version": 3
   },
   "file_extension": ".py",
   "mimetype": "text/x-python",
   "name": "python",
   "nbconvert_exporter": "python",
   "pygments_lexer": "ipython3",
   "version": "3.10.8"
  }
 },
 "nbformat": 4,
 "nbformat_minor": 5
}
